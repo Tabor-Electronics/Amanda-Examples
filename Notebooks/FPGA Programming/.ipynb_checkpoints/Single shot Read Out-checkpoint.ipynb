{
 "cells": [
  {
   "cell_type": "markdown",
   "metadata": {},
   "source": [
    "<img align=\"left\" src=\"https://www.taborelec.com/Pictures/logo.png\">"
   ]
  },
  {
   "cell_type": "markdown",
   "metadata": {},
   "source": [
    "# Single shot Read Out \n",
    "\n",
    "\n",
    "\n",
    "\n",
    "### The Signal generator is confige:<br>\n",
    "\n",
    " - SCLK: 6320MSas <br>\n",
    " - Segment length: 1920 points <br>\n",
    " - Channel 1 <br>\n",
    " - Sinuse wave form <br>\n",
    " - 4 points per cycle , 464 cycles, last 24 points 0 DC <br>\n",
    " - amplitude 0.5V (might be change) <br>\n",
    " - Task table define:<br>\n",
    "     - 1000 Raws\n",
    "     - Task 1   Enable signal = cpu\n",
    "                DTrigger = on \n",
    "                Next task 1 = 2\n",
    "     - Task 2-999 Trigger ADC = ON\n",
    "                Next task 1 = currentTask + 1   \n",
    "     - Task 1000 DTrigger = ON \n",
    "                Next task 1 = 1\n",
    "       \n",
    "### The Digitizer is confige:\n",
    "\n",
    " - Mode             : DUAL (default)<br>\n",
    " - Sample Rate      : 2.7GHz.<br>\n",
    " - DDC mode         : complex<br>\n",
    " - Trigger source   : CPU (internal)<br>\n",
    " - Center frequency :200 MHz<br>\n",
    " - Frame config     : # of frames  = 1000, Frame size = 830 <br>\n",
    " - Trigger source   : Task 1<br>\n",
    "\n",
    "\n",
    "### DSP Configuration:\n",
    "\n",
    "- IQ path input : AMPH\n",
    "- Decision frame: 50 points"
   ]
  },
  {
   "cell_type": "code",
   "execution_count": null,
   "metadata": {},
   "outputs": [],
   "source": [
    "import os\n",
    "import sys\n",
    "srcpath = os.path.realpath('../../SourceFiles')\n",
    "sys.path.append(srcpath)\n",
    "from teproteus import TEProteusAdmin as TepAdmin\n",
    "from teproteus import TEProteusInst as TepInst"
   ]
  },
  {
   "cell_type": "code",
   "execution_count": null,
   "metadata": {},
   "outputs": [],
   "source": [
    "#matplotlib notebook\n",
    "import numpy as np\n",
    "import time\n",
    "import ipywidgets as widgets\n",
    "from IPython.core.debugger import set_trace\n",
    "from scipy.signal import chirp, sweep_poly\n",
    "import matplotlib.pyplot as plt"
   ]
  },
  {
   "cell_type": "code",
   "execution_count": 3,
   "metadata": {},
   "outputs": [
    {
     "name": "stdout",
     "output_type": "stream",
     "text": [
      "Connected to: Tabor Electronics,P2584M,000000000000,0.0.0\n",
      "Model: P2584M\n",
      "DAC waveform format: 16 bits-per-point\n"
     ]
    }
   ],
   "source": [
    "# Connect to instrument\n",
    "admin = TepAdmin()\n",
    "    \n",
    "# Get list of available PXI slots\n",
    "slot_ids = admin.get_slot_ids()\n",
    "\n",
    "# Assume that at least one slot was found\n",
    "sid = slot_ids[0]\n",
    "\n",
    " # Open a single-slot instrument:\n",
    "inst = admin.open_instrument(slot_id=sid)\n",
    "\n",
    "# Get the instrument's *IDN\n",
    "resp = inst.send_scpi_query('*IDN?')\n",
    "print('Connected to: ' + resp)\n",
    "\n",
    "# Get the model name\n",
    "resp = inst.send_scpi_query(\":SYST:iNF:MODel?\")\n",
    "print(\"Model: \" + resp)\n",
    "\n",
    "# Infer the natural DAC waveform format\n",
    "if 'P9082' in resp:\n",
    "    dac_mode = 8\n",
    "else:\n",
    "    dac_mode = 16\n",
    "print(\"DAC waveform format: {0} bits-per-point\".format(dac_mode))\n",
    "\n",
    "if dac_mode == 16:\n",
    "    max_dac = 65535\n",
    "    data_type = np.uint16 \n",
    "else:\n",
    "    max_dac = 255\n",
    "    data_type = np.uint8 \n",
    "    \n",
    "half_dac = max_dac / 2.0"
   ]
  },
  {
   "cell_type": "code",
   "execution_count": 4,
   "metadata": {},
   "outputs": [
    {
     "name": "stderr",
     "output_type": "stream",
     "text": [
      "E:\\git\\Python-Examples\\SourceFiles\\teproteus.py:840: UserWarning: CMD: \":FREQ:RAST 6.320e9\", SYST:ERR: 204, data out of range in scpi\n",
      "  warnings.warn(wrnmsg)\n"
     ]
    },
    {
     "name": "stdout",
     "output_type": "stream",
     "text": [
      "0, no error\n"
     ]
    }
   ],
   "source": [
    "# Several initializations ..\n",
    "\n",
    "inst.default_paranoia_level = 2\n",
    "\n",
    "inst.send_scpi_cmd('*CLS; *RST')\n",
    "inst.send_scpi_cmd(':INST:CHAN 1')\n",
    "inst.send_scpi_cmd(':FREQ:RAST 6.320e9')\n",
    "inst.send_scpi_cmd(':INIT:CONT ON')\n",
    "inst.send_scpi_cmd(':TRAC:DEL:ALL')\n",
    "resp = inst.send_scpi_query(':SYST:ERR?')\n",
    "print(resp)"
   ]
  },
  {
   "cell_type": "code",
   "execution_count": 5,
   "metadata": {},
   "outputs": [
    {
     "name": "stdout",
     "output_type": "stream",
     "text": [
      "<class 'numpy.uint16'>\n",
      "Segment length 1920\n",
      "1920\n",
      "0, no error\n"
     ]
    },
    {
     "data": {
      "image/png": "[encoded data removed]",
      "text/plain": [
       "<Figure size 432x288 with 1 Axes>"
      ]
     },
     "metadata": {
      "needs_background": "light"
     },
     "output_type": "display_data"
    }
   ],
   "source": [
    "# Build two AWG segment that will be used as innput for the digitizer\n",
    "\n",
    "import math\n",
    "initDeg = 0\n",
    "NUM_OF_CYCLES = 474\n",
    "NUM_OF_SAMPLES = 4\n",
    "x = np.linspace(initDeg, initDeg + 2*NUM_OF_CYCLES*math.pi-(2*math.pi)/NUM_OF_SAMPLES, NUM_OF_CYCLES*NUM_OF_SAMPLES)\n",
    "\n",
    "x = np.concatenate((x, np.zeros(24)))\n",
    "sinWave_ext = (np.sin(x) + 1.0) * half_dac\n",
    "#sinWave_ext = np.concatenate((sinWave_ext, np.zeros(24)))\n",
    "sinWave_ext = np.round(sinWave_ext)\n",
    "sinWave_ext = np.clip(sinWave_ext, 0, max_dac)\n",
    "print(data_type)\n",
    "sinWave_ext = sinWave_ext.astype(data_type)\n",
    "\n",
    "segLen = len(sinWave_ext)\n",
    "print('Segment length {0}'.format(segLen))\n",
    "print(segLen)\n",
    "\n",
    "plt.figure(1)\n",
    "plt.plot(sinWave_ext)\n",
    "plt.ylabel('sin')\n",
    "\n",
    "# download it to segment 1 of channel 1\n",
    "inst.send_scpi_cmd(':INST:CHAN 1')\n",
    "inst.send_scpi_cmd(':TRAC:DEF 1,' + str(segLen))\n",
    "inst.send_scpi_cmd(':TRAC:SEL 1')\n",
    "\n",
    "\n",
    "# download the waveform to the selected segment\n",
    "inst.write_binary_data(':TRAC:DATA', sinWave_ext)\n",
    "\n",
    "inst.send_scpi_cmd(':SOUR:FUNC:MODE:SEGM 1')\n",
    "inst.send_scpi_cmd(':SOUR:VOLT 0.5')\n",
    "inst.send_scpi_cmd(':OUTP ON')\n",
    "\n",
    "resp = inst.send_scpi_query(':SYST:ERR?')\n",
    "print(resp)\n",
    "del sinWave_ext\n"
   ]
  },
  {
   "cell_type": "markdown",
   "metadata": {},
   "source": [
    "# Creating Task Table "
   ]
  },
  {
   "cell_type": "code",
   "execution_count": 6,
   "metadata": {},
   "outputs": [
    {
     "name": "stdout",
     "output_type": "stream",
     "text": [
      "Downloading Task table to channel 1\n",
      "0, no error\n"
     ]
    }
   ],
   "source": [
    "tasklen = 1000\n",
    "\n",
    "#Select channel\n",
    "cmd = ':INST:CHAN 1'\n",
    "inst.send_scpi_cmd(cmd )\n",
    "\n",
    "cmd = ':TASK:COMP:LENG {0}'.format(tasklen)\n",
    "inst.send_scpi_cmd(cmd )\n",
    "\n",
    "\n",
    "\n",
    "for i in range(tasklen):\n",
    "    curr_task = i+1\n",
    "    cmd = ':TASK:COMP:SEL {0}'.format(curr_task)\n",
    "    inst.send_scpi_cmd(cmd)\n",
    "    cmd = ':TASK:COMP:DTRigger ON'        \n",
    "    inst.send_scpi_cmd(cmd)\n",
    " \n",
    "    if curr_task == 1:  \n",
    "        cmd = ':TASK:COMP:ENAB CPU'\n",
    "        \n",
    "    if curr_task==tasklen:\n",
    "        cmd = ':TASK:COMP:NEXT1 {0}'.format(1)\n",
    "        inst.send_scpi_cmd(cmd)\n",
    "    else:\n",
    "        cmd = ':TASK:COMP:NEXT1 {0}'.format(curr_task+1)\n",
    "        inst.send_scpi_cmd(cmd )    \n",
    "\n",
    "    cmd = ':TASK:COMP:TYPE SING'\n",
    "    inst.send_scpi_cmd(cmd )\n",
    "\n",
    "    cmd = ':TASK:COMP:LOOP {0}'.format(1)\n",
    "    inst.send_scpi_cmd(cmd )\n",
    "\n",
    "    cmd = ':TASK:COMP:SEGM {0}'.format(1)\n",
    "    inst.send_scpi_cmd(cmd )\n",
    "\n",
    "    \n",
    "cmd = ':TASK:COMP:WRIT'\n",
    "inst.send_scpi_cmd(cmd)\n",
    "print('Downloading Task table to channel {0}'.format(1))\n",
    "\n",
    "cmd = ':INST:CHAN {0}'.format(1)\n",
    "inst.send_scpi_cmd(cmd)\n",
    "    \n",
    "cmd = ':OUTP ON'\n",
    "inst.send_scpi_cmd(cmd)\n",
    "\n",
    "cmd = 'FUNC:MODE TASK'\n",
    "inst.send_scpi_cmd(cmd)\n",
    "\n",
    "\n",
    "resp = inst.send_scpi_query(':SYST:ERR?')\n",
    "print(resp)\n"
   ]
  },
  {
   "cell_type": "markdown",
   "metadata": {},
   "source": [
    "## Setup Digitizer"
   ]
  },
  {
   "cell_type": "code",
   "execution_count": 7,
   "metadata": {},
   "outputs": [
    {
     "name": "stdout",
     "output_type": "stream",
     "text": [
      "0, no error\n",
      "Set Digitizer: DUAL mode; ADC Trigger\n"
     ]
    }
   ],
   "source": [
    "# Setup the digitizer in two-channels mode\n",
    "inst.send_scpi_cmd(':DIG:MODE DUAL')\n",
    "\n",
    "# Set SCLK digitizer \n",
    "inst.send_scpi_cmd(':DIG:FREQ 2700MHz')\n",
    "\n",
    "# Set DDC mode to complex\n",
    "inst.send_scpi_cmd(':DIG:DDC:MODE COMPlex')\n",
    "\n",
    "# Set center frequency of channel 1 to 200MHz\n",
    "inst.send_scpi_cmd(':DIG:DDC:CFR1 200e6')\n",
    "\n",
    "# Allocate 1000 frames of 864 samples\n",
    "numframes, framelen = 1000, 864\n",
    "cmd = ':DIG:ACQuire:FRAM:DEF {0},{1}'.format(numframes, framelen)\n",
    "inst.send_scpi_cmd(cmd)\n",
    "\n",
    "# Select the frames for the capturing \n",
    "capture_first, capture_count = 1, numframes\n",
    "cmd = \":DIG:ACQuire:FRAM:CAPT {0},{1}\".format(capture_first, capture_count)\n",
    "inst.send_scpi_cmd(cmd)\n",
    "\n",
    "# Enable capturing data from channel 1\n",
    "inst.send_scpi_cmd(':DIG:CHAN:SEL 1')\n",
    "inst.send_scpi_cmd(':DIG:CHAN:STATE ENAB')\n",
    "\n",
    "# Select the internal-trigger as start-capturing trigger:\n",
    "inst.send_scpi_cmd(':DIG:TRIG:SOURCE TASK1')\n",
    "\n",
    "# Set Trigger AWG delay to 0\n",
    "inst.send_scpi_cmd(':DIG:TRIG:DEL {0}'.format(1))\n",
    "\n",
    "# Clean memory \n",
    "inst.send_scpi_cmd(':DIG:ACQ:ZERO:ALL')\n",
    "\n",
    "resp = inst.send_scpi_query(':SYST:ERR?')\n",
    "print(resp)\n",
    "print(\"Set Digitizer: DUAL mode; ADC Trigger\")\n"
   ]
  },
  {
   "cell_type": "markdown",
   "metadata": {},
   "source": [
    "## Setup DSP"
   ]
  },
  {
   "cell_type": "code",
   "execution_count": 8,
   "metadata": {},
   "outputs": [
    {
     "name": "stdout",
     "output_type": "stream",
     "text": [
      "0, no error\n",
      "0, no error\n",
      "0, no error\n",
      "0, no error\n"
     ]
    }
   ],
   "source": [
    "# Select to store the IQ data\n",
    "inst.send_scpi_cmd(':DSP:STOR1 DSP1')\n",
    "resp = inst.send_scpi_query(':SYST:ERR?')\n",
    "print(resp)\n",
    "\n",
    "# Set IQ PATH Input to AMPH\n",
    "inst.send_scpi_cmd(':DSP:DEC:IQP:SEL 1')\n",
    "resp = inst.send_scpi_query(':SYST:ERR?')\n",
    "print(resp)\n",
    "inst.send_scpi_cmd(':DSP:DEC:IQP:INP AMPH')\n",
    "resp = inst.send_scpi_query(':SYST:ERR?')\n",
    "print(resp)\n",
    "# Set Decision frame size 50 points\n",
    "inst.send_scpi_cmd(':DSP:DEC:FRAM {0}'.format(50))\n",
    "resp = inst.send_scpi_query(':SYST:ERR?')\n",
    "print(resp)\n"
   ]
  },
  {
   "cell_type": "markdown",
   "metadata": {},
   "source": [
    "## Acquire signals into Memory"
   ]
  },
  {
   "cell_type": "code",
   "execution_count": 9,
   "metadata": {},
   "outputs": [
    {
     "name": "stdout",
     "output_type": "stream",
     "text": [
      "Waiting to recive enter to generate trigger - press Enter to start trigger\n",
      "\n",
      "0, no error\n"
     ]
    }
   ],
   "source": [
    "# Stop the digitizer's capturing machine (to be on the safe side)\n",
    "inst.send_scpi_cmd(':DIG:INIT OFF')\n",
    "\n",
    "# Start the digitizer's capturing machine\n",
    "inst.send_scpi_cmd(':DIG:INIT ON')\n",
    "print(\"Waiting to recive enter to generate trigger - press Enter to start trigger\")\n",
    "input()\n",
    "\n",
    "inst.send_scpi_cmd('*TRG')\n",
    "resp = inst.send_scpi_query(':SYST:ERR?')\n",
    "print(resp)"
   ]
  },
  {
   "cell_type": "markdown",
   "metadata": {},
   "source": [
    "## Read all frames from Memory"
   ]
  },
  {
   "cell_type": "code",
   "execution_count": 10,
   "metadata": {},
   "outputs": [
    {
     "name": "stdout",
     "output_type": "stream",
     "text": [
      "Total size in bytes: 1728000\n",
      "\n",
      "0, no error\n",
      "read data from DDR\n"
     ]
    }
   ],
   "source": [
    "# Choose which frames to read (all in this example)\n",
    "inst.send_scpi_cmd(':DIG:DATA:SEL ALL')\n",
    "\n",
    "# Choose what to read \n",
    "# (only the frame-data without the header in this example)\n",
    "inst.send_scpi_cmd(':DIG:DATA:TYPE FRAM')\n",
    "\n",
    "# Get the total data size (in bytes)\n",
    "resp = inst.send_scpi_query(':DIG:DATA:SIZE?')\n",
    "num_bytes = np.uint32(resp)\n",
    "print('Total size in bytes: ' + resp)\n",
    "print()\n",
    "\n",
    "# Read the data that was captured by channel 1:\n",
    "inst.send_scpi_cmd(':DIG:CHAN:SEL 1')\n",
    "\n",
    "wavlen = num_bytes // 2\n",
    "\n",
    "wav1 = np.zeros(wavlen, dtype=np.uint16)\n",
    "\n",
    "rc = inst.read_binary_data(':DIG:DATA:READ?', wav1, num_bytes)\n",
    "\n",
    "resp = inst.send_scpi_query(':SYST:ERR?')\n",
    "print(resp)\n",
    "print(\"read data from DDR\")\n"
   ]
  },
  {
   "cell_type": "markdown",
   "metadata": {},
   "source": [
    "## Plot Signals  - Need to fix, need to be x-y graph"
   ]
  },
  {
   "cell_type": "code",
   "execution_count": 11,
   "metadata": {},
   "outputs": [
    {
     "data": {
      "image/png": "[encoded data removed]",
      "text/plain": [
       "<Figure size 432x288 with 1 Axes>"
      ]
     },
     "metadata": {
      "needs_background": "light"
     },
     "output_type": "display_data"
    }
   ],
   "source": [
    "# Plot the samples\n",
    "\n",
    "totlen = numframes * framelen\n",
    "x = range(numframes * framelen)\n",
    "plt.figure(1)\n",
    "ax1 = plt.subplot(211)\n",
    "ax1.set_xticks(np.arange(0, totlen, framelen))\n",
    "ax1.grid(True)\n",
    "#ax1.plot(x, wav1)\n",
    "ax1.set_ylabel('CH1')\n",
    "\n",
    "plt.scatter(x, wav1)\n",
    "plt.show()\n",
    "\n",
    "\n"
   ]
  },
  {
   "cell_type": "code",
   "execution_count": null,
   "metadata": {},
   "outputs": [],
   "source": [
    "# close connection\n",
    "inst.close_instrument()\n",
    "admin.close_inst_admin()"
   ]
  }
 ],
 "metadata": {
  "kernelspec": {
   "display_name": "Python 3",
   "language": "python",
   "name": "python3"
  },
  "language_info": {
   "codemirror_mode": {
    "name": "ipython",
    "version": 3
   },
   "file_extension": ".py",
   "mimetype": "text/x-python",
   "name": "python",
   "nbconvert_exporter": "python",
   "pygments_lexer": "ipython3",
   "version": "3.8.5"
  }
 },
 "nbformat": 4,
 "nbformat_minor": 4
}
