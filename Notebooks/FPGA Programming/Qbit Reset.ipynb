{
 "cells": [
  {
   "cell_type": "markdown",
   "metadata": {},
   "source": [
    "<img align=\"left\" src=\"https://www.taborelec.com/Pictures/logo.png\">"
   ]
  },
  {
   "cell_type": "markdown",
   "metadata": {},
   "source": [
    "### Qbit Reset \n",
    "\n",
    "Generator configuration \n",
    "\n",
    "Set SCLK – 8666MSas \n",
    "\n",
    "Define segment 1 – 128 points \n",
    "\n",
    "Define segment 2 – 448 points \n",
    "\n",
    "Download DC waveform to segment 1 \n",
    "\n",
    "Download Pi Pulse to segment 2  \n",
    "\n",
    "Create task table of 4 lines: \n",
    "\n",
    "Task 1 - \tEnable Signal =\t\tCPU \n",
    "\n",
    "Segment Number =\t1 \n",
    "\n",
    "Next task 1 =\t\t2 \n",
    "\n",
    " \n",
    "\n",
    "Task 2 -\t\tSegment number =\t2 \n",
    "\n",
    "Destination =\t\tDSIG \n",
    "\n",
    "Next task 1 =\t\t2 \n",
    "\n",
    "DTrigger  =\t\tON \n",
    "\n",
    "Next task 2 =\t\t3 \n",
    "\n",
    " \n",
    "\n",
    "Task 3\t\tSegment number =\t1 \t \n",
    "\n",
    "Next task 1 =\t\t4 \n",
    "\n",
    " \n",
    "\n",
    "Task 3\t\tSegment number =\t1 \t \n",
    "\n",
    "Next task 1 =\t\tEND\t\t \n",
    "\n",
    " \n",
    "\n",
    "Digitizer Configuration \n",
    "\n",
    "Set SCLK – 2700MHz \n",
    "\n",
    "Set DDC mode to REAL \n",
    "\n",
    "Set center frequency of channel 1 to 200MHz \n",
    "\n",
    "Define Frame configuration –\tNumber of frames = 1 \n",
    "\n",
    "Frame size = 144 points \n",
    "\n",
    "Set Trigger Source to TASK1 \n",
    "\n",
    "Set Trigger AWG delay  \n",
    "\n",
    "Set capture frames to all \n",
    "\n",
    "DSP Configuration \n",
    "\n",
    "Select to store the Direct data \n",
    "\n",
    "Set Decision Mapping – CH1, RES1 \n",
    "\n",
    "Set Decision frame size 50 points \n",
    "\n",
    "Set Decision QRESET – \tSelect DDC1, KER1 \n",
    "\n",
    "Set Threshold \n",
    "\n",
    "Set Kernel Length \n",
    "\n",
    "Set Kernel BIAS \n",
    "\n",
    "Download Kernel Data \n",
    "\n",
    "CPU trigger to start \n",
    "\n"
   ]
  },
  {
   "cell_type": "code",
   "execution_count": 3,
   "metadata": {},
   "outputs": [],
   "source": [
    "import os\n",
    "import sys\n",
    "srcpath = os.path.realpath('../../SourceFiles')\n",
    "sys.path.append(srcpath)\n",
    "from teproteus import TEProteusAdmin as TepAdmin\n",
    "from teproteus import TEProteusInst as TepInst"
   ]
  },
  {
   "cell_type": "code",
   "execution_count": 4,
   "metadata": {},
   "outputs": [],
   "source": [
    "#matplotlib notebook\n",
    "import numpy as np\n",
    "import time\n",
    "import ipywidgets as widgets\n",
    "from IPython.core.debugger import set_trace\n",
    "from scipy.signal import chirp, sweep_poly\n",
    "import matplotlib.pyplot as plt\n",
    "from scipy import signal\n",
    "import math"
   ]
  },
  {
   "cell_type": "code",
   "execution_count": 5,
   "metadata": {},
   "outputs": [],
   "source": [
    "SCLK = 8.666e9\n",
    "SEG_LEN1 = 128\n",
    "SEG_LEN2 = 448"
   ]
  },
  {
   "cell_type": "code",
   "execution_count": 6,
   "metadata": {},
   "outputs": [
    {
     "name": "stdout",
     "output_type": "stream",
     "text": [
      "Connected to: Tabor Electronics,P2584M,000000000000,0.0.0\n",
      "Model: P2584M\n",
      "DAC waveform format: 16 bits-per-point\n"
     ]
    }
   ],
   "source": [
    "# Connect to instrument\n",
    "admin = TepAdmin()\n",
    "    \n",
    "# Get list of available PXI slots\n",
    "slot_ids = admin.get_slot_ids()\n",
    "\n",
    "# Assume that at least one slot was found\n",
    "sid = slot_ids[0]\n",
    "\n",
    " # Open a single-slot instrument:\n",
    "inst = admin.open_instrument(slot_id=sid)\n",
    "\n",
    "# Get the instrument's *IDN\n",
    "resp = inst.send_scpi_query('*IDN?')\n",
    "print('Connected to: ' + resp)\n",
    "\n",
    "# Get the model name\n",
    "resp = inst.send_scpi_query(\":SYST:iNF:MODel?\")\n",
    "print(\"Model: \" + resp)\n",
    "\n",
    "# Infer the natural DAC waveform format\n",
    "if 'P9082' in resp:\n",
    "    dac_mode = 8\n",
    "else:\n",
    "    dac_mode = 16\n",
    "print(\"DAC waveform format: {0} bits-per-point\".format(dac_mode))\n",
    "\n",
    "\n",
    "if dac_mode == 16:\n",
    "    max_dac = 65535\n",
    "    data_type = np.uint16 \n",
    "else:\n",
    "    max_dac = 255\n",
    "    data_type = np.uint8 \n",
    "    \n",
    "half_dac = max_dac / 2.0\n",
    "\n"
   ]
  },
  {
   "cell_type": "code",
   "execution_count": 8,
   "metadata": {},
   "outputs": [
    {
     "name": "stdout",
     "output_type": "stream",
     "text": [
      "0, no error\n"
     ]
    }
   ],
   "source": [
    "# Several initializations ..\n",
    "\n",
    "inst.default_paranoia_level = 2\n",
    "\n",
    "inst.send_scpi_cmd('*CLS; *RST')\n",
    "inst.send_scpi_cmd(':INST:CHAN 1')\n",
    "inst.send_scpi_cmd(':FREQ:RAST {0}'.format(SCLK))\n",
    "inst.send_scpi_cmd(':INIT:CONT ON')\n",
    "inst.send_scpi_cmd(':TRAC:DEL:ALL')\n",
    "inst.send_scpi_cmd(':TRAC:ZERO 1')\n",
    "resp = inst.send_scpi_query(':SYST:ERR?')\n",
    "print(resp)"
   ]
  },
  {
   "cell_type": "code",
   "execution_count": null,
   "metadata": {},
   "outputs": [],
   "source": []
  },
  {
   "cell_type": "code",
   "execution_count": null,
   "metadata": {},
   "outputs": [],
   "source": []
  },
  {
   "cell_type": "code",
   "execution_count": 66,
   "metadata": {},
   "outputs": [
    {
     "data": {
      "text/plain": [
       "[<matplotlib.lines.Line2D at 0x1e2c29925e0>]"
      ]
     },
     "execution_count": 66,
     "metadata": {},
     "output_type": "execute_result"
    },
    {
     "data": {
      "image/png": "[encoded data removed]",
      "text/plain": [
       "<Figure size 432x288 with 1 Axes>"
      ]
     },
     "metadata": {
      "needs_background": "light"
     },
     "output_type": "display_data"
    }
   ],
   "source": [
    "# Build a AWG segment that will be used as innput for the digitizer\n",
    "\n",
    "# build sine wave\n",
    "initDeg = 0\n",
    "NUM_OF_CYCLES = 112\n",
    "NUM_OF_SAMPLES = 4\n",
    "SCLK = 8.666e9\n",
    "NUM_OF_POINTS = NUM_OF_CYCLES * NUM_OF_SAMPLES \n",
    "SEG_LEN = NUM_OF_POINTS\n",
    "\n",
    "#sine wave\n",
    "x = np.linspace(initDeg, initDeg + 2*NUM_OF_CYCLES*math.pi-(2*math.pi)/NUM_OF_SAMPLES, NUM_OF_POINTS)\n",
    "sinWave = (np.sin(x)) * half_dac\n",
    "\n",
    "plt.plot(x, sinWave, '-')"
   ]
  },
  {
   "cell_type": "code",
   "execution_count": 67,
   "metadata": {},
   "outputs": [
    {
     "data": {
      "text/plain": [
       "[<matplotlib.lines.Line2D at 0x1e2c39bab80>]"
      ]
     },
     "execution_count": 67,
     "metadata": {},
     "output_type": "execute_result"
    },
    {
     "data": {
      "image/png": "[encoded data removed]",
      "text/plain": [
       "<Figure size 432x288 with 1 Axes>"
      ]
     },
     "metadata": {
      "needs_background": "light"
     },
     "output_type": "display_data"
    }
   ],
   "source": [
    "# gaussian wave form \n",
    "t = np.linspace(-1, 1, NUM_OF_POINTS, endpoint=False)\n",
    "f = SCLK/NUM_OF_POINTS\n",
    "#print('fc {0}'.format(f))\n",
    "i, q, e = signal.gausspulse(t, fc=3, retquad=True, retenv=True)\n",
    "gaussian = (e)* half_dac\n",
    "plt.plot(t, gaussian, '-')"
   ]
  },
  {
   "cell_type": "code",
   "execution_count": null,
   "metadata": {},
   "outputs": [],
   "source": []
  },
  {
   "cell_type": "code",
   "execution_count": 68,
   "metadata": {},
   "outputs": [
    {
     "name": "stdout",
     "output_type": "stream",
     "text": [
      "[    0 45249     0 28823     0 36255     0 20617     0 63866     0 36681\n",
      "     0  6859     0   527     0  8459     0 29767     0 18017     0 42429\n",
      "     0 53645     0 18586     0  6152     0 65325     0 32859     0 22906\n",
      "     0 33947     0 53927     0 46352     0 52811     0 47864     0 38311\n",
      "     0 23360     0 21742     0 31039     0  6307     0  6451     0 52024\n",
      "     0 25205     0 13078     0 41275     0 61732     0 18349     0 32788\n",
      "     0 60980     0 13459     0 21179     0 16026     0 22204     0 44050\n",
      "     0 64484     0 27894     0 24346     0 22826     0 45510     0 14367\n",
      "     0 12601     0 51816     0  7194     0 54597     0 42468     0 12315\n",
      "     0 59513     0 54218     0 54269     0 60316     0  7457     0 59287\n",
      "     0 10837     0 36798     0    51     0  6093     0 11708     0 13022\n",
      "     0 47364     0  9793     0  3318     0 56039     0 59644     0 60546\n",
      "     0 21305     0 46515     0 36399     0 22633     0  4730     0 49629\n",
      "     0 36178     0 43387     0 58444     0 35402     0 16092     0 38533\n",
      "     0  5552     0 42301     0 18442     0  6685     0 14020     0 51111\n",
      "     0 58550     0 52327     0  7095     0 27625     0 38258     0 58468\n",
      "     0  9966     0 16969     0 60832     0 13035     0 31907     0 55224\n",
      "     0  2236     0 39773     0 37297     0  2632     0  1947     0 45010\n",
      "     0 27379     0 63811     0 58935     0  8125     0 57411     0  6601\n",
      "     0  1725     0 38157     0 20526     0 63589     0 62904     0 28239\n",
      "     0 25763     0 63300     0 10312     0 33629     0 52501     0  4704\n",
      "     0 48567     0 55570     0  7068     0 27278     0 37911     0 58441\n",
      "     0 13209     0  6986     0 14425     0 51516     0 58851     0 47094\n",
      "     0 23235     0 59984     0 27003     0 49444     0 30134     0  7092\n",
      "     0 22149     0 29358     0 15907     0 60806     0 42903     0 29137\n",
      "     0 19021     0 44231     0  4990     0  5892     0  9497     0 62218\n",
      "     0 55743     0 18172     0 52514     0 53828     0 59443     0 65485\n",
      "     0 28738     0 54699     0  6249     0 58079     0  5220     0 11267\n",
      "     0 11318     0  6023     0 53221     0 23068     0 10939     0 58342\n",
      "     0 13720     0 52935     0 51169     0 20026     0 42710     0 41190\n",
      "     0 37642     0  1052     0 21486     0 43332     0 49510     0 44357\n",
      "     0 52077     0  4556     0 32748     0 47187     0  3804     0 24261\n",
      "     0 52458     0 40331     0 13512     0 59085     0 59229     0 34497\n",
      "     0 43794     0 42176     0 27225     0 17672     0 12725     0 19184\n",
      "     0 11609     0 31589     0 42630     0 32677     0   211     0 59384\n",
      "     0 46950     0 11891     0 23107     0 47519     0 35769     0 57077\n",
      "     0 65009     0 58677     0 28855     0  1670     0 44919     0 29281\n",
      "     0 36713     0 20287]\n",
      "448\n"
     ]
    },
    {
     "data": {
      "text/plain": [
       "[<matplotlib.lines.Line2D at 0x1e2c3a1e940>]"
      ]
     },
     "execution_count": 68,
     "metadata": {},
     "output_type": "execute_result"
    },
    {
     "data": {
      "image/png": "[encoded data removed]",
      "text/plain": [
       "<Figure size 432x288 with 1 Axes>"
      ]
     },
     "metadata": {
      "needs_background": "light"
     },
     "output_type": "display_data"
    }
   ],
   "source": [
    "\n",
    "wave = [a*b for a,b in zip(sinWave,gaussian)]\n",
    "wave = np.round(wave)\n",
    "wave = wave.astype(data_type)\n",
    "wave = np.clip(wave, 0, max_dac)\n",
    "print(wave)\n",
    "print(wave.size)\n",
    "plt.plot(t, wave, '-')"
   ]
  },
  {
   "cell_type": "code",
   "execution_count": 69,
   "metadata": {},
   "outputs": [
    {
     "name": "stdout",
     "output_type": "stream",
     "text": [
      "====\n",
      "[    0 45249     0 28823     0 36255     0 20617     0 63866     0 36681\n",
      "     0  6859     0   527     0  8459     0 29767     0 18017     0 42429\n",
      "     0 53645     0 18586     0  6152     0 65325     0 32859     0 22906\n",
      "     0 33947     0 53927     0 46352     0 52811     0 47864     0 38311\n",
      "     0 23360     0 21742     0 31039     0  6307     0  6451     0 52024\n",
      "     0 25205     0 13078     0 41275     0 61732     0 18349     0 32788\n",
      "     0 60980     0 13459     0 21179     0 16026     0 22204     0 44050\n",
      "     0 64484     0 27894     0 24346     0 22826     0 45510     0 14367\n",
      "     0 12601     0 51816     0  7194     0 54597     0 42468     0 12315\n",
      "     0 59513     0 54218     0 54269     0 60316     0  7457     0 59287\n",
      "     0 10837     0 36798     0    51     0  6093     0 11708     0 13022\n",
      "     0 47364     0  9793     0  3318     0 56039     0 59644     0 60546\n",
      "     0 21305     0 46515     0 36399     0 22633     0  4730     0 49629\n",
      "     0 36178     0 43387     0 58444     0 35402     0 16092     0 38533\n",
      "     0  5552     0 42301     0 18442     0  6685     0 14020     0 51111\n",
      "     0 58550     0 52327     0  7095     0 27625     0 38258     0 58468\n",
      "     0  9966     0 16969     0 60832     0 13035     0 31907     0 55224\n",
      "     0  2236     0 39773     0 37297     0  2632     0  1947     0 45010\n",
      "     0 27379     0 63811     0 58935     0  8125     0 57411     0  6601\n",
      "     0  1725     0 38157     0 20526     0 63589     0 62904     0 28239\n",
      "     0 25763     0 63300     0 10312     0 33629     0 52501     0  4704\n",
      "     0 48567     0 55570     0  7068     0 27278     0 37911     0 58441\n",
      "     0 13209     0  6986     0 14425     0 51516     0 58851     0 47094\n",
      "     0 23235     0 59984     0 27003     0 49444     0 30134     0  7092\n",
      "     0 22149     0 29358     0 15907     0 60806     0 42903     0 29137\n",
      "     0 19021     0 44231     0  4990     0  5892     0  9497     0 62218\n",
      "     0 55743     0 18172     0 52514     0 53828     0 59443     0 65485\n",
      "     0 28738     0 54699     0  6249     0 58079     0  5220     0 11267\n",
      "     0 11318     0  6023     0 53221     0 23068     0 10939     0 58342\n",
      "     0 13720     0 52935     0 51169     0 20026     0 42710     0 41190\n",
      "     0 37642     0  1052     0 21486     0 43332     0 49510     0 44357\n",
      "     0 52077     0  4556     0 32748     0 47187     0  3804     0 24261\n",
      "     0 52458     0 40331     0 13512     0 59085     0 59229     0 34497\n",
      "     0 43794     0 42176     0 27225     0 17672     0 12725     0 19184\n",
      "     0 11609     0 31589     0 42630     0 32677     0   211     0 59384\n",
      "     0 46950     0 11891     0 23107     0 47519     0 35769     0 57077\n",
      "     0 65009     0 58677     0 28855     0  1670     0 44919     0 29281\n",
      "     0 36713     0 20287]\n",
      "0, no error\n"
     ]
    }
   ],
   "source": [
    "# download it to segment 1 of channel 1\n",
    "inst.send_scpi_cmd(':INST:CHAN 1')\n",
    "inst.send_scpi_cmd(':TRAC:DEF 1,' + str(SEG_LEN1))\n",
    "inst.send_scpi_cmd(':TRAC:SEL 1')\n",
    "\n",
    "#print('wave size: {0}'.format(SEG_LEN1))\n",
    "print('====')\n",
    "print(wave)\n",
    "# download the waveform to the selected segment\n",
    "inst.write_binary_data(':TRAC:DATA', wave)\n",
    "\n",
    "inst.send_scpi_cmd(':SOUR:FUNC:MODE:SEGM 1')\n",
    "inst.send_scpi_cmd(':SOUR:VOLT 0.5')\n",
    "inst.send_scpi_cmd(':OUTP ON')\n",
    "\n",
    "resp = inst.send_scpi_query(':SYST:ERR?')\n",
    "print(resp)\n",
    "\n",
    "del sinWave, wave, e, i, q\n"
   ]
  },
  {
   "cell_type": "markdown",
   "metadata": {},
   "source": [
    "# Creating Task Table \n",
    "\n"
   ]
  },
  {
   "cell_type": "code",
   "execution_count": 10,
   "metadata": {},
   "outputs": [
    {
     "name": "stdout",
     "output_type": "stream",
     "text": [
      "Downloading Task table to channel 1\n",
      "0, no error\n"
     ]
    }
   ],
   "source": [
    "tasklen = 1\n",
    "\n",
    "#Select channel\n",
    "cmd = ':INST:CHAN 1'\n",
    "inst.send_scpi_cmd(cmd )\n",
    "\n",
    "cmd = ':TASK:COMP:LENG {0}'.format(tasklen)\n",
    "inst.send_scpi_cmd(cmd )\n",
    "\n",
    "\n",
    "\n",
    "for i in range(tasklen):\n",
    "    curr_task = i+1\n",
    "    cmd = ':TASK:COMP:SEL {0}'.format(curr_task)\n",
    "    inst.send_scpi_cmd(cmd)\n",
    "    cmd = ':TASK:COMP:DTRigger ON'        \n",
    "    inst.send_scpi_cmd(cmd)\n",
    " \n",
    "    if curr_task == 1:  \n",
    "        cmd = ':TASK:COMP:ENAB CPU'\n",
    "        \n",
    "    if curr_task==tasklen:\n",
    "        cmd = ':TASK:COMP:NEXT1 {0}'.format(1)\n",
    "        inst.send_scpi_cmd(cmd)\n",
    "    else:\n",
    "        cmd = ':TASK:COMP:NEXT1 {0}'.format(curr_task+1)\n",
    "        inst.send_scpi_cmd(cmd )    \n",
    "\n",
    "    cmd = ':TASK:COMP:TYPE SING'\n",
    "    inst.send_scpi_cmd(cmd )\n",
    "\n",
    "    cmd = ':TASK:COMP:LOOP {0}'.format(1)\n",
    "    inst.send_scpi_cmd(cmd )\n",
    "\n",
    "    cmd = ':TASK:COMP:SEGM {0}'.format(1)\n",
    "    inst.send_scpi_cmd(cmd )\n",
    "\n",
    "    \n",
    "cmd = ':TASK:COMP:WRIT'\n",
    "inst.send_scpi_cmd(cmd)\n",
    "print('Downloading Task table to channel {0}'.format(1))\n",
    "\n",
    "cmd = ':INST:CHAN {0}'.format(1)\n",
    "inst.send_scpi_cmd(cmd)\n",
    "    \n",
    "cmd = ':OUTP ON'\n",
    "inst.send_scpi_cmd(cmd)\n",
    "\n",
    "cmd = 'FUNC:MODE TASK'\n",
    "inst.send_scpi_cmd(cmd)\n",
    "\n",
    "\n",
    "resp = inst.send_scpi_query(':SYST:ERR?')\n",
    "print(resp)\n"
   ]
  },
  {
   "cell_type": "markdown",
   "metadata": {},
   "source": [
    "## Setup Digitizer"
   ]
  },
  {
   "cell_type": "code",
   "execution_count": null,
   "metadata": {},
   "outputs": [],
   "source": [
    "# Setup the digitizer in two-channels mode\n",
    "inst.send_scpi_cmd(':DIG:MODE DUAL')\n",
    "\n",
    "# Set SCLK digitizer \n",
    "inst.send_scpi_cmd(':DIG:FREQ 2700MHz')\n",
    "\n",
    "# Set DDC mode to complex\n",
    "inst.send_scpi_cmd(':DIG:DDC:MODE COMPlex')\n",
    "\n",
    "# Set center frequency of channel 1 to 200MHz\n",
    "inst.send_scpi_cmd(':DIG:DDC:CFR1 200e6')\n",
    "\n",
    "# Allocate 1000 frames of 864 samples\n",
    "numframes, framelen = 1000, 864\n",
    "cmd = ':DIG:ACQuire:FRAM:DEF {0},{1}'.format(numframes, framelen)\n",
    "inst.send_scpi_cmd(cmd)\n",
    "\n",
    "# Select the frames for the capturing \n",
    "capture_first, capture_count = 1, numframes\n",
    "cmd = \":DIG:ACQuire:FRAM:CAPT {0},{1}\".format(capture_first, capture_count)\n",
    "inst.send_scpi_cmd(cmd)\n",
    "\n",
    "# Enable capturing data from channel 1\n",
    "inst.send_scpi_cmd(':DIG:CHAN:SEL 1')\n",
    "inst.send_scpi_cmd(':DIG:CHAN:STATE ENAB')\n",
    "\n",
    "# Select the internal-trigger as start-capturing trigger:\n",
    "inst.send_scpi_cmd(':DIG:TRIG:SOURCE TASK1')\n",
    "\n",
    "# Set Trigger AWG delay to 0\n",
    "inst.send_scpi_cmd(':DIG:TRIG:DEL {0}'.format(1))\n",
    "\n",
    "# Clean memory \n",
    "inst.send_scpi_cmd(':DIG:ACQ:ZERO:ALL')\n",
    "\n",
    "resp = inst.send_scpi_query(':SYST:ERR?')\n",
    "print(resp)\n",
    "print(\"Set Digitizer: DUAL mode; ADC Trigger\")\n"
   ]
  },
  {
   "cell_type": "markdown",
   "metadata": {},
   "source": [
    "## Setup DSP"
   ]
  },
  {
   "cell_type": "code",
   "execution_count": null,
   "metadata": {},
   "outputs": [],
   "source": [
    "# Select to store the IQ data\n",
    "inst.send_scpi_cmd(':DSP:STOR1 DSP1')\n",
    "resp = inst.send_scpi_query(':SYST:ERR?')\n",
    "print(resp)\n",
    "\n",
    "# Set IQ PATH Input to AMPH\n",
    "inst.send_scpi_cmd(':DSP:DEC:IQP:SEL 1')\n",
    "resp = inst.send_scpi_query(':SYST:ERR?')\n",
    "print(resp)\n",
    "inst.send_scpi_cmd(':DSP:DEC:IQP:INP AMPH')\n",
    "resp = inst.send_scpi_query(':SYST:ERR?')\n",
    "print(resp)\n",
    "# Set Decision frame size 50 points\n",
    "inst.send_scpi_cmd(':DSP:DEC:FRAM {0}'.format(50))\n",
    "resp = inst.send_scpi_query(':SYST:ERR?')\n",
    "print(resp)"
   ]
  },
  {
   "cell_type": "markdown",
   "metadata": {},
   "source": [
    "## Acquire signals into Memory"
   ]
  },
  {
   "cell_type": "code",
   "execution_count": null,
   "metadata": {},
   "outputs": [],
   "source": [
    "# Stop the digitizer's capturing machine (to be on the safe side)\n",
    "inst.send_scpi_cmd(':DIG:INIT OFF')\n",
    "\n",
    "# Start the digitizer's capturing machine\n",
    "inst.send_scpi_cmd(':DIG:INIT ON')\n",
    "print(\"Waiting to recive enter to generate trigger - press Enter to start trigger\")\n",
    "input()\n",
    "\n",
    "inst.send_scpi_cmd('*TRG')\n",
    "resp = inst.send_scpi_query(':SYST:ERR?')\n",
    "print(resp)"
   ]
  },
  {
   "cell_type": "markdown",
   "metadata": {},
   "source": [
    "## Read all frames from Memory"
   ]
  },
  {
   "cell_type": "code",
   "execution_count": null,
   "metadata": {},
   "outputs": [],
   "source": [
    "# Choose which frames to read (all in this example)\n",
    "inst.send_scpi_cmd(':DIG:DATA:SEL ALL')\n",
    "\n",
    "# Choose what to read \n",
    "# (only the frame-data without the header in this example)\n",
    "inst.send_scpi_cmd(':DIG:DATA:TYPE FRAM')\n",
    "\n",
    "# Get the total data size (in bytes)\n",
    "resp = inst.send_scpi_query(':DIG:DATA:SIZE?')\n",
    "num_bytes = np.uint32(resp)\n",
    "print('Total size in bytes: ' + resp)\n",
    "print()\n",
    "\n",
    "# Read the data that was captured by channel 1:\n",
    "inst.send_scpi_cmd(':DIG:CHAN:SEL 1')\n",
    "\n",
    "wavlen = num_bytes // 2\n",
    "\n",
    "wav1 = np.zeros(wavlen, dtype=np.uint16)\n",
    "\n",
    "rc = inst.read_binary_data(':DIG:DATA:READ?', wav1, num_bytes)\n",
    "\n",
    "resp = inst.send_scpi_query(':SYST:ERR?')\n",
    "print(resp)\n",
    "print(\"read data from DDR\")\n"
   ]
  },
  {
   "cell_type": "markdown",
   "metadata": {},
   "source": [
    "## Plot Signals  - Need to fix, need to be x-y graph"
   ]
  },
  {
   "cell_type": "code",
   "execution_count": null,
   "metadata": {},
   "outputs": [],
   "source": [
    "# Plot the samples\n",
    "totlen = numframes * framelen\n",
    "x = range(numframes * framelen)\n",
    "plt.figure(1)\n",
    "ax1 = plt.subplot(211)\n",
    "ax1.set_xticks(np.arange(0, totlen, framelen))\n",
    "ax1.grid(True)\n",
    "ax1.plot(x, wav1)\n",
    "ax1.set_ylabel('CH1')\n",
    "\n",
    "plt.show()"
   ]
  },
  {
   "cell_type": "code",
   "execution_count": null,
   "metadata": {},
   "outputs": [],
   "source": [
    "# close connection\n",
    "inst.close_instrument()\n",
    "admin.close_inst_admin()"
   ]
  },
  {
   "cell_type": "code",
   "execution_count": null,
   "metadata": {},
   "outputs": [],
   "source": []
  },
  {
   "cell_type": "code",
   "execution_count": null,
   "metadata": {},
   "outputs": [],
   "source": [
    "\n",
    "import numpy as np\n",
    "\n",
    "a1 =  [1, 3, 1]\n",
    "a2 = [3, 5, 2]\n",
    "\n",
    "print([a*b for a,b in zip(a1,a2)])\n",
    "\n"
   ]
  },
  {
   "cell_type": "code",
   "execution_count": null,
   "metadata": {
    "scrolled": true
   },
   "outputs": [],
   "source": [
    "# Stam test\n",
    "import numpy as np\n",
    "from scipy import signal\n",
    "import matplotlib.pyplot as plt\n",
    "t = np.linspace(-1, 1, 2 * 100, endpoint=False)\n",
    "i, q, e = signal.gausspulse(t, fc=5, retquad=True, retenv=True)\n",
    "plt.plot(t, i, t, q, t, e, '--')"
   ]
  },
  {
   "cell_type": "code",
   "execution_count": null,
   "metadata": {},
   "outputs": [],
   "source": [
    "# Stam test\n",
    "import numpy as np\n",
    "from scipy import signal\n",
    "import matplotlib.pyplot as plt\n",
    "t = np.linspace(-1, 1, 488, endpoint=False)\n",
    "i, q, e = signal.gausspulse(t, fc=6.888e9, retquad=True, retenv=True)\n",
    "plt.plot(t, i, t, q, t, e, '--')"
   ]
  },
  {
   "cell_type": "code",
   "execution_count": null,
   "metadata": {},
   "outputs": [],
   "source": []
  }
 ],
 "metadata": {
  "kernelspec": {
   "display_name": "Python 3",
   "language": "python",
   "name": "python3"
  },
  "language_info": {
   "codemirror_mode": {
    "name": "ipython",
    "version": 3
   },
   "file_extension": ".py",
   "mimetype": "text/x-python",
   "name": "python",
   "nbconvert_exporter": "python",
   "pygments_lexer": "ipython3",
   "version": "3.8.5"
  }
 },
 "nbformat": 4,
 "nbformat_minor": 4
}
