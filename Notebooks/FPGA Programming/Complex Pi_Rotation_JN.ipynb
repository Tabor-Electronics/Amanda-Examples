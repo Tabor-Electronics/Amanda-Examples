{
 "cells": [
  {
   "cell_type": "markdown",
   "metadata": {},
   "source": [
    "<img align=\"left\" src=\"https://www.taborelec.com/Pictures/logo.png\">"
   ]
  },
  {
   "cell_type": "markdown",
   "metadata": {},
   "source": [
    "### Qbit Pi Rotation \n",
    "\n",
    "Generator configuration \n",
    "\n",
    "Set SCLK – 8666MSas \n",
    "\n",
    "Define segment 2 length – 448 points \n",
    "\n",
    "Download waveform (Pi Pulse) – 4 point per cycle Sine wave with a Gaussian shape envelope. \n",
    "\n",
    "Create a task table of 1 lines: \n",
    "\n",
    "Task 1 \t\tEnable Signal = \tCPU \n",
    "\n",
    "DTrigger  = \tON \n",
    "\n",
    "Next Task 1 = \tend \n",
    "\n",
    "Download Task Table \n",
    "\n",
    "Enable Task Mode \n",
    "\n",
    " \n",
    "\n",
    "Digitizer Configuration \n",
    "\n",
    "Set SCLK – 2700MHz \n",
    "\n",
    "Set DDC mode to complex \n",
    "\n",
    "Set center frequency of channel 1 to 200MHz \n",
    "\n",
    "Define Frame configuration –\tNumber of frames = 1 \n",
    "\n",
    "Frame size = 144 points \n",
    "\n",
    "Set Trigger Source to TASK1 \n",
    "\n",
    "Set Trigger AWG delay  \n",
    "\n",
    "Set capture frames to all \n",
    "\n",
    " \n",
    "\n",
    " \n",
    "\n",
    "DSP Configuration \n",
    "\n",
    "Select to store the IQ data \n",
    "\n",
    "Set IQ PATH Input to AMPH \n",
    "\n",
    "Set Decision frame size 50 points \n",
    "\n",
    " \n",
    "\n",
    " \n",
    "\n",
    "Create a loop that changes the amplitude of the output by 1mV, triggers the task table, polls the digitizer that the capture is done, erases the frame data and then repeats.  "
   ]
  },
  {
   "cell_type": "code",
   "execution_count": 1,
   "metadata": {},
   "outputs": [],
   "source": [
    "import os\n",
    "import sys\n",
    "srcpath = os.path.realpath('../../SourceFiles')\n",
    "sys.path.append(srcpath)\n",
    "from teproteus import TEProteusAdmin as TepAdmin\n",
    "from teproteus import TEProteusInst as TepInst"
   ]
  },
  {
   "cell_type": "code",
   "execution_count": 2,
   "metadata": {},
   "outputs": [],
   "source": [
    "#matplotlib notebook\n",
    "import numpy as np\n",
    "import time\n",
    "import ipywidgets as widgets\n",
    "from IPython.core.debugger import set_trace\n",
    "from scipy.signal import chirp, sweep_poly\n",
    "import matplotlib.pyplot as plt\n",
    "from scipy import signal\n",
    "import math"
   ]
  },
  {
   "cell_type": "code",
   "execution_count": 23,
   "metadata": {},
   "outputs": [],
   "source": [
    "#Set all parameters for experiment\n",
    "SCLK = 9000e6\n",
    "DIG_SCLK = 2700e6\n",
    "CH_NMB = 1\n",
    "SEG_NMB = 1\n",
    "#FRAME_NUM = 1\n",
    "GAUS_FC = 5.98\n",
    "GAUS_LEN = 448\n",
    "DUC_NCO = 1040e6 #MHz\n",
    "DDC_NCO = 240e6\n",
    "DUC_INTERP = 8\n",
    "numframes = 10\n",
    "Frame_len = 864\n",
    "Debug = False"
   ]
  },
  {
   "cell_type": "code",
   "execution_count": 4,
   "metadata": {},
   "outputs": [
    {
     "name": "stdout",
     "output_type": "stream",
     "text": [
      "Connected to: Tabor Electronics,P9484M,000002210203,1.200.0\n",
      "Model: P9484M\n",
      "DAC waveform format: 16 bits-per-point\n"
     ]
    }
   ],
   "source": [
    "# Connect to instrument\n",
    "admin = TepAdmin()\n",
    "    \n",
    "# Get list of available PXI slots\n",
    "slot_ids = admin.get_slot_ids()\n",
    "\n",
    "# Assume that at least one slot was found\n",
    "sid = slot_ids[0]\n",
    "\n",
    " # Open a single-slot instrument:\n",
    "inst = admin.open_instrument(slot_id=sid)\n",
    "\n",
    "# Get the instrument's *IDN\n",
    "resp = inst.send_scpi_query('*IDN?')\n",
    "print('Connected to: ' + resp)\n",
    "\n",
    "# Get the model name\n",
    "resp = inst.send_scpi_query(\":SYST:iNF:MODel?\")\n",
    "print(\"Model: \" + resp)\n",
    "\n",
    "# Infer the natural DAC waveform format\n",
    "if 'P9082' in resp:\n",
    "    dac_mode = 8\n",
    "else:\n",
    "    dac_mode = 16\n",
    "print(\"DAC waveform format: {0} bits-per-point\".format(dac_mode))\n",
    "\n",
    "if dac_mode == 16:\n",
    "    max_dac = 65535\n",
    "    data_type = np.uint16 \n",
    "else:\n",
    "    max_dac = 255\n",
    "    data_type = np.uint8 \n",
    "    \n",
    "half_dac = max_dac / 2.0"
   ]
  },
  {
   "cell_type": "code",
   "execution_count": 6,
   "metadata": {},
   "outputs": [
    {
     "name": "stdout",
     "output_type": "stream",
     "text": [
      "0, no error\n"
     ]
    }
   ],
   "source": [
    "# Several initializations ..\n",
    "\n",
    "inst.default_paranoia_level = 2\n",
    "\n",
    "#Reset instrument\n",
    "inst.send_scpi_cmd('*CLS; *RST')\n",
    "\n",
    "#Configure Interpolation and DUC Mode for instrument. Note this will effect the DAC mode.\n",
    "inst.send_scpi_cmd(':MODE DUC')\n",
    "inst.send_scpi_cmd(':INT x{0}' .format(DUC_INTERP))\n",
    "inst.send_scpi_cmd(':IQM ONE')\n",
    "inst.send_scpi_cmd(':NCO:CFR1 {0}' .format(DUC_NCO))\n",
    "#Enable sixdB gain in DUC mode\n",
    "inst.send_scpi_cmd(':NCO:SIXD1 ON')\n",
    "\n",
    "inst.send_scpi_cmd(':INST:CHAN 2')\n",
    "inst.send_scpi_cmd(':INIT:CONT ON')\n",
    "inst.send_scpi_cmd(':TRAC:DEL:ALL')\n",
    "inst.send_scpi_cmd(':FREQ:RAST {0}'.format(SCLK))\n",
    "\n",
    "resp = inst.send_scpi_query(':SYST:ERR?')\n",
    "print(resp)"
   ]
  },
  {
   "cell_type": "code",
   "execution_count": 7,
   "metadata": {},
   "outputs": [
    {
     "name": "stdout",
     "output_type": "stream",
     "text": [
      "gaussian fc 30.033482142857146Mhz\n"
     ]
    },
    {
     "data": {
      "text/plain": [
       "[<matplotlib.lines.Line2D at 0x183bcf93128>,\n",
       " <matplotlib.lines.Line2D at 0x183bcf932e8>]"
      ]
     },
     "execution_count": 7,
     "metadata": {},
     "output_type": "execute_result"
    },
    {
     "data": {
      "image/png": "[encoded data removed]",
      "text/plain": [
       "<Figure size 432x288 with 1 Axes>"
      ]
     },
     "metadata": {
      "needs_background": "light"
     },
     "output_type": "display_data"
    }
   ],
   "source": [
    "# gaussian wave form \n",
    "t = np.linspace(-1, 1, GAUS_LEN, endpoint=False)\n",
    "\n",
    "i, q, e = signal.gausspulse(t, 2*GAUS_FC, retquad=True, retenv=True)\n",
    "gaussian_e = (e)\n",
    "gaussian_i = (i)\n",
    "gaussian_q = (q)\n",
    "print('gaussian fc {0}Mhz'.format(SCLK * 2 * GAUS_FC / GAUS_LEN / 1e6/ DUC_INTERP))\n",
    "plt.plot(t, gaussian_i, '-',t, gaussian_q, '.')\n"
   ]
  },
  {
   "cell_type": "code",
   "execution_count": 8,
   "metadata": {},
   "outputs": [
    {
     "data": {
      "text/plain": [
       "[<matplotlib.lines.Line2D at 0x183bd114f28>]"
      ]
     },
     "execution_count": 8,
     "metadata": {},
     "output_type": "execute_result"
    },
    {
     "data": {
      "image/png": "[encoded data removed]",
      "text/plain": [
       "<Figure size 432x288 with 1 Axes>"
      ]
     },
     "metadata": {
      "needs_background": "light"
     },
     "output_type": "display_data"
    }
   ],
   "source": [
    "wave = list(range(2*GAUS_LEN))\n",
    "tp = np.linspace(-1, 1, 2*GAUS_LEN, endpoint=False)\n",
    "\n",
    "wave[::2]=gaussian_i\n",
    "wave[1::2]=gaussian_q\n",
    "\n",
    "wave = [x*half_dac for x in wave]\n",
    "wave = [x + half_dac for x in wave]\n",
    "wave = np.round(wave)\n",
    "wave = np.clip(wave, 0, max_dac)\n",
    "\n",
    "\n",
    "if dac_mode == 16:\n",
    "    wave = wave.astype(np.uint16)\n",
    "else:\n",
    "    wave = wave.astype(np.uint8)\n",
    "\n",
    "#print(wave)\n",
    "plt.plot(tp, wave, '-')"
   ]
  },
  {
   "cell_type": "markdown",
   "metadata": {},
   "source": [
    "\n",
    "# Create and download waveforms "
   ]
  },
  {
   "cell_type": "code",
   "execution_count": 9,
   "metadata": {},
   "outputs": [
    {
     "name": "stdout",
     "output_type": "stream",
     "text": [
      "wave size: 896\n",
      "0, no error\n"
     ]
    }
   ],
   "source": [
    "\n",
    "# download it to segment 1 of channel 1\n",
    "inst.send_scpi_cmd(':INST:CHAN {0}'.format(CH_NMB))\n",
    "inst.send_scpi_cmd(':TRAC:DEF {0},'.format(SEG_NMB) + str(wave.size))\n",
    "inst.send_scpi_cmd(':TRAC:SEL {0}'.format(SEG_NMB))\n",
    "\n",
    "print('wave size: {0}'.format(wave.size))\n",
    "# download the waveform to the selected segment\n",
    "inst.write_binary_data(':TRAC:DATA', wave)\n",
    "\n",
    "inst.send_scpi_cmd(':SOUR:FUNC:MODE:SEGM 1')\n",
    "inst.send_scpi_cmd(':SOUR:VOLT 0.5')\n",
    "inst.send_scpi_cmd(':OUTP ON')\n",
    "\n",
    "resp = inst.send_scpi_query(':SYST:ERR?')\n",
    "print(resp)"
   ]
  },
  {
   "cell_type": "markdown",
   "metadata": {},
   "source": [
    "## Reading the data"
   ]
  },
  {
   "cell_type": "code",
   "execution_count": 10,
   "metadata": {},
   "outputs": [
    {
     "name": "stdout",
     "output_type": "stream",
     "text": [
      "0, no error\n"
     ]
    },
    {
     "data": {
      "image/png": "[encoded data removed]",
      "text/plain": [
       "<Figure size 432x288 with 1 Axes>"
      ]
     },
     "metadata": {
      "needs_background": "light"
     },
     "output_type": "display_data"
    }
   ],
   "source": [
    "offset_in_bytes = 0\n",
    "\n",
    "\n",
    "if dac_mode == 16:\n",
    "    size_in_bytes = wave.size * 2\n",
    "else:\n",
    "    size_in_bytes = wave.size\n",
    "    \n",
    "data_type = np.uint16 if dac_mode == 16 else np.uint8\n",
    "\n",
    "\n",
    "# Select channel\n",
    "cmd = ':INST:CHAN {0}'.format(CH_NMB)\n",
    "inst.send_scpi_cmd(cmd)\n",
    "    \n",
    "# Select segment\n",
    "cmd = ':TRAC:SEL {0}'.format(SEG_NMB)\n",
    "inst.send_scpi_cmd(cmd)\n",
    "\n",
    "# Allocate buffer\n",
    "rd_wav = np.empty(wave.size, dtype=data_type)\n",
    "    \n",
    "# Read binary data\n",
    "cmd = ':TRAC:DATA? {0}, {1}'.format(offset_in_bytes, size_in_bytes)\n",
    "\n",
    "inst.read_binary_data(\n",
    "        scpi_pref=cmd,\n",
    "        out_array=rd_wav,\n",
    "        num_bytes=size_in_bytes)\n",
    "\n",
    "resp = inst.send_scpi_query(':SYST:ERR?')\n",
    "print(resp)\n",
    "\n",
    "# Plot the waves\n",
    "xr = np.arange(wave.size)\n",
    "plt.plot(xr, rd_wav)\n",
    "\n",
    "plt.show()\n",
    "del xr, rd_wav"
   ]
  },
  {
   "cell_type": "markdown",
   "metadata": {},
   "source": [
    "# Create and download Task table"
   ]
  },
  {
   "cell_type": "code",
   "execution_count": 11,
   "metadata": {},
   "outputs": [
    {
     "name": "stdout",
     "output_type": "stream",
     "text": [
      "Downloading Task table to channel 1\n",
      "0, no error\n"
     ]
    }
   ],
   "source": [
    "tasklen = 1\n",
    "\n",
    "#Select channel\n",
    "cmd = ':INST:CHAN {0}'.format(CH_NMB)\n",
    "inst.send_scpi_cmd(cmd )\n",
    "\n",
    "cmd = ':TASK:COMP:LENG {0}'.format(tasklen)\n",
    "inst.send_scpi_cmd(cmd )\n",
    "\n",
    "\n",
    "\n",
    "for i in range(tasklen):\n",
    "    curr_task = i+1\n",
    "    cmd = ':TASK:COMP:SEL {0}'.format(curr_task)\n",
    "    inst.send_scpi_cmd(cmd)\n",
    "    cmd = ':TASK:COMP:DTRigger ON'        \n",
    "    inst.send_scpi_cmd(cmd)\n",
    " \n",
    "    if curr_task == 1:  \n",
    "        cmd = ':TASK:COMP:ENAB CPU'\n",
    "        inst.send_scpi_cmd(cmd)\n",
    "\n",
    "    if curr_task==tasklen:\n",
    "        cmd = ':TASK:COMP:NEXT1 {0}'.format(1)\n",
    "        inst.send_scpi_cmd(cmd)\n",
    "    else:\n",
    "        cmd = ':TASK:COMP:NEXT1 {0}'.format(curr_task+1)\n",
    "        inst.send_scpi_cmd(cmd )    \n",
    "\n",
    "    cmd = ':TASK:COMP:TYPE SING'\n",
    "    inst.send_scpi_cmd(cmd )\n",
    "\n",
    "    \n",
    "    cmd = ':TASK:COMP:LOOP {0}'.format(1)\n",
    "    inst.send_scpi_cmd(cmd )\n",
    "\n",
    "    cmd = ':TASK:COMP:SEGM {0}'.format(1)\n",
    "    inst.send_scpi_cmd(cmd )\n",
    "\n",
    "    \n",
    "cmd = ':TASK:COMP:WRIT'\n",
    "inst.send_scpi_cmd(cmd)\n",
    "print('Downloading Task table to channel {0}'.format(CH_NMB))\n",
    "\n",
    "cmd = ':INST:CHAN {0}'.format(CH_NMB)\n",
    "inst.send_scpi_cmd(cmd)\n",
    "    \n",
    "cmd = ':OUTP ON'\n",
    "inst.send_scpi_cmd(cmd)\n",
    "\n",
    "cmd = ':FUNC:MODE TASK'\n",
    "inst.send_scpi_cmd(cmd)\n",
    "\n",
    "\n",
    "resp = inst.send_scpi_query(':SYST:ERR?')\n",
    "print(resp)\n"
   ]
  },
  {
   "cell_type": "markdown",
   "metadata": {},
   "source": [
    "## Setup Digitizer"
   ]
  },
  {
   "cell_type": "code",
   "execution_count": 24,
   "metadata": {},
   "outputs": [
    {
     "name": "stdout",
     "output_type": "stream",
     "text": [
      "0, no error\n",
      "Set Digitizer: DUAL mode; ADC Trigger\n",
      "X16\n"
     ]
    }
   ],
   "source": [
    "# Setup the digitizer in two-channels mode\n",
    "inst.send_scpi_cmd(':DIG:MODE DUAL')\n",
    "inst.send_scpi_cmd(':DIG:CHAN:RANG LOW')\n",
    "\n",
    "# Set SCLK digitizer \n",
    "inst.send_scpi_cmd(':DIG:FREQ {0}'.format(DIG_SCLK))\n",
    "\n",
    "# Set DDC mode to complex\n",
    "inst.send_scpi_cmd(':DIG:DDC:MODE COMPlex')\n",
    "\n",
    "# Set center frequency of channel 1 to 200MHz\n",
    "inst.send_scpi_cmd(':DIG:DDC:CFR1 {0}'.format(DDC_NCO))\n",
    "\n",
    "# Allocate 1000 frames of 864 samples\n",
    "cmd = ':DIG:ACQuire:FRAM:DEF {0},{1}'.format(numframes, Frame_len)\n",
    "inst.send_scpi_cmd(cmd)\n",
    "\n",
    "# Select the frames for the capturing \n",
    "capture_first, capture_count = 1, numframes\n",
    "cmd = \":DIG:ACQuire:FRAM:CAPT {0},{1}\".format(capture_first, capture_count)\n",
    "inst.send_scpi_cmd(cmd)\n",
    "\n",
    "# Enable capturing data from channel 1\n",
    "inst.send_scpi_cmd(':DIG:CHAN:SEL 1')\n",
    "inst.send_scpi_cmd(':DIG:CHAN:STATE ENAB')\n",
    "\n",
    "# Select the internal-trigger as start-capturing trigger:\n",
    "inst.send_scpi_cmd(':DIG:TRIG:SOURCE TASK1')\n",
    "\n",
    "# Set Trigger AWG delay to 0\n",
    "inst.send_scpi_cmd(':DIG:TRIG:DEL {0}'.format(1))\n",
    "\n",
    "# Clean memory \n",
    "inst.send_scpi_cmd(':DIG:ACQ:ZERO:ALL')\n",
    "\n",
    "resp = inst.send_scpi_query(':SYST:ERR?')\n",
    "print(resp)\n",
    "print(\"Set Digitizer: DUAL mode; ADC Trigger\")\n",
    "\n",
    "resp = inst.send_scpi_query(':DIG:DDC:DEC?')\n",
    "print(resp)"
   ]
  },
  {
   "cell_type": "markdown",
   "metadata": {},
   "source": [
    "## Setup DSP"
   ]
  },
  {
   "cell_type": "code",
   "execution_count": 25,
   "metadata": {},
   "outputs": [
    {
     "name": "stdout",
     "output_type": "stream",
     "text": [
      "0, no error\n",
      "0, no error\n",
      "0, no error\n",
      "0, no error\n"
     ]
    }
   ],
   "source": [
    "# Select to store the IQ data\n",
    "inst.send_scpi_cmd(':DSP:STOR1 DIRect1')\n",
    "resp = inst.send_scpi_query(':SYST:ERR?')\n",
    "print(resp)\n",
    "\n",
    "# Set IQ PATH Input to AMPH\n",
    "inst.send_scpi_cmd(':DSP:DEC:IQP:SEL 1')\n",
    "resp = inst.send_scpi_query(':SYST:ERR?')\n",
    "print(resp)\n",
    "inst.send_scpi_cmd(':DSP:DEC:IQP:INP AMPH')\n",
    "resp = inst.send_scpi_query(':SYST:ERR?')\n",
    "print(resp)\n",
    "# Set Decision frame size 50 points\n",
    "inst.send_scpi_cmd(':DSP:DEC:FRAM {0}'.format(50))\n",
    "resp = inst.send_scpi_query(':SYST:ERR?')\n",
    "print(resp)"
   ]
  },
  {
   "cell_type": "markdown",
   "metadata": {},
   "source": [
    "## Acquire signals into Memory"
   ]
  },
  {
   "cell_type": "code",
   "execution_count": 26,
   "metadata": {},
   "outputs": [
    {
     "name": "stdout",
     "output_type": "stream",
     "text": [
      "Press enter to generate trigger - press Enter to start experiment\n",
      "\n",
      "0.55\n",
      "0, no error\n",
      "captured 1 frames\n",
      "0.53\n",
      "0, no error\n",
      "captured 2 frames\n",
      "0.51\n",
      "0, no error\n",
      "captured 3 frames\n",
      "0.49\n",
      "0, no error\n",
      "captured 4 frames\n",
      "0.47\n",
      "0, no error\n",
      "captured 5 frames\n",
      "0.45\n",
      "0, no error\n",
      "captured 6 frames\n",
      "0.43\n",
      "0, no error\n",
      "captured 7 frames\n",
      "0.41\n",
      "0, no error\n",
      "captured 8 frames\n",
      "0.39\n",
      "0, no error\n",
      "captured 9 frames\n",
      "0.37\n",
      "0, no error\n",
      "captured 10 frames\n",
      "Capture done. Captured 10 frames\n"
     ]
    }
   ],
   "source": [
    "#Number of pulses to be generated\n",
    "num_of_pulses = numframes\n",
    "#Resolution of amplitude change of DAC in mV. Minimum is 1mV. DAC amplitude 1mV<=amp<=550mV\n",
    "amplitude_res = 20\n",
    "\n",
    "amp = 550\n",
    "\n",
    "# Stop the digitizer's capturing machine (to be on the safe side)\n",
    "inst.send_scpi_cmd(':DIG:INIT OFF')\n",
    "    \n",
    "# Start the digitizer's capturing machine\n",
    "inst.send_scpi_cmd(':DIG:INIT ON')\n",
    "\n",
    "print(\"Press enter to generate trigger - press Enter to start experiment\")\n",
    "input()\n",
    "\n",
    "for i in range(num_of_pulses):\n",
    "        \n",
    "    if i>= 1:\n",
    "        inst.send_scpi_cmd(':VOLT {0}' .format((amp-amplitude_res)*0.001))\n",
    "        amp = amp-amplitude_res\n",
    "    else:\n",
    "        inst.send_scpi_cmd(':VOLT {0}' .format((amp)*0.001))\n",
    "            \n",
    "    resp = inst.send_scpi_query(':VOLT?')\n",
    "    print(resp)\n",
    "    inst.send_scpi_cmd('*TRG')\n",
    "    resp = inst.send_scpi_query(':SYST:ERR?')\n",
    "    print(resp)\n",
    "    time.sleep(1)\n",
    "    resp = inst.send_scpi_query(':DIG:ACQuire:FRAM:STAT?')\n",
    "    print('captured {0} frames'.format(resp[6:]))\n",
    "    \n",
    "\n",
    "print('Capture done. Captured {0} frames'.format(resp[6:]))\n"
   ]
  },
  {
   "cell_type": "markdown",
   "metadata": {},
   "source": [
    "## Read all frames from Memory"
   ]
  },
  {
   "cell_type": "code",
   "execution_count": 27,
   "metadata": {},
   "outputs": [
    {
     "name": "stdout",
     "output_type": "stream",
     "text": [
      "Total size in bytes: 17280\n",
      "\n",
      "0, no error\n",
      "read data from DDR\n"
     ]
    }
   ],
   "source": [
    "# Choose which frames to read (all in this example)\n",
    "inst.send_scpi_cmd(':DIG:DATA:SEL ALL')\n",
    "\n",
    "# Choose what to read \n",
    "# (only the frame-data without the header in this example)\n",
    "inst.send_scpi_cmd(':DIG:DATA:TYPE FRAM')\n",
    "\n",
    "# Get the total data size (in bytes)\n",
    "resp = inst.send_scpi_query(':DIG:DATA:SIZE?')\n",
    "num_bytes = np.uint32(resp)\n",
    "print('Total size in bytes: ' + resp)\n",
    "print()\n",
    "\n",
    "# Read the data that was captured by channel 1:\n",
    "inst.send_scpi_cmd(':DIG:CHAN:SEL 1')\n",
    "\n",
    "wavlen = num_bytes // 2\n",
    "\n",
    "wav1 = np.zeros(wavlen, dtype=np.uint32)\n",
    "\n",
    "\n",
    "rc = inst.read_binary_data(':DIG:DATA:READ?', wav1, num_bytes)\n",
    "\n",
    "resp = inst.send_scpi_query(':SYST:ERR?')\n",
    "print(resp)\n",
    "print(\"read data from DDR\")\n"
   ]
  },
  {
   "cell_type": "markdown",
   "metadata": {},
   "source": [
    "## Plot Signals  - captured waveforms"
   ]
  },
  {
   "cell_type": "code",
   "execution_count": 28,
   "metadata": {},
   "outputs": [
    {
     "data": {
      "text/plain": [
       "[<matplotlib.lines.Line2D at 0x183bd362160>,\n",
       " <matplotlib.lines.Line2D at 0x183bd362588>]"
      ]
     },
     "execution_count": 28,
     "metadata": {},
     "output_type": "execute_result"
    },
    {
     "data": {
      "image/png": "[encoded data removed]",
      "text/plain": [
       "<Figure size 432x288 with 1 Axes>"
      ]
     },
     "metadata": {
      "needs_background": "light"
     },
     "output_type": "display_data"
    }
   ],
   "source": [
    "# Plot the samples\n",
    "totlen = int(numframes * Frame_len /2)\n",
    "x = range(totlen)\n",
    "\n",
    "wave_i = np.zeros(totlen, dtype=np.uint16)\n",
    "wave_q = np.zeros(totlen, dtype=np.uint16)\n",
    "\n",
    "wave_i = wav1[::2]\n",
    "wave_q = wav1[1::2]\n",
    "\n",
    "plt.plot(x, wave_i, '-',x, wave_q, '-')"
   ]
  },
  {
   "cell_type": "markdown",
   "metadata": {},
   "source": [
    "# Read all frame Headers from Memory"
   ]
  },
  {
   "cell_type": "code",
   "execution_count": 29,
   "metadata": {},
   "outputs": [
    {
     "name": "stdout",
     "output_type": "stream",
     "text": [
      "Total Headers size in bytes: 720 \n",
      "0, no error\n",
      "read data from DDR\n"
     ]
    }
   ],
   "source": [
    "inst.send_scpi_cmd(':DIG:DATA:TYPE HEAD')\n",
    "header_size=72\n",
    "number_of_frames = numframes\n",
    "num_bytes = number_of_frames * header_size\n",
    "print('Total Headers size in bytes: {0} '.format(num_bytes))\n",
    "\n",
    "wav2 = np.zeros(num_bytes, dtype=np.uint8)\n",
    "rc = inst.read_binary_data(':DIG:DATA:READ?', wav2, num_bytes)\n",
    "\n",
    "\n",
    "resp = inst.send_scpi_query(':SYST:ERR?')\n",
    "print(resp)\n",
    "print(\"read data from DDR\")\n",
    "\n",
    "\n",
    "#print(wav2)\n",
    "\n",
    "\n",
    "I_dec= np.zeros(number_of_frames,np.int32)\n",
    "Q_dec= np.zeros(number_of_frames,np.int64)\n",
    "for i in range(number_of_frames):\n",
    "    idx = i* header_size\n",
    "    trigPos = wav2[idx]\n",
    "    gateLen = wav2[idx+1]\n",
    "    minVpp = wav2[idx+2] & 0xFFFF\n",
    "    maxVpp = wav2[idx+2] & 0xFFFF0000 >> 16\n",
    "    timeStamp = wav2[idx+3] + wav2[idx+4] << 32\n",
    "    #decisionReal = wav2[idx+5] + (wav2[idx+6] << 32)\n",
    "    decisionReal = (wav2[idx+20]) + (wav2[idx+21] <<8) + \\\n",
    "                    (wav2[idx+22] << 16) + (wav2[idx+23] <<24) + \\\n",
    "                    (wav2[idx+24] << 32) + (wav2[idx+25] <<40) + \\\n",
    "                    (wav2[idx+26] << 48)+ (wav2[idx+27] << 56)\n",
    "    Q_dec[i]= decisionReal\n",
    "    #decisionIm = int(wav2[idx+7])\n",
    "    decisionIm = (wav2[idx+28]) + (wav2[idx+29] <<8) + \\\n",
    "                    (wav2[idx+30] << 16) + (wav2[idx+31] <<24) \n",
    "    I_dec[i]= decisionIm\n",
    "    outprint = 'header# {0}\\n'.format(i)\n",
    "    outprint += 'TriggerPos: {0}\\n'.format(trigPos)\n",
    "    outprint += 'GateLength: {0}\\n'.format(gateLen)\n",
    "    outprint += 'Min Amp: {0}\\n'.format(minVpp)\n",
    "    outprint += 'Max Amp: {0}\\n'.format(maxVpp)\n",
    "    outprint += 'Min TimeStamp: {0}\\n'.format(timeStamp)\n",
    "    outprint += 'Decision: {0} + j* {1}\\n'.format(decisionReal,decisionIm)\n",
    "    #print(outprint)"
   ]
  },
  {
   "cell_type": "markdown",
   "metadata": {},
   "source": [
    "# Plot phase and amplitude of decision"
   ]
  },
  {
   "cell_type": "code",
   "execution_count": 30,
   "metadata": {},
   "outputs": [
    {
     "data": {
      "text/plain": [
       "[<matplotlib.lines.Line2D at 0x183bd708588>]"
      ]
     },
     "execution_count": 30,
     "metadata": {},
     "output_type": "execute_result"
    },
    {
     "data": {
      "image/png": "[encoded data removed]",
      "text/plain": [
       "<Figure size 432x288 with 1 Axes>"
      ]
     },
     "metadata": {
      "needs_background": "light"
     },
     "output_type": "display_data"
    }
   ],
   "source": [
    "# Plot the samples\n",
    "\n",
    "plt.plot(I_dec, Q_dec,'.')"
   ]
  },
  {
   "cell_type": "markdown",
   "metadata": {},
   "source": [
    "## read debug registers"
   ]
  },
  {
   "cell_type": "code",
   "execution_count": null,
   "metadata": {},
   "outputs": [],
   "source": [
    "import tempfile\n",
    "import webbrowser\n",
    "\n",
    "if Debug == True :\n",
    "    channb = 1\n",
    "    cmd = ':INST:CHAN {0}; :SYST:INF:REG?'.format(channb)\n",
    "    html_str = inst.send_scpi_query(cmd, max_resp_len=200000)\n",
    "    #print(html_str)\n",
    "    with tempfile.NamedTemporaryFile('w', delete=False, suffix='.html') as f:\n",
    "        url = 'file://' + f.name\n",
    "        f.write(html_str)\n",
    "    webbrowser.open(url)"
   ]
  },
  {
   "cell_type": "code",
   "execution_count": 31,
   "metadata": {
    "scrolled": true
   },
   "outputs": [
    {
     "data": {
      "text/plain": [
       "0"
      ]
     },
     "execution_count": 31,
     "metadata": {},
     "output_type": "execute_result"
    }
   ],
   "source": [
    "# close connection\n",
    "inst.close_instrument()\n",
    "admin.close_inst_admin()"
   ]
  },
  {
   "cell_type": "code",
   "execution_count": null,
   "metadata": {},
   "outputs": [],
   "source": [
    "inst.send_scpi_cmd(':INST:CHAN 1')\n",
    "inst.send_scpi_cmd(':NCO:CFR1 1.04e9')\n",
    "inst.send_scpi_cmd(':NCO:SIXD2 ON')\n",
    "resp = inst.send_scpi_query(':NCO:SIXD1?')\n",
    "print(resp)\n"
   ]
  },
  {
   "cell_type": "code",
   "execution_count": null,
   "metadata": {},
   "outputs": [],
   "source": []
  }
 ],
 "metadata": {
  "kernelspec": {
   "display_name": "Python 3",
   "language": "python",
   "name": "python3"
  },
  "language_info": {
   "codemirror_mode": {
    "name": "ipython",
    "version": 3
   },
   "file_extension": ".py",
   "mimetype": "text/x-python",
   "name": "python",
   "nbconvert_exporter": "python",
   "pygments_lexer": "ipython3",
   "version": "3.7.3"
  }
 },
 "nbformat": 4,
 "nbformat_minor": 4
}
