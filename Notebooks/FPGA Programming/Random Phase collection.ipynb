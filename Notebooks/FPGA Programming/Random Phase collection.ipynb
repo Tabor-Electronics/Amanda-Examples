{
 "cells": [
  {
   "cell_type": "markdown",
   "metadata": {},
   "source": [
    "<img align=\"left\" src=\"https://www.taborelec.com/Pictures/logo.png\">"
   ]
  },
  {
   "cell_type": "markdown",
   "metadata": {},
   "source": [
    "### Qbit Pi Rotation \n",
    "\n",
    "Generator configuration \n",
    "\n",
    "Set SCLK – 8666MSas \n",
    "\n",
    "Define segment 2 length – 448 points \n",
    "\n",
    "Download waveform (Pi Pulse) – 4 point per cycle Sine wave with a Gaussian shape envelope. \n",
    "\n",
    "Create a task table of 1 lines: \n",
    "\n",
    "Task 1 \t\tEnable Signal = \tCPU \n",
    "\n",
    "DTrigger  = \tON \n",
    "\n",
    "Next Task 1 = \tend \n",
    "\n",
    "Download Task Table \n",
    "\n",
    "Enable Task Mode \n",
    "\n",
    " \n",
    "\n",
    "Digitizer Configuration \n",
    "\n",
    "Set SCLK – 2700MHz \n",
    "\n",
    "Set DDC mode to complex \n",
    "\n",
    "Set center frequency of channel 1 to 200MHz \n",
    "\n",
    "Define Frame configuration –\tNumber of frames = 1 \n",
    "\n",
    "Frame size = 144 points \n",
    "\n",
    "Set Trigger Source to TASK1 \n",
    "\n",
    "Set Trigger AWG delay  \n",
    "\n",
    "Set capture frames to all \n",
    "\n",
    " \n",
    "\n",
    " \n",
    "\n",
    "DSP Configuration \n",
    "\n",
    "Select to store the IQ data \n",
    "\n",
    "Set IQ PATH Input to AMPH \n",
    "\n",
    "Set Decision frame size 50 points \n",
    "\n",
    " \n",
    "\n",
    " \n",
    "\n",
    "Create a loop that changes the amplitude of the output by 1mV, triggers the task table, polls the digitizer that the capture is done, erases the frame data and then repeats.  "
   ]
  },
  {
   "cell_type": "code",
   "execution_count": 1,
   "metadata": {},
   "outputs": [],
   "source": [
    "import os\n",
    "import sys\n",
    "srcpath = os.path.realpath('../../SourceFiles')\n",
    "sys.path.append(srcpath)\n",
    "from teproteus import TEProteusAdmin as TepAdmin\n",
    "from teproteus import TEProteusInst as TepInst"
   ]
  },
  {
   "cell_type": "code",
   "execution_count": 2,
   "metadata": {},
   "outputs": [],
   "source": [
    "#matplotlib notebook\n",
    "import numpy as np\n",
    "import time\n",
    "import ipywidgets as widgets\n",
    "from IPython.core.debugger import set_trace\n",
    "from scipy.signal import chirp, sweep_poly\n",
    "import matplotlib.pyplot as plt\n",
    "from scipy import signal\n",
    "import math"
   ]
  },
  {
   "cell_type": "code",
   "execution_count": 3,
   "metadata": {},
   "outputs": [],
   "source": [
    "#Set all parameters for experiment\n",
    "SCLK = 1500e6\n",
    "DIG_SCLK = 2400e6\n",
    "CH_NMB = 1\n",
    "SEG_NMB = 1\n",
    "FRAME_NUM = 10\n",
    "SEG_LEN = 448\n",
    "DUC_NCO = 400e6 #MHz\n",
    "DDC_NCO = 400000000\n",
    "DUC_INTERP = 8\n",
    "Frame_len = 864\n",
    "Debug = False"
   ]
  },
  {
   "cell_type": "code",
   "execution_count": 4,
   "metadata": {},
   "outputs": [
    {
     "name": "stdout",
     "output_type": "stream",
     "text": [
      "Connected to: Tabor Electronics,P9484M,000002210203,1.200.0\n",
      "Model: P9484M\n",
      "DAC waveform format: 16 bits-per-point\n"
     ]
    }
   ],
   "source": [
    "# Connect to instrument\n",
    "admin = TepAdmin()\n",
    "    \n",
    "# Get list of available PXI slots\n",
    "slot_ids = admin.get_slot_ids()\n",
    "\n",
    "# Assume that at least one slot was found\n",
    "sid = slot_ids[0]\n",
    "\n",
    " # Open a single-slot instrument:\n",
    "inst = admin.open_instrument(slot_id=sid)\n",
    "\n",
    "# Get the instrument's *IDN\n",
    "resp = inst.send_scpi_query('*IDN?')\n",
    "print('Connected to: ' + resp)\n",
    "\n",
    "# Get the model name\n",
    "resp = inst.send_scpi_query(\":SYST:iNF:MODel?\")\n",
    "print(\"Model: \" + resp)\n",
    "\n",
    "# Infer the natural DAC waveform format\n",
    "if 'P9082' in resp:\n",
    "    dac_mode = 8\n",
    "else:\n",
    "    dac_mode = 16\n",
    "print(\"DAC waveform format: {0} bits-per-point\".format(dac_mode))\n",
    "\n",
    "if dac_mode == 16:\n",
    "    max_dac = 65535\n",
    "    data_type = np.uint16 \n",
    "else:\n",
    "    max_dac = 255\n",
    "    data_type = np.uint8 \n",
    "    \n",
    "half_dac = max_dac / 2.0"
   ]
  },
  {
   "cell_type": "code",
   "execution_count": 5,
   "metadata": {},
   "outputs": [
    {
     "name": "stdout",
     "output_type": "stream",
     "text": [
      "0, no error\n"
     ]
    },
    {
     "name": "stderr",
     "output_type": "stream",
     "text": [
      "C:\\Tabor\\Github\\Python\\trunk\\SourceFiles\\teproteus.py:840: UserWarning: CMD: \":INT x8\", SYST:ERR: 22, Invalid argument\n",
      "  warnings.warn(wrnmsg)\n",
      "C:\\Tabor\\Github\\Python\\trunk\\SourceFiles\\teproteus.py:840: UserWarning: CMD: \":IQM ONE\", SYST:ERR: 22, Invalid argument\n",
      "  warnings.warn(wrnmsg)\n",
      "C:\\Tabor\\Github\\Python\\trunk\\SourceFiles\\teproteus.py:840: UserWarning: CMD: \":FREQ:RAST 1500000000.0\", SYST:ERR: 22, Invalid argument\n",
      "  warnings.warn(wrnmsg)\n"
     ]
    }
   ],
   "source": [
    "# Several initializations ..\n",
    "\n",
    "inst.default_paranoia_level = 2\n",
    "\n",
    "inst.send_scpi_cmd('*CLS; *RST')\n",
    "\n",
    "\n",
    "inst.send_scpi_cmd(':MODE DUC')\n",
    "inst.send_scpi_cmd(':INT x{0}' .format(DUC_INTERP))\n",
    "inst.send_scpi_cmd(':IQM ONE')\n",
    "inst.send_scpi_cmd(':NCO:CFR1 {0}' .format(DUC_NCO))\n",
    "#Enable sixdB gain in DUC mode\n",
    "inst.send_scpi_cmd(':NCO:SIXD1 ON')\n",
    "\n",
    "inst.send_scpi_cmd(':INST:CHAN 1')\n",
    "inst.send_scpi_cmd(':INIT:CONT ON')\n",
    "inst.send_scpi_cmd(':TRAC:DEL:ALL')\n",
    "inst.send_scpi_cmd(':FREQ:RAST {0}'.format(SCLK))\n",
    "\n",
    "\n",
    "resp = inst.send_scpi_query(':SYST:ERR?')\n",
    "print(resp)"
   ]
  },
  {
   "cell_type": "code",
   "execution_count": 6,
   "metadata": {},
   "outputs": [
    {
     "data": {
      "text/plain": [
       "[<matplotlib.lines.Line2D at 0x23009c01390>,\n",
       " <matplotlib.lines.Line2D at 0x2300c80d8d0>]"
      ]
     },
     "execution_count": 6,
     "metadata": {},
     "output_type": "execute_result"
    },
    {
     "data": {
      "image/png": "[encoded data removed]",
      "text/plain": [
       "<Figure size 432x288 with 1 Axes>"
      ]
     },
     "metadata": {
      "needs_background": "light"
     },
     "output_type": "display_data"
    }
   ],
   "source": [
    "\n",
    "cycleLen = SEG_LEN\n",
    "numCycles = 1\n",
    "segLen1 = cycleLen * numCycles\n",
    "\n",
    "# Build waveform (cosine wave)\n",
    "t = np.linspace(start=0, stop=2 * np.pi * numCycles, num=segLen1, endpoint=False)\n",
    "\n",
    "I = (np.cos(t) + 1.0) * half_dac\n",
    "I = np.round(I)\n",
    "I = np.clip(I, 0, max_dac)\n",
    "I = I.astype(data_type)\n",
    "\n",
    "# Build waveform (sine wave)\n",
    "\n",
    "Q = (np.sin(t) + 1.0) * half_dac\n",
    "Q = np.round(Q)\n",
    "Q = np.clip(Q, 0, max_dac)\n",
    "Q = Q.astype(data_type)\n",
    "\n",
    "plt.plot(t, I, '-',t, Q, '.')\n",
    "\n",
    "\n",
    "\n"
   ]
  },
  {
   "cell_type": "code",
   "execution_count": 7,
   "metadata": {},
   "outputs": [
    {
     "data": {
      "text/plain": [
       "[<matplotlib.lines.Line2D at 0x2300c7796a0>]"
      ]
     },
     "execution_count": 7,
     "metadata": {},
     "output_type": "execute_result"
    },
    {
     "data": {
      "image/png": "[encoded data removed]",
      "text/plain": [
       "<Figure size 432x288 with 1 Axes>"
      ]
     },
     "metadata": {
      "needs_background": "light"
     },
     "output_type": "display_data"
    }
   ],
   "source": [
    "wave = list(range(2*SEG_LEN))\n",
    "tp = np.linspace(-1, 1, 2*SEG_LEN, endpoint=False)\n",
    "\n",
    "wave[::2]=I\n",
    "wave[1::2]=Q\n",
    "\n",
    "wave = [x for x in wave]\n",
    "wave = np.round(wave)\n",
    "wave = np.clip(wave, 0, max_dac)\n",
    "\n",
    "\n",
    "if dac_mode == 16:\n",
    "    wave = wave.astype(np.uint16)\n",
    "else:\n",
    "    wave = wave.astype(np.uint8)\n",
    "\n",
    "#print(wave)\n",
    "plt.plot(tp, wave, '-')"
   ]
  },
  {
   "cell_type": "markdown",
   "metadata": {},
   "source": [
    "\n",
    "# Create and download waveforms "
   ]
  },
  {
   "cell_type": "code",
   "execution_count": 8,
   "metadata": {},
   "outputs": [
    {
     "name": "stdout",
     "output_type": "stream",
     "text": [
      "wave size: 896\n",
      "0, no error\n"
     ]
    }
   ],
   "source": [
    "\n",
    "# download it to segment 1 of channel 1\n",
    "inst.send_scpi_cmd(':INST:CHAN {0}'.format(CH_NMB))\n",
    "inst.send_scpi_cmd(':TRAC:DEF {0},'.format(SEG_NMB) + str(wave.size))\n",
    "inst.send_scpi_cmd(':TRAC:SEL {0}'.format(SEG_NMB))\n",
    "\n",
    "print('wave size: {0}'.format(wave.size))\n",
    "# download the waveform to the selected segment\n",
    "inst.write_binary_data(':TRAC:DATA', wave)\n",
    "\n",
    "inst.send_scpi_cmd(':SOUR:FUNC:MODE:SEGM 1')\n",
    "inst.send_scpi_cmd(':SOUR:VOLT 0.5')\n",
    "inst.send_scpi_cmd(':OUTP ON')\n",
    "\n",
    "resp = inst.send_scpi_query(':SYST:ERR?')\n",
    "print(resp)"
   ]
  },
  {
   "cell_type": "markdown",
   "metadata": {},
   "source": [
    "## Reading the data"
   ]
  },
  {
   "cell_type": "code",
   "execution_count": 9,
   "metadata": {},
   "outputs": [
    {
     "name": "stdout",
     "output_type": "stream",
     "text": [
      "0, no error\n"
     ]
    },
    {
     "data": {
      "image/png": "[encoded data removed]",
      "text/plain": [
       "<Figure size 432x288 with 1 Axes>"
      ]
     },
     "metadata": {
      "needs_background": "light"
     },
     "output_type": "display_data"
    }
   ],
   "source": [
    "offset_in_bytes = 0\n",
    "\n",
    "\n",
    "if dac_mode == 16:\n",
    "    size_in_bytes = wave.size * 2\n",
    "else:\n",
    "    size_in_bytes = wave.size\n",
    "    \n",
    "data_type = np.uint16 if dac_mode == 16 else np.uint8\n",
    "\n",
    "\n",
    "# Select channel\n",
    "cmd = ':INST:CHAN {0}'.format(CH_NMB)\n",
    "inst.send_scpi_cmd(cmd)\n",
    "    \n",
    "# Select segment\n",
    "cmd = ':TRAC:SEL {0}'.format(SEG_NMB)\n",
    "inst.send_scpi_cmd(cmd)\n",
    "\n",
    "# Allocate buffer\n",
    "rd_wav = np.empty(wave.size, dtype=data_type)\n",
    "    \n",
    "# Read binary data\n",
    "cmd = ':TRAC:DATA? {0}, {1}'.format(offset_in_bytes, size_in_bytes)\n",
    "\n",
    "inst.read_binary_data(\n",
    "        scpi_pref=cmd,\n",
    "        out_array=rd_wav,\n",
    "        num_bytes=size_in_bytes)\n",
    "\n",
    "resp = inst.send_scpi_query(':SYST:ERR?')\n",
    "print(resp)\n",
    "\n",
    "# Plot the waves\n",
    "xr = np.arange(wave.size)\n",
    "plt.plot(xr, rd_wav)\n",
    "\n",
    "plt.show()\n",
    "del xr, rd_wav"
   ]
  },
  {
   "cell_type": "markdown",
   "metadata": {},
   "source": [
    "# ARB continues mode and Output on"
   ]
  },
  {
   "cell_type": "code",
   "execution_count": 10,
   "metadata": {},
   "outputs": [
    {
     "name": "stdout",
     "output_type": "stream",
     "text": [
      "0, no error\n"
     ]
    }
   ],
   "source": [
    "\n",
    "#Select channel\n",
    "cmd = ':INST:CHAN {0}'.format(CH_NMB)\n",
    "inst.send_scpi_cmd(cmd )\n",
    "\n",
    "    \n",
    "cmd = ':OUTP ON'\n",
    "inst.send_scpi_cmd(cmd)\n",
    "\n",
    "\n",
    "resp = inst.send_scpi_query(':SYST:ERR?')\n",
    "print(resp)\n"
   ]
  },
  {
   "cell_type": "markdown",
   "metadata": {},
   "source": [
    "## Setup Digitizer"
   ]
  },
  {
   "cell_type": "code",
   "execution_count": 12,
   "metadata": {},
   "outputs": [
    {
     "name": "stdout",
     "output_type": "stream",
     "text": [
      "0, no error\n",
      "Set Digitizer: DUAL mode; ADC Trigger\n",
      "X16\n"
     ]
    }
   ],
   "source": [
    "# Setup the digitizer in two-channels mode\n",
    "inst.send_scpi_cmd(':DIG:MODE DUAL')\n",
    "\n",
    "# Set SCLK digitizer \n",
    "inst.send_scpi_cmd(':DIG:FREQ {0}'.format(DIG_SCLK))\n",
    "\n",
    "# Set DDC mode to complex\n",
    "inst.send_scpi_cmd(':DIG:DDC:MODE COMPlex')\n",
    "\n",
    "# Set center frequency of channel 1 to 200MHz\n",
    "inst.send_scpi_cmd(':DIG:DDC:CFR1 {0}'.format(DDC_NCO))\n",
    "\n",
    "# Allocate 1000 frames of 864 samples\n",
    "cmd = ':DIG:ACQuire:FRAM:DEF {0},{1}'.format(FRAME_NUM, Frame_len)\n",
    "inst.send_scpi_cmd(cmd)\n",
    "\n",
    "# Select the frames for the capturing \n",
    "capture_first, capture_count = 1, FRAME_NUM\n",
    "cmd = \":DIG:ACQuire:FRAM:CAPT {0},{1}\".format(capture_first, capture_count)\n",
    "inst.send_scpi_cmd(cmd)\n",
    "\n",
    "# Enable capturing data from channel 1\n",
    "inst.send_scpi_cmd(':DIG:CHAN:SEL 1')\n",
    "inst.send_scpi_cmd(':DIG:CHAN:STATE ENAB')\n",
    "\n",
    "# Select the internal-trigger as start-capturing trigger:\n",
    "inst.send_scpi_cmd(':DIG:TRIG:SOURCE CPU')\n",
    "\n",
    "# Set Trigger AWG delay to 0\n",
    "inst.send_scpi_cmd(':DIG:TRIG:DEL {0}'.format(1))\n",
    "\n",
    "# Clean memory \n",
    "inst.send_scpi_cmd(':DIG:ACQ:ZERO:ALL')\n",
    "\n",
    "resp = inst.send_scpi_query(':SYST:ERR?')\n",
    "print(resp)\n",
    "print(\"Set Digitizer: DUAL mode; ADC Trigger\")\n",
    "\n",
    "resp = inst.send_scpi_query(':DIG:DDC:DEC?')\n",
    "print(resp)"
   ]
  },
  {
   "cell_type": "markdown",
   "metadata": {},
   "source": [
    "## Setup DSP"
   ]
  },
  {
   "cell_type": "code",
   "execution_count": 13,
   "metadata": {},
   "outputs": [
    {
     "name": "stdout",
     "output_type": "stream",
     "text": [
      "0, no error\n",
      "0, no error\n",
      "0, no error\n",
      "0, no error\n"
     ]
    }
   ],
   "source": [
    "# Select to store the IQ data\n",
    "inst.send_scpi_cmd(':DSP:STOR1 DSP1')\n",
    "resp = inst.send_scpi_query(':SYST:ERR?')\n",
    "print(resp)\n",
    "\n",
    "# select Decision 1 path\n",
    "inst.send_scpi_cmd(':DSP:DEC:IQP:SEL 1')\n",
    "resp = inst.send_scpi_query(':SYST:ERR?')\n",
    "print(resp)\n",
    "inst.send_scpi_cmd(':DSP:DEC:IQP:INP IQ')\n",
    "resp = inst.send_scpi_query(':SYST:ERR?')\n",
    "print(resp)\n",
    "# Set Decision frame size 50 points\n",
    "inst.send_scpi_cmd(':DSP:DEC:FRAM {0}'.format(50))\n",
    "resp = inst.send_scpi_query(':SYST:ERR?')\n",
    "print(resp)"
   ]
  },
  {
   "cell_type": "markdown",
   "metadata": {},
   "source": [
    "## Acquire signals into Memory"
   ]
  },
  {
   "cell_type": "code",
   "execution_count": 14,
   "metadata": {},
   "outputs": [
    {
     "name": "stdout",
     "output_type": "stream",
     "text": [
      "captured 10 frames\n"
     ]
    }
   ],
   "source": [
    "# Stop the digitizer's capturing machine (to be on the safe side)\n",
    "inst.send_scpi_cmd(':DIG:INIT OFF')\n",
    "\n",
    "# Start the digitizer's capturing machine\n",
    "inst.send_scpi_cmd(':DIG:INIT ON')\n",
    "\n",
    "for i in range(FRAME_NUM):\n",
    "    inst.send_scpi_cmd(':DIG:TRIG:IMM')\n",
    "    inst.send_scpi_query(':DIG:ACQuire:FRAM:STAT?')\n",
    "time.sleep(1)\n",
    "resp = inst.send_scpi_query(':DIG:ACQuire:FRAM:STAT?')\n",
    "print('captured {0} frames'.format(resp[6:]))"
   ]
  },
  {
   "cell_type": "markdown",
   "metadata": {},
   "source": [
    "## Read all frame Headers from Memory"
   ]
  },
  {
   "cell_type": "code",
   "execution_count": 15,
   "metadata": {},
   "outputs": [
    {
     "name": "stdout",
     "output_type": "stream",
     "text": [
      "Total Headers size in bytes: 720 \n",
      "0, no error\n",
      "read data from DDR\n"
     ]
    }
   ],
   "source": [
    "inst.send_scpi_cmd(':DIG:DATA:TYPE HEAD')\n",
    "header_size=72\n",
    "number_of_frames = FRAME_NUM\n",
    "num_bytes = number_of_frames * header_size\n",
    "print('Total Headers size in bytes: {0} '.format(num_bytes))\n",
    "\n",
    "wav2 = np.zeros(num_bytes, dtype=np.uint8)\n",
    "rc = inst.read_binary_data(':DIG:DATA:READ?', wav2, num_bytes)\n",
    "\n",
    "\n",
    "resp = inst.send_scpi_query(':SYST:ERR?')\n",
    "print(resp)\n",
    "print(\"read data from DDR\")\n",
    "\n",
    "\n",
    "#print(wav2)\n",
    "\n",
    "\n",
    "I_dec= np.zeros(number_of_frames,np.int32)\n",
    "Q_dec= np.zeros(number_of_frames,np.int64)\n",
    "for i in range(number_of_frames):\n",
    "    idx = i* header_size\n",
    "    trigPos = wav2[idx]\n",
    "    gateLen = wav2[idx+1]\n",
    "    minVpp = wav2[idx+2] & 0xFFFF\n",
    "    maxVpp = wav2[idx+2] & 0xFFFF0000 >> 16\n",
    "    timeStamp = wav2[idx+3] + wav2[idx+4] << 32\n",
    "    #decisionReal = wav2[idx+5] + (wav2[idx+6] << 32)\n",
    "    decisionReal = (wav2[idx+20]) + (wav2[idx+21] <<8) + \\\n",
    "                    (wav2[idx+22] << 16) + (wav2[idx+23] <<24) + \\\n",
    "                    (wav2[idx+24] << 32) + (wav2[idx+25] <<40) + \\\n",
    "                    (wav2[idx+26] << 48)+ (wav2[idx+27] << 56)\n",
    "    Q_dec[i]= decisionReal\n",
    "    #decisionIm = int(wav2[idx+7])\n",
    "    decisionIm = (wav2[idx+28]) + (wav2[idx+29] <<8) + \\\n",
    "                    (wav2[idx+30] << 16) + (wav2[idx+31] <<24) \n",
    "    I_dec[i]= decisionIm\n",
    "    outprint = 'header# {0}\\n'.format(i)\n",
    "    outprint += 'TriggerPos: {0}\\n'.format(trigPos)\n",
    "    outprint += 'GateLength: {0}\\n'.format(gateLen)\n",
    "    outprint += 'Min Amp: {0}\\n'.format(minVpp)\n",
    "    outprint += 'Max Amp: {0}\\n'.format(maxVpp)\n",
    "    outprint += 'Min TimeStamp: {0}\\n'.format(timeStamp)\n",
    "    outprint += 'Decision: {0} + j* {1}\\n'.format(decisionReal,decisionIm)\n",
    "    #print(outprint)"
   ]
  },
  {
   "cell_type": "code",
   "execution_count": null,
   "metadata": {},
   "outputs": [
    {
     "name": "stdout",
     "output_type": "stream",
     "text": [
      "ONE\n",
      "17280\n",
      "Total Data size in bytes: 18000 \n"
     ]
    }
   ],
   "source": [
    "resp = inst.send_scpi_query(':IQM?')\n",
    "print(resp)\n",
    "\n",
    "inst.send_scpi_cmd(':DIG:DATA:TYPE BOTH')\n",
    "header_size=72\n",
    "number_of_frames = FRAME_NUM\n",
    "num_bytes = number_of_frames * (header_size+(2*Frame_len))\n",
    "# Get the total data size (in bytes)\n",
    "resp = inst.send_scpi_query(':DIG:DATA:SIZE?')\n",
    "print(resp)\n",
    "\n",
    "print('Total Data size in bytes: {0} '.format(num_bytes))\n",
    "\n",
    "wav2 = np.zeros(num_bytes, dtype=np.uint8)\n",
    "rc = inst.read_binary_data(':DIG:DATA:READ?', wav2, num_bytes)\n",
    "\n",
    "print(wav2)\n",
    "\n",
    "resp = inst.send_scpi_query(':SYST:ERR?')\n",
    "print(resp)\n",
    "print(\"read data from DDR\")"
   ]
  },
  {
   "cell_type": "markdown",
   "metadata": {},
   "source": [
    "## Plot Signals  - Need to fix, need to be x-y graph"
   ]
  },
  {
   "cell_type": "code",
   "execution_count": 16,
   "metadata": {},
   "outputs": [
    {
     "data": {
      "text/plain": [
       "[<matplotlib.lines.Line2D at 0x2253acd2320>]"
      ]
     },
     "execution_count": 16,
     "metadata": {},
     "output_type": "execute_result"
    },
    {
     "data": {
      "image/png": "[encoded data removed]",
      "text/plain": [
       "<Figure size 432x288 with 1 Axes>"
      ]
     },
     "metadata": {
      "needs_background": "light"
     },
     "output_type": "display_data"
    }
   ],
   "source": [
    "# Plot the samples\n",
    "\n",
    "plt.plot(I_dec, Q_dec,'.')"
   ]
  },
  {
   "cell_type": "markdown",
   "metadata": {},
   "source": [
    "## read debug registers"
   ]
  },
  {
   "cell_type": "code",
   "execution_count": null,
   "metadata": {},
   "outputs": [],
   "source": [
    "import tempfile\n",
    "import webbrowser\n",
    "\n",
    "if Debug == True :\n",
    "    channb = 1\n",
    "    cmd = ':INST:CHAN {0}; :SYST:INF:REG?'.format(channb)\n",
    "    html_str = inst.send_scpi_query(cmd, max_resp_len=200000)\n",
    "    #print(html_str)\n",
    "    with tempfile.NamedTemporaryFile('w', delete=False, suffix='.html') as f:\n",
    "        url = 'file://' + f.name\n",
    "        f.write(html_str)\n",
    "    webbrowser.open(url)"
   ]
  },
  {
   "cell_type": "code",
   "execution_count": 12,
   "metadata": {
    "scrolled": true
   },
   "outputs": [
    {
     "ename": "ArgumentError",
     "evalue": "argument 1: <class 'TypeError'>: wrong type",
     "output_type": "error",
     "traceback": [
      "\u001b[1;31m---------------------------------------------------------------------------\u001b[0m",
      "\u001b[1;31mArgumentError\u001b[0m                             Traceback (most recent call last)",
      "\u001b[1;32m<ipython-input-12-6ee8d1dd36b5>\u001b[0m in \u001b[0;36m<module>\u001b[1;34m\u001b[0m\n\u001b[0;32m      1\u001b[0m \u001b[1;31m# close connection\u001b[0m\u001b[1;33m\u001b[0m\u001b[1;33m\u001b[0m\u001b[1;33m\u001b[0m\u001b[0m\n\u001b[1;32m----> 2\u001b[1;33m \u001b[0minst\u001b[0m\u001b[1;33m.\u001b[0m\u001b[0mclose_instrument\u001b[0m\u001b[1;33m(\u001b[0m\u001b[1;33m)\u001b[0m\u001b[1;33m\u001b[0m\u001b[1;33m\u001b[0m\u001b[0m\n\u001b[0m\u001b[0;32m      3\u001b[0m \u001b[0madmin\u001b[0m\u001b[1;33m.\u001b[0m\u001b[0mclose_inst_admin\u001b[0m\u001b[1;33m(\u001b[0m\u001b[1;33m)\u001b[0m\u001b[1;33m\u001b[0m\u001b[1;33m\u001b[0m\u001b[0m\n",
      "\u001b[1;32mC:\\Tabor\\Github\\Python\\trunk\\SourceFiles\\teproteus.py\u001b[0m in \u001b[0;36mclose_instrument\u001b[1;34m(self)\u001b[0m\n\u001b[0;32m    759\u001b[0m         \u001b[1;32mif\u001b[0m \u001b[0mself\u001b[0m\u001b[1;33m.\u001b[0m\u001b[0m_admin\u001b[0m \u001b[1;32mis\u001b[0m \u001b[1;32mnot\u001b[0m \u001b[1;32mNone\u001b[0m\u001b[1;33m:\u001b[0m\u001b[1;33m\u001b[0m\u001b[1;33m\u001b[0m\u001b[0m\n\u001b[0;32m    760\u001b[0m             \u001b[1;31m# pylint: disable=protected-access\u001b[0m\u001b[1;33m\u001b[0m\u001b[1;33m\u001b[0m\u001b[1;33m\u001b[0m\u001b[0m\n\u001b[1;32m--> 761\u001b[1;33m             \u001b[0mself\u001b[0m\u001b[1;33m.\u001b[0m\u001b[0m_admin\u001b[0m\u001b[1;33m.\u001b[0m\u001b[0m_tep_close_comm_intf\u001b[0m\u001b[1;33m(\u001b[0m\u001b[0mself\u001b[0m\u001b[1;33m.\u001b[0m\u001b[0m_instptr\u001b[0m\u001b[1;33m,\u001b[0m \u001b[0mself\u001b[0m\u001b[1;33m.\u001b[0m\u001b[0m_commptr\u001b[0m\u001b[1;33m)\u001b[0m\u001b[1;33m\u001b[0m\u001b[1;33m\u001b[0m\u001b[0m\n\u001b[0m\u001b[0;32m    762\u001b[0m             \u001b[0mself\u001b[0m\u001b[1;33m.\u001b[0m\u001b[0m_admin\u001b[0m\u001b[1;33m.\u001b[0m\u001b[0m_inst_dict\u001b[0m\u001b[1;33m.\u001b[0m\u001b[0mpop\u001b[0m\u001b[1;33m(\u001b[0m\u001b[0mself\u001b[0m\u001b[1;33m.\u001b[0m\u001b[0m_instr_id\u001b[0m\u001b[1;33m,\u001b[0m \u001b[1;32mNone\u001b[0m\u001b[1;33m)\u001b[0m\u001b[1;33m\u001b[0m\u001b[1;33m\u001b[0m\u001b[0m\n\u001b[0;32m    763\u001b[0m             \u001b[0mself\u001b[0m\u001b[1;33m.\u001b[0m\u001b[0m_admin\u001b[0m\u001b[1;33m.\u001b[0m\u001b[0m_tep_close_instrument\u001b[0m\u001b[1;33m(\u001b[0m\u001b[0mself\u001b[0m\u001b[1;33m.\u001b[0m\u001b[0m_instptr\u001b[0m\u001b[1;33m)\u001b[0m\u001b[1;33m\u001b[0m\u001b[1;33m\u001b[0m\u001b[0m\n",
      "\u001b[1;31mArgumentError\u001b[0m: argument 1: <class 'TypeError'>: wrong type"
     ]
    }
   ],
   "source": [
    "# close connection\n",
    "inst.close_instrument()\n",
    "admin.close_inst_admin()"
   ]
  },
  {
   "cell_type": "code",
   "execution_count": null,
   "metadata": {},
   "outputs": [],
   "source": []
  }
 ],
 "metadata": {
  "kernelspec": {
   "display_name": "Python 3",
   "language": "python",
   "name": "python3"
  },
  "language_info": {
   "codemirror_mode": {
    "name": "ipython",
    "version": 3
   },
   "file_extension": ".py",
   "mimetype": "text/x-python",
   "name": "python",
   "nbconvert_exporter": "python",
   "pygments_lexer": "ipython3",
   "version": "3.7.3"
  }
 },
 "nbformat": 4,
 "nbformat_minor": 4
}
