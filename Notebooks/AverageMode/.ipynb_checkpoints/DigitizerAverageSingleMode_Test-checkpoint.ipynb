{
 "cells": [
  {
   "cell_type": "markdown",
   "metadata": {},
   "source": [
    "# Average Mode\n",
    "\n",
    "The script demonstrates the use of average mode. The first sections connects & configures the system \n",
    "and sets the waveform generator. The latter sections define the average mode setting & digitizer sampling operation. \n",
    "The generator is configured on Channel-1, the signal is defined through a task table which consists of single cycle of \"sin\" wave followed by a \"dc\" quiet time.\n",
    "An additional marker is defined on Marker-1 of channel 1 - currently in the half time of the active signal.\n",
    "\n",
    "The digitizer is also configured on the input channel-1, so some loopback is required for the testing.\n",
    "Starting from section: 'Average Mode Parameters', the average mode setting are defined \n",
    "and consists of the following:\n",
    "\n",
    "#### Average Count up 1-16M\n",
    "AvgCount=8000000\n",
    "#### Frame Size 1-10240\n",
    "frame_size = 9600 \n",
    "####  number_of_frames =1 : Should be fixed one.\n",
    "\n",
    "In order to repeat tests with different parameters, you only need to replay sections starting from section: 'Average Mode Parameters'.\n",
    "A background parameter called the AverageMSBShift - is set to be the log2 of the AvgCount parameter since the summing accumlators are limted to 36 bit. \n",
    "\n",
    "The resulting data is displayed in a \"raw\" & normalized forms at the end.\n",
    "\n",
    "\n"
   ]
  },
  {
   "cell_type": "code",
   "execution_count": 25,
   "metadata": {
    "scrolled": true
   },
   "outputs": [],
   "source": [
    "import os\n",
    "import sys\n",
    "import gc\n",
    "srcpath = os.path.realpath('../../SourceFiles')\n",
    "sys.path.append(srcpath)\n",
    "from teproteus import TEProteusAdmin as TepAdmin\n",
    "from teproteus import TEProteusInst as TepInst\n",
    "from tevisainst import TEVisaInst"
   ]
  },
  {
   "cell_type": "code",
   "execution_count": 26,
   "metadata": {},
   "outputs": [],
   "source": [
    "import numpy as np\n",
    "import time\n",
    "import ipywidgets as widgets\n",
    "from IPython.core.debugger import set_trace\n",
    "from scipy.signal import chirp, sweep_poly\n",
    "import matplotlib.pyplot as plt\n"
   ]
  },
  {
   "cell_type": "code",
   "execution_count": 49,
   "metadata": {},
   "outputs": [],
   "source": [
    "# Connect to instrument\n",
    "\n",
    "inst = None\n",
    "admin = None\n",
    "\n",
    "conn_msg_str = ''\n",
    "\n",
    "def disconnect():\n",
    "    global inst\n",
    "    global admin\n",
    "    if inst is not None:\n",
    "        try:\n",
    "            inst.close_instrument()            \n",
    "        except:\n",
    "            pass\n",
    "        inst = None\n",
    "    if admin is not None:\n",
    "        try:\n",
    "            admin.close_inst_admin()\n",
    "        except:\n",
    "            pass\n",
    "        admin = None\n",
    "    gc.collect()\n",
    "\n",
    "def connect_to_pxi_slot(slot_id):\n",
    "    global inst\n",
    "    global admin\n",
    "    try:\n",
    "        disconnect()        \n",
    "        print(\"Trying to connect to PXI-slot:\" + str(slot_id))\n",
    "        admin = TepAdmin() #lib_dir_path= lib_dir_path_)\n",
    "        admin.open_inst_admin()        \n",
    "        inst = admin.open_instrument(slot_id, reset_hot_flag=True)\n",
    "    except:\n",
    "        pass\n",
    "\n",
    "def connect_to_lan_server(ip_address):\n",
    "    global inst\n",
    "    try:\n",
    "        disconnect()\n",
    "        print(\"Trying to connect to IP:\" + ip_address)\n",
    "        inst = TEVisaInst(ip_address, port=5025)\n",
    "    except:\n",
    "        pass\n",
    "\n",
    "def connect(ipaddr_or_slotid):\n",
    "    try:\n",
    "        disconnect()\n",
    "        if isinstance(ipaddr_or_slotid, str) and '.' in ipaddr_or_slotid:\n",
    "            connect_to_lan_server(ipaddr_or_slotid)\n",
    "        else:\n",
    "            connect_to_pxi_slot(ipaddr_or_slotid)\n",
    "    except:\n",
    "        pass\n",
    "\n",
    "addr_textbox = widgets.Text(\n",
    "    value='',\n",
    "    placeholder='IP Address or Slot Id',\n",
    "    description='Address:',\n",
    "    disabled=False\n",
    ")\n",
    "\n",
    "output = widgets.Output()\n",
    "\n",
    "def print_conn_message(msg_str):\n",
    "    global output\n",
    "    global conn_msg_str\n",
    "    with output:\n",
    "        if len(conn_msg_str) > 0:\n",
    "            print('\\r', end='')\n",
    "            print(' ' * len(conn_msg_str), end='')\n",
    "            print('\\r', end='')\n",
    "        conn_msg_str = str(msg_str)\n",
    "        if len(conn_msg_str) > 0:\n",
    "            print(conn_msg_str, end='')\n",
    "\n",
    "def on_button_connect_clicked(conn_str):\n",
    "    global inst\n",
    "    global addr_textbox\n",
    "    print_conn_message('')\n",
    "    disconnect()\n",
    "    if addr_textbox is not None:\n",
    "        conn_str = addr_textbox.value \n",
    "        if conn_str:\n",
    "            print_conn_message('Connecting to {0} ..'.format(conn_str))\n",
    "            connect(conn_str)\n",
    "            print_conn_message('')\n",
    "    if inst is not None:\n",
    "        idn_str = inst.send_scpi_query('*IDN?')\n",
    "        model = inst.send_scpi_query(\":SYST:iNF:MODel?\")\n",
    "        if idn_str:\n",
    "            prnmsg = 'Connected to: ' + idn_str.strip()\n",
    "            print_conn_message(prnmsg)\n",
    "            #print_conn_message('Connected to: ' + idn_str.strip())\n",
    "            \n",
    "    else:\n",
    "        print_conn_message('Instrument not connected..')\n",
    "    \n"
   ]
  },
  {
   "cell_type": "code",
   "execution_count": 64,
   "metadata": {},
   "outputs": [
    {
     "name": "stdout",
     "output_type": "stream",
     "text": [
      "Trying to connect to IP:192.168.0.42\n",
      "Connected to: Tabor Electronics,P9484,000000000000,1.222.0\n",
      "process id 17252\n",
      "\n",
      "Model: P9484\n",
      "DAC waveform format: 16 bits-per-point\n",
      "16\n"
     ]
    }
   ],
   "source": [
    "connect(\"192.168.0.42\")\n",
    "\n",
    "\n",
    "\n",
    "if inst is not None:\n",
    "        idn_str = inst.send_scpi_query('*IDN?')\n",
    "        model = inst.send_scpi_query(\":SYST:iNF:MODel?\")\n",
    "        if idn_str:\n",
    "            prnmsg = 'Connected to: ' + idn_str.strip()\n",
    "            print(prnmsg)\n",
    "else:\n",
    "    print(\"Not connected\")\n",
    "\n",
    "pid = os.getpid()\n",
    "print('process id {0}'.format(pid))\n",
    "\n",
    "inst.send_scpi_cmd(':TRAC:DEL:ALL')\n",
    "paranoia_level =2\n",
    "\n",
    "model = inst.send_scpi_query(\":SYST:iNF:MODel?\")\n",
    "print(\"\\nModel: \" + model)\n",
    "# Infer the natural DAC waveform format\n",
    "if 'P9082' in model:\n",
    "    dac_mode = 8\n",
    "else:\n",
    "    dac_mode = 16\n",
    "print(\"DAC waveform format: {0} bits-per-point\".format(dac_mode))\n",
    "\n",
    "if dac_mode == 16:\n",
    "    max_dac = 65535\n",
    "    data_type = np.uint16 \n",
    "else:\n",
    "    max_dac = 255\n",
    "    data_type = np.uint8 \n",
    "    \n",
    "half_dac = max_dac / 2.0\n",
    "\n",
    "freq = 8640e6\n",
    "inst.send_scpi_cmd(\"*CLS; *RST\")\n",
    "inst.send_scpi_cmd(\":INST:CHAN 1\")\n",
    "inst.send_scpi_cmd(\":FREQ:RAST {0}\".format(freq))\n",
    "inst.send_scpi_cmd(\":INIT:CONT ON\")\n",
    "\n",
    "    \n",
    "print(dac_mode)"
   ]
  },
  {
   "cell_type": "code",
   "execution_count": 65,
   "metadata": {},
   "outputs": [
    {
     "name": "stdout",
     "output_type": "stream",
     "text": [
      "DAC Generate Freq:8640000000.0\n"
     ]
    }
   ],
   "source": [
    "\n",
    "\n",
    "resp = inst.send_scpi_query(\":FREQ:RAST?\")\n",
    "freq = float(resp)\n",
    "print (\"DAC Generate Freq:{0}\".format(freq))\n",
    "freq= 8640e6"
   ]
  },
  {
   "cell_type": "markdown",
   "metadata": {},
   "source": [
    "## DC - Waveform 1 (Task 1)"
   ]
  },
  {
   "cell_type": "code",
   "execution_count": 66,
   "metadata": {},
   "outputs": [
    {
     "name": "stdout",
     "output_type": "stream",
     "text": [
      "2\n",
      "0, no error\n"
     ]
    },
    {
     "data": {
      "text/plain": [
       "[<matplotlib.lines.Line2D at 0x19c7f80faf0>]"
      ]
     },
     "execution_count": 66,
     "metadata": {},
     "output_type": "execute_result"
    },
    {
     "data": {
      "image/png": "[encoded data removed]",
      "text/plain": [
       "<Figure size 432x288 with 1 Axes>"
      ]
     },
     "metadata": {
      "needs_background": "light"
     },
     "output_type": "display_data"
    }
   ],
   "source": [
    "cycleLen = 2048\n",
    "numCycles = 1\n",
    "segLen = cycleLen * numCycles\n",
    "\n",
    "# Build waveform (triangle wave)\n",
    "y = np.ones(segLen)* half_dac\n",
    "y = y.astype(data_type)\n",
    "y.reshape(-1)\n",
    "\n",
    "print(y.itemsize)\n",
    "# Set Data as Task 1\n",
    "#inst.send_scpi_cmd(':TRAC:DEF 1, {0}'.format(segLen*y.itemsize))\n",
    "inst.send_scpi_cmd(':TRAC:DEF 1, {0}'.format(segLen)) #*y.itemsize))\n",
    "inst.send_scpi_cmd(':TRAC:SEL 1')\n",
    "# download the waveform to the selected Task\n",
    "inst.write_binary_data(':TRAC:DATA', y)\n",
    "resp = inst.send_scpi_query(':SYST:ERR?')\n",
    "print(resp)\n",
    "\n",
    "plt.plot(y)\n"
   ]
  },
  {
   "cell_type": "markdown",
   "metadata": {},
   "source": [
    "## Signal Marker 1"
   ]
  },
  {
   "cell_type": "code",
   "execution_count": 67,
   "metadata": {},
   "outputs": [
    {
     "name": "stdout",
     "output_type": "stream",
     "text": [
      "Build marker-data for sinus wave (segment 2) and download it to Proteus device.\n",
      "2048\n",
      "Seg marker bytes:256\n",
      "0, no error\n"
     ]
    }
   ],
   "source": [
    "print('Build marker-data for sinus wave (segment 2) and download it to Proteus device.')\n",
    "\n",
    "seg_mark_bytes = 0\n",
    "\n",
    "#Temp workaround : in high freq over 2.5GHz work like 8 bit\n",
    "if dac_mode == 16 and freq<= 2500000000:\n",
    "    seg_mark_bytes = segLen // 4\n",
    "else:\n",
    "    seg_mark_bytes = segLen // 8\n",
    "    \n",
    "print (segLen)\n",
    "print(\"Seg marker bytes:\" + str(seg_mark_bytes))\n",
    "y = np.zeros(seg_mark_bytes)\n",
    "marker = y.astype(np.uint8)\n",
    "    \n",
    "inst.send_scpi_cmd(\":INST:CHAN 1\")    \n",
    "inst.send_scpi_cmd( \":TRAC:SEL 1\", paranoia_level)    \n",
    "inst.send_scpi_cmd(':MARK:SEL 1')\n",
    "inst.write_binary_data(':MARK:DATA',marker)\n",
    "inst.send_scpi_cmd(':MARK:STAT ON')\n",
    "\n",
    "    \n",
    "resp = inst.send_scpi_query(':SYST:ERR?')\n",
    "print(resp)\n"
   ]
  },
  {
   "cell_type": "markdown",
   "metadata": {},
   "source": [
    "## Signal Waveform-2 (Task 2)"
   ]
  },
  {
   "cell_type": "code",
   "execution_count": 68,
   "metadata": {},
   "outputs": [
    {
     "name": "stdout",
     "output_type": "stream",
     "text": [
      "Build wave-data and download it to Proteus device.\n",
      "0, no error\n"
     ]
    },
    {
     "data": {
      "text/plain": [
       "[<matplotlib.lines.Line2D at 0x19c7f877070>]"
      ]
     },
     "execution_count": 68,
     "metadata": {},
     "output_type": "execute_result"
    },
    {
     "data": {
      "image/png": "[encoded data removed]",
      "text/plain": [
       "<Figure size 432x288 with 1 Axes>"
      ]
     },
     "metadata": {
      "needs_background": "light"
     },
     "output_type": "display_data"
    }
   ],
   "source": [
    "print('Build wave-data and download it to Proteus device.')\n",
    "# Build two AWG segment that will be used as innput for the digitizer\n",
    "paranoia_level = 2\n",
    "cycleLen = 1024\n",
    "numCycles = 1\n",
    "segLen = cycleLen * numCycles\n",
    "\n",
    "# Build sine waveform\n",
    "\n",
    "x = np.linspace(\n",
    "    start=0, stop=2 * np.pi * numCycles, num=segLen, endpoint=False)\n",
    "y = (0.5*np.sin(x) + 1.0) * half_dac\n",
    "y = np.round(y)\n",
    "y = np.clip(y, 0, max_dac)\n",
    "y = y.astype(data_type)\n",
    "y.reshape(-1)\n",
    "# Download it to segment 1 of channel 1\n",
    "#inst.send_scpi_cmd( \":TRAC:DEF 2,\" + str(segLen*y.itemsize), paranoia_level)\n",
    "inst.send_scpi_cmd( \":TRAC:DEF 2,\" + str(segLen), paranoia_level)\n",
    "inst.send_scpi_cmd( \":TRAC:SEL 2\", paranoia_level)\n",
    "\n",
    "inst.write_binary_data(':TRAC:DATA',y)\n",
    "resp = inst.send_scpi_query(':SYST:ERR?')\n",
    "print(resp)\n",
    "\n",
    "plt.plot(y)"
   ]
  },
  {
   "cell_type": "markdown",
   "metadata": {},
   "source": [
    "##### Signal Marker 2"
   ]
  },
  {
   "cell_type": "code",
   "execution_count": 69,
   "metadata": {},
   "outputs": [
    {
     "name": "stdout",
     "output_type": "stream",
     "text": [
      "Build marker-data for sinus wave (segment 2) and download it to Proteus device.\n",
      "0, no error\n"
     ]
    }
   ],
   "source": [
    "print('Build marker-data for sinus wave (segment 2) and download it to Proteus device.')\n",
    "\n",
    "seg_mark_bytes = 0\n",
    "#Temp workaround : in high freq over 2.5GHz work like 8 bit\n",
    "if False: #dac_mode == 16:\n",
    "    seg_mark_bytes = segLen * 2 //8\n",
    "    cycleBytes = cycleLen //4\n",
    "else:\n",
    "    seg_mark_bytes = segLen // 8\n",
    "    cycleBytes = cycleLen //8\n",
    "\n",
    "\n",
    "x = np.linspace(start=0, stop=seg_mark_bytes, num=seg_mark_bytes, endpoint=False)\n",
    "y = np.fmod(x, cycleBytes)\n",
    "y = (y > cycleBytes / 2) * 0x11   #Duty cycle condition:cycleBytes / 2\n",
    "y = np.round(y)\n",
    "y = np.clip(y, 0, 255)\n",
    "marker = y.astype(np.uint8)\n",
    "    \n",
    "inst.send_scpi_cmd(\":INST:CHAN 1\")    \n",
    "inst.send_scpi_cmd( \":TRAC:SEL 2\", paranoia_level)    \n",
    "inst.send_scpi_cmd(':MARK:SEL 1')\n",
    "inst.write_binary_data(':MARK:DATA',marker)\n",
    "inst.send_scpi_cmd(':MARK:STAT ON')\n",
    "\n",
    "    \n",
    "resp = inst.send_scpi_query(':SYST:ERR?')\n",
    "print(resp)\n"
   ]
  },
  {
   "cell_type": "markdown",
   "metadata": {},
   "source": [
    "## Configure Tasks"
   ]
  },
  {
   "cell_type": "code",
   "execution_count": 70,
   "metadata": {},
   "outputs": [
    {
     "name": "stdout",
     "output_type": "stream",
     "text": [
      "Downloading Task table of channel 1\n",
      "0, no error\n"
     ]
    }
   ],
   "source": [
    "tak_half_dac = 0x80\n",
    "\n",
    "inst.send_scpi_cmd(':INST:CHAN 1')          # Select channel\n",
    "inst.send_scpi_cmd(':TASK:COMP:LENG 3')     # Set 4 Tasks in this Task Table\n",
    "\n",
    "\n",
    "inst.send_scpi_cmd(':TASK:COMP:ENAB CPU')    # CPU trigger is the task enable\n",
    "inst.send_scpi_cmd(':TASK:COMP:SEGM 1')      # play segment 1 (DC)\n",
    "inst.send_scpi_cmd(':TASK:COMP:IDLE:LEV {0}'.format(tak_half_dac))  # DC level while waiting to a trigger\n",
    "inst.send_scpi_cmd(':TASK:COMP:NEXT1 2')     # the next task is 2     \n",
    "    \n",
    "inst.send_scpi_cmd(':TASK:COMP:SEL 2')\n",
    "inst.send_scpi_cmd(':TASK:COMP:ENAB NONE')    # NONE trigger is the task enable\n",
    "inst.send_scpi_cmd(':TASK:COMP:SEGM 2' )       # play segment 2 (Signal)\n",
    "inst.send_scpi_cmd(':TASK:COMP:TYPE START' )\n",
    "inst.send_scpi_cmd(':TASK:COMP:SEQ 1000000') # sequence loop = AvgCount or other\n",
    "inst.send_scpi_cmd(':TASK:COMP:DTRigger ON')   # issue a trigger to the ADC at start of segment\n",
    "inst.send_scpi_cmd(':TASK:COMP:IDLE:LEV {0}'.format(tak_half_dac))  # DC level while waiting to a trigger\n",
    "inst.send_scpi_cmd(':TASK:COMP:LOOP 1' )       # repeat the segment 1 time\n",
    "inst.send_scpi_cmd(':TASK:COMP:NEXT1 3')       # the next task is 3\n",
    "\n",
    "inst.send_scpi_cmd(':TASK:COMP:SEL 3')\n",
    "inst.send_scpi_cmd(':TASK:COMP:ENAB NONE')    # NONE trigger is the task enable\n",
    "inst.send_scpi_cmd(':TASK:COMP:SEGM 1' )       # play segment 1 (DC)\n",
    "inst.send_scpi_cmd(':TASK:COMP:TYPE END' )\n",
    "inst.send_scpi_cmd(':TASK:COMP:LOOP 20' )       # repeat the segment 1 time\n",
    "inst.send_scpi_cmd(':TASK:COMP:IDLE:LEV {0}'.format(tak_half_dac))  # DC level while waiting to a trigger\n",
    "#inst.send_scpi_cmd(':TASK:COMP:DTRigger ON')   # issue a trigger to the ADC at start of segment\n",
    "inst.send_scpi_cmd(':TASK:COMP:NEXT1 1')       # the next task is 1\n",
    "    \n",
    "inst.send_scpi_cmd(':TASK:COMP:WRIT' )   \n",
    "print('Downloading Task table of channel 1')\n",
    "\n",
    " \n",
    "\n",
    "resp = inst.send_scpi_query(':SYST:ERR?')\n",
    "print(resp)\n"
   ]
  },
  {
   "cell_type": "markdown",
   "metadata": {},
   "source": [
    "# Start Channel 1 at Task mode"
   ]
  },
  {
   "cell_type": "code",
   "execution_count": 71,
   "metadata": {},
   "outputs": [
    {
     "name": "stdout",
     "output_type": "stream",
     "text": [
      "0, no error\n"
     ]
    },
    {
     "data": {
      "text/plain": [
       "0"
      ]
     },
     "execution_count": 71,
     "metadata": {},
     "output_type": "execute_result"
    }
   ],
   "source": [
    "# Enable channel 1\n",
    "inst.send_scpi_cmd(':INST:CHAN 1')\n",
    "inst.send_scpi_cmd(':SOUR:VOLT 0.2')\n",
    "\n",
    "# Set Channel 1 to run task function\n",
    "inst.send_scpi_cmd('FUNC:MODE TASK')\n",
    "resp = inst.send_scpi_query(':SYST:ERR?')\n",
    "print(resp)\n",
    "inst.send_scpi_cmd(':OUTP ON')"
   ]
  },
  {
   "cell_type": "code",
   "execution_count": 72,
   "metadata": {},
   "outputs": [
    {
     "data": {
      "text/plain": [
       "0"
      ]
     },
     "execution_count": 72,
     "metadata": {},
     "output_type": "execute_result"
    }
   ],
   "source": [
    "\n",
    "## Test generatation of  1 M signal events.\n",
    "inst.send_scpi_cmd('*TRG')"
   ]
  },
  {
   "cell_type": "markdown",
   "metadata": {},
   "source": [
    "# Average Mode Parameters "
   ]
  },
  {
   "cell_type": "code",
   "execution_count": 93,
   "metadata": {},
   "outputs": [],
   "source": [
    "#Digitizer Average Mode Settings \n",
    "##################################\n",
    "#Average Count up 1-16M\n",
    "AvgCount=1000000\n",
    "##################################\n",
    "#Frame Size 1-10240\n",
    "frame_size = 9800\n",
    "\n",
    "##################################\n",
    "number_of_frames =1 # Should be fixed one.\n"
   ]
  },
  {
   "cell_type": "markdown",
   "metadata": {},
   "source": [
    "# Setup Digitizer"
   ]
  },
  {
   "cell_type": "code",
   "execution_count": 96,
   "metadata": {},
   "outputs": [
    {
     "name": "stdout",
     "output_type": "stream",
     "text": [
      "Set Digitizer: SINGLE mode; internal Trigger\n",
      "221, illegal argument\n"
     ]
    },
    {
     "data": {
      "text/plain": [
       "0"
      ]
     },
     "execution_count": 96,
     "metadata": {},
     "output_type": "execute_result"
    }
   ],
   "source": [
    "## New Average Mode registers:\n",
    "inst.send_scpi_cmd(':DIG:ACQuire:AVERage:STAT ON')\n",
    "inst.send_scpi_cmd(':DIG:ACQuire:AVERage:COUNt {0}'.format(AvgCount))\n",
    "\n",
    "# Erase previous capturing data from channel 1\n",
    "inst.send_scpi_cmd(':DIG:CHAN:SEL 1')\n",
    "inst.send_scpi_cmd(':DIG:ACQuire:ZERO 1,-1')\n",
    "\n",
    "print(\"Set Digitizer: SINGLE mode; internal Trigger\")\n",
    "inst.send_scpi_cmd(':DIG:MODE SINGLE')\n",
    "inst.send_scpi_cmd(':DIG:FREQ 5400MHZ')\n",
    "resp = inst.send_scpi_query(':SYST:ERR?')\n",
    "print(resp)\n",
    "\n",
    "inst.send_scpi_cmd(':DIG:ACQuire:FRAM:DEF {0}, {1}'.format(number_of_frames, frame_size))\n",
    "inst.send_scpi_cmd(':DIG:ACQuire:FRAM:CAPT 1, 1')\n",
    "\n",
    "# Set Trigger level to 0.2V\n",
    "#inst.send_scpi_cmd(':DIG:TRIG:LEV1 -0.1')\n",
    "\n",
    "# Enable capturing data from channel 1\n",
    "inst.send_scpi_cmd(':DIG:CHAN:SEL 1')\n",
    "inst.send_scpi_cmd(':DIG:CHAN:STATE ENAB')\n",
    "# Select the internal-trigger as start-capturing trigger:\n",
    "inst.send_scpi_cmd(':DIG:TRIG:SOURCE TASK1') \n",
    "\n",
    "\n",
    "# Enable capturing data from channel 2\n",
    "inst.send_scpi_cmd(':DIG:CHAN:SEL 2')\n",
    "inst.send_scpi_cmd(':DIG:CHAN:STATE ENAB')\n",
    "# Select the internal-trigger as start-capturing trigger:\n",
    "inst.send_scpi_cmd(':DIG:TRIG:SOURCE TASK1')\n",
    "\n",
    "\n",
    "inst.send_scpi_cmd(':DIG:TRIG:AWG:TDEL 0.0')\n",
    "\n"
   ]
  },
  {
   "cell_type": "code",
   "execution_count": 110,
   "metadata": {},
   "outputs": [
    {
     "name": "stdout",
     "output_type": "stream",
     "text": [
      "Digitizer Mode:SING\n",
      "Average Mode:ON\n",
      "Average Count:1000000\n",
      "Avg Sum shift:0x00000008\n",
      "Frame size:9800\n",
      "9800\n"
     ]
    }
   ],
   "source": [
    "resp = inst.send_scpi_query(':DIG:MODE?')\n",
    "print(\"Digitizer Mode:\"+resp)\n",
    "\n",
    "resp = inst.send_scpi_query(':DIG:ACQuire:AVERage:STAT?')\n",
    "print(\"Average Mode:\"+resp)\n",
    "if resp in \"ON\":\n",
    "    datatype = np.uint32\n",
    "else:\n",
    "    datatype = np.uint16\n",
    "    \n",
    "resp = inst.send_scpi_query(':DIG:ACQuire:AVERage:COUNt?')\n",
    "print(\"Average Count:\"+resp)\n",
    "\n",
    "resp = inst.send_scpi_query(':SHELL:REG? 0x004060AC') \n",
    "print(\"Avg Sum shift:\"+resp)\n",
    "AvgShiftMSB = resp\n",
    "\n",
    "resp = inst.send_scpi_query(':DIG:ACQuire:FRAM:DEF?') \n",
    "print (\"Frame size:\"+ str(frame_size))\n",
    "print(resp[2:])\n"
   ]
  },
  {
   "cell_type": "code",
   "execution_count": 111,
   "metadata": {},
   "outputs": [
    {
     "name": "stdout",
     "output_type": "stream",
     "text": [
      "0x00000001\n",
      "0x00000000\n",
      "0x00000008\n",
      "0\n"
     ]
    }
   ],
   "source": [
    "#resp=inst.send_scpi_query(':SHELL:REG? 0x0040605C')\n",
    "resp=inst.send_scpi_query(':SHELL:REG? 0x004060A4')\n",
    "print(resp)\n",
    "resp=inst.send_scpi_query(':SHELL:REG? 0x004060A8')\n",
    "print(resp)\n",
    "resp=inst.send_scpi_query(':SHELL:REG 0x004060AC?')\n",
    "print(resp)\n",
    "\n",
    "resp=inst.send_scpi_cmd(':SHELL:REG 0x004060A8, 0x0')\n",
    "print(resp)"
   ]
  },
  {
   "cell_type": "markdown",
   "metadata": {},
   "source": [
    "## Start Sampling Sequence"
   ]
  },
  {
   "cell_type": "code",
   "execution_count": 112,
   "metadata": {},
   "outputs": [
    {
     "name": "stdout",
     "output_type": "stream",
     "text": [
      "0, no error\n"
     ]
    }
   ],
   "source": [
    "# Stop the digitizer's capturing machine (to be on the safe side)\n",
    "inst.send_scpi_cmd(':DIG:INIT OFF')\n",
    "\n",
    "\n",
    "inst.send_scpi_cmd(':DIG:INIT ON')\n",
    "resp = inst.send_scpi_query(':SYST:ERR?')\n",
    "print(resp)\n",
    "\n"
   ]
  },
  {
   "cell_type": "markdown",
   "metadata": {},
   "source": [
    "## Trigger Gen Signal & Acquire Data"
   ]
  },
  {
   "cell_type": "code",
   "execution_count": 113,
   "metadata": {},
   "outputs": [
    {
     "data": {
      "text/plain": [
       "0"
      ]
     },
     "execution_count": 113,
     "metadata": {},
     "output_type": "execute_result"
    }
   ],
   "source": [
    "\n",
    "## Currently Generates 1 M signal events.\n",
    "inst.send_scpi_cmd('*TRG')"
   ]
  },
  {
   "cell_type": "code",
   "execution_count": 114,
   "metadata": {},
   "outputs": [
    {
     "name": "stdout",
     "output_type": "stream",
     "text": [
      "Waiting for acquire to complete.\n",
      "1,1,0,1\n",
      "Digitizer: Finish Acquisition\n"
     ]
    }
   ],
   "source": [
    "\n",
    "#\"<frame-done-bit>,<all-frames-done-bit>,<counter-busy-bit>,<frames-counter>\"\n",
    "frameRx = 0\n",
    "print(\"Waiting for acquire to complete.\")\n",
    "times = 0\n",
    "while (frameRx != 1):\n",
    "    resp = inst.send_scpi_query(':DIG:ACQuire:FRAM:STATus?')\n",
    "    framesParam = resp.split(\",\")\n",
    "    frameRx = int(framesParam[3])\n",
    "    times += 1\n",
    "    time.sleep(0.1)\n",
    "    if times > 100:\n",
    "        break\n",
    "print(resp)\n",
    "\n",
    "\n",
    "if (times<100):\n",
    "    print(\"Digitizer: Finish Acquisition\")\n",
    "else:\n",
    "    print('Could not finish acquire data- try again')"
   ]
  },
  {
   "cell_type": "markdown",
   "metadata": {},
   "source": [
    "## Read Data"
   ]
  },
  {
   "cell_type": "code",
   "execution_count": 115,
   "metadata": {},
   "outputs": [
    {
     "name": "stdout",
     "output_type": "stream",
     "text": [
      "0, no error\n",
      "39200\n",
      "Total size in bytes: 39200\n",
      "0, no error\n",
      "read data from DDR\n"
     ]
    }
   ],
   "source": [
    "inst.send_scpi_cmd(':DIG:INIT OFF')\n",
    "#inst.send_scpi_cmd(':DIG:ACQuire:AVERage:STAT OFF')\n",
    "resp = inst.send_scpi_query(':SYST:ERR?')\n",
    "print(resp)\n",
    "\n",
    "inst.send_scpi_cmd(':DIG:DATA:SEL ALL')\n",
    "inst.send_scpi_cmd(':DIG:DATA:TYPE FRAM')\n",
    "resp = inst.send_scpi_query(':DIG:DATA:SIZE?')\n",
    "print(resp)\n",
    "num_bytes = np.uint32(resp)\n",
    "print('Total size in bytes: ' + resp)\n",
    "\n",
    "# Read the data that was captured by channel 1:\n",
    "inst.send_scpi_cmd(':DIG:CHAN:SEL 1')\n",
    "\n",
    "wavlen = frame_size #num_bytes *2\n",
    "if (wavlen != num_bytes//np.dtype(datatype).itemsize):\n",
    "  print (\"Read size doesn't match frame size \")\n",
    "\n",
    "#wav1 = np.zeros(wavlen, dtype=np.uint16)\n",
    "wav1 = np.zeros(wavlen, datatype)\n",
    "\n",
    "rc = inst.read_binary_data(':DIG:DATA:READ?', wav1, num_bytes)\n",
    "\n",
    "resp = inst.send_scpi_query(':SYST:ERR?')\n",
    "print(resp)\n",
    "print(\"read data from DDR\")\n"
   ]
  },
  {
   "cell_type": "markdown",
   "metadata": {},
   "source": [
    "##  Plot Raw Data -  Binary Offset of 28 bit."
   ]
  },
  {
   "cell_type": "code",
   "execution_count": 116,
   "metadata": {},
   "outputs": [
    {
     "name": "stdout",
     "output_type": "stream",
     "text": [
      "Count:1000000, MSB Shift:0x00000008\n",
      "Max:134502309, Min:134003660, Delta:498649\n"
     ]
    },
    {
     "data": {
      "image/png": "[encoded data removed]",
      "text/plain": [
       "<Figure size 432x288 with 1 Axes>"
      ]
     },
     "metadata": {
      "needs_background": "light"
     },
     "output_type": "display_data"
    }
   ],
   "source": [
    "fig, axs = plt.subplots(1)\n",
    "axs.plot(wav1)\n",
    "plt.ylabel('Frame')\n",
    "fig.suptitle('Count:')\n",
    "\n",
    "maxAvg = np.max(wav1)\n",
    "minAvg = np.min(wav1)\n",
    "print (\"Count:{0}, MSB Shift:{1}\".format(AvgCount, AvgShiftMSB))\n",
    "print(\"Max:{0}, Min:{1}, Delta:{2}\".format(maxAvg,minAvg,maxAvg-minAvg))"
   ]
  },
  {
   "cell_type": "markdown",
   "metadata": {},
   "source": [
    "### Normalize to Signed number "
   ]
  },
  {
   "cell_type": "code",
   "execution_count": 117,
   "metadata": {},
   "outputs": [],
   "source": [
    "def MsbCutoff(AvgCount):\n",
    "    for i in range(31,14,-1):\n",
    "      if ((1 << i) & AvgCount) != 0:\n",
    "            break;\n",
    "    log2FrameFactor = 1 << (i - 15);\n",
    "    return log2FrameFactor;"
   ]
  },
  {
   "cell_type": "code",
   "execution_count": 118,
   "metadata": {
    "scrolled": true
   },
   "outputs": [
    {
     "data": {
      "text/plain": [
       "Text(0.5, 0.98, 'Count:')"
      ]
     },
     "execution_count": 118,
     "metadata": {},
     "output_type": "execute_result"
    },
    {
     "data": {
      "image/png": "[encoded data removed]",
      "text/plain": [
       "<Figure size 432x288 with 1 Axes>"
      ]
     },
     "metadata": {
      "needs_background": "light"
     },
     "output_type": "display_data"
    }
   ],
   "source": [
    "wavNorm = np.add(wav1, - np.power(2,27)) * MsbCutoff(AvgCount)/AvgCount\n",
    "\n",
    "fig, axs = plt.subplots(1)\n",
    "axs.plot(wavNorm)\n",
    "plt.ylabel('Frame')\n",
    "fig.suptitle('Count:')\n"
   ]
  },
  {
   "cell_type": "code",
   "execution_count": 24,
   "metadata": {},
   "outputs": [],
   "source": [
    "inst.close_instrument()\n",
    "#admin.close_inst_admin()"
   ]
  },
  {
   "cell_type": "code",
   "execution_count": null,
   "metadata": {},
   "outputs": [],
   "source": []
  }
 ],
 "metadata": {
  "kernelspec": {
   "display_name": "Python 3",
   "language": "python",
   "name": "python3"
  },
  "language_info": {
   "codemirror_mode": {
    "name": "ipython",
    "version": 3
   },
   "file_extension": ".py",
   "mimetype": "text/x-python",
   "name": "python",
   "nbconvert_exporter": "python",
   "pygments_lexer": "ipython3",
   "version": "3.8.5"
  }
 },
 "nbformat": 4,
 "nbformat_minor": 4
}
