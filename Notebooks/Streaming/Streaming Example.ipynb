{
 "cells": [
  {
   "cell_type": "markdown",
   "metadata": {},
   "source": [
    "<img align=\"left\" src=\"https://www.taborelec.com/Pictures/logo.png\">"
   ]
  },
  {
   "cell_type": "markdown",
   "metadata": {},
   "source": [
    "# Streaming Example"
   ]
  },
  {
   "cell_type": "markdown",
   "metadata": {},
   "source": [
    "### Description:\n",
    "This script comes to demonstrate working with streaming mode with one channel on a Proteus device.\n",
    "\n",
    "\n",
    "### set up:\n",
    "Use Proteues device and connect channel 1 to the scoop.\n",
    "This scripts works with PXI only because we need connection\n",
    "\n",
    "### Proteus version: \n",
    "ALICE"
   ]
  },
  {
   "cell_type": "markdown",
   "metadata": {},
   "source": [
    "# Streaming Mode\n",
    "\n",
    "When working with streaming mode, the main application should continouosly push packets of waveform-data <br>\n",
    "to instrument. The packets have constant size of 1 Mega ($1024\\cdot1024$) bytes of waveform data.<br>\n",
    "\n",
    "The operation of pushing packets to instrument must be very fast so the main application should run on the same<br>\n",
    "computer that controls the hardware modules. Further more, the main application should load and run the DLL that<br> controls the hardware modules, and call the function that pushes a packet directly from the DLL.<br>\n",
    "\n",
    "This means that the main application does not send SCPI commands over TCP to server that runs the hardware<br> controller, but passes the SCPI commands by calling appropriate function from the DLL.\n",
    "\n",
    "Please note that if there is server running on the computer that controls the hardware, then it should be stop<br>\n",
    "beacuse when it runs the DLL won't detect the hardware modules.\n",
    "\n",
    "The DLL is called `TEProteus.dll`. It is a pure `c` DLL rather than *Dot Net* DLL (which might be slower), and<br>\n",
    "it comes with header file `TEProteus.h` and lib file `TEProteus.lib` so it should be possible to load it from MATLB.<br>\n",
    "\n",
    "In python one can use `teproteus` that loads the `TEProteus.dll` and gives access to its functions.<br>\n",
    "\n",
    "In order to work in streaming mode\n",
    "\n",
    " 1. Select channel by sending SCPI command: `:INSTrument:CHANnel[:SELect] <channel-number>`\n",
    " 2. Acquire the stream-writing interface of the selected channel by calling the function<br>\n",
    "    `TEProteusInst.acquire_stream_intf(chan_num)` from `teproteus`. Please note that currently<br>\n",
    "    only single channel can work in streaming-mode.\n",
    " 3. Start streaming mode in the selected channel by sending the SCPI command `:TRACe:STReaming ON`.\n",
    " 4. Push packts of waveform data continouosly either with the function <br>\n",
    "     - `TEProteusInst.push_stream_packet(self, bin_dat, bytes_offs, usec_wait)`  \n",
    "     \n",
    "    or with the lower level functions:<br>\n",
    "     - `TEProteusInst.get_stream_empty_buff(self)`.\n",
    "     - `TEProteusInst.put_stream_full_buff(self, full_buff, usec_wait)`.\n",
    "     - `TEProteusInst.put_stream_empty_buff(self, empty_buff)`.  \n",
    "    \n",
    "    See their documentation in `teproteus.py`.\n",
    " 5. Stop the streaming-mode at the end by sending the SCPI command `:TRACe:STReaming OFF`.\n",
    "\n",
    "\n",
    "## Simple example\n",
    "In this very simple example we create 3 waveforms, each of them in size of 64 packets,<br>\n",
    "and push the packets of the selected waveform (which we change every 30 seconds) in cyclic mode."
   ]
  },
  {
   "cell_type": "markdown",
   "metadata": {},
   "source": [
    "import os\n",
    "import sys\n",
    "srcpath = os.path.realpath('../../SourceFiles')\n",
    "sys.path.append(srcpath)\n",
    "from teproteus import TEProteusAdmin as TepAdmin\n",
    "from teproteus import TEProteusInst as TepInst"
   ]
  },
  {
   "cell_type": "code",
   "execution_count": 9,
   "metadata": {},
   "outputs": [],
   "source": [
    "%matplotlib notebook\n",
    "import numpy as np\n",
    "import time\n",
    "from threading import Thread\n",
    "import ipywidgets as widgets\n",
    "from IPython.core.debugger import set_trace\n",
    "import matplotlib.pyplot as plt"
   ]
  },
  {
   "cell_type": "markdown",
   "metadata": {},
   "source": [
    "## Prepare waves"
   ]
  },
  {
   "cell_type": "code",
   "execution_count": 10,
   "metadata": {},
   "outputs": [],
   "source": [
    "def prepare_waves(inst, dac_mode, packet_size, num_packets):\n",
    "    \n",
    "    if dac_mode == 16:\n",
    "        max_dac = 65535\n",
    "        data_type = np.uint16 \n",
    "        packetLen = packet_size // 2\n",
    "    else:\n",
    "        max_dac = 255\n",
    "        data_type = np.uint8 \n",
    "        packetLen = packet_size\n",
    "    \n",
    "    half_dac = max_dac / 2.0\n",
    "\n",
    "    totalLen = num_packets * packetLen\n",
    "    totalSize = num_packets * packet_size\n",
    "\n",
    "    numCycles = 1\n",
    "    cycleLen = totalLen / numCycles\n",
    "\n",
    "\n",
    "    x = np.linspace(0, 2 * np.pi * numCycles, totalLen, False)\n",
    "    w1 = np.sin(x)\n",
    "    w2 = np.arcsin(w1) * 2 / np.pi\n",
    "    w3 = (w1 >= 0) * max_dac\n",
    "\n",
    "    del x\n",
    "\n",
    "    np.round((w1 + 1) * half_dac, out=w1)\n",
    "    np.clip(w1, 0, max_dac, out=w1)\n",
    "\n",
    "    np.round((w2 + 1) * half_dac, out=w2)\n",
    "    np.clip(w2, 0, max_dac, out=w2)\n",
    "\n",
    "    if 8 == dac_mode:\n",
    "        w1 = w1.astype(np.uint8)\n",
    "        w2 = w2.astype(np.uint8)\n",
    "        w3 = w3.astype(np.uint8)\n",
    "    else:\n",
    "        w1 = w1.astype(np.uint16)\n",
    "        w2 = w2.astype(np.uint16)\n",
    "        w3 = w3.astype(np.uint16)\n",
    "\n",
    "    return w1, w2, w3"
   ]
  },
  {
   "cell_type": "markdown",
   "metadata": {},
   "source": [
    "## Start Streaming Mode"
   ]
  },
  {
   "cell_type": "code",
   "execution_count": 11,
   "metadata": {},
   "outputs": [],
   "source": [
    "def start_streaming_mode(inst):\n",
    "    # Select channel\n",
    "    rc = inst.send_scpi_cmd(':INST:CHAN 1')\n",
    "\n",
    "    #Turn output on\n",
    "    rc = inst.send_scpi_cmd(':OUTP ON')\n",
    "\n",
    "    # Select sampling rate\n",
    "    rc = inst.send_scpi_cmd(':FREQ:RAST 3.5e9')\n",
    "\n",
    "    # Turn streaming mode on\n",
    "\n",
    "    # Send :TRACe:STReaming ON\n",
    "    rc = inst.send_scpi_cmd(':TRAC:STR ON')\n",
    "\n",
    "    time.sleep(0.1)\n",
    "\n",
    "    resp = inst.send_scpi_query(':SYST:ERR?')\n",
    "    print(resp)\n",
    "\n",
    "    resp = inst.send_scpi_query(':TRAC:STR?')\n",
    "    print('Streaming state: ' + resp)\n",
    "    "
   ]
  },
  {
   "cell_type": "markdown",
   "metadata": {},
   "source": [
    "## Push packets of waveform data continouosly"
   ]
  },
  {
   "cell_type": "code",
   "execution_count": 12,
   "metadata": {},
   "outputs": [],
   "source": [
    "def push_streaming_data(inst, waves, num_packets, packet_size):\n",
    "           \n",
    "    iwav = 0\n",
    "    wav = waves[iwav]\n",
    "\n",
    "    ipacket = 0\n",
    "    byteOffs = 0\n",
    "\n",
    "    # The maximal waiting-time when\n",
    "    # pushing a full buffer (in microseconds)\n",
    "    usWait = 50000\n",
    "    \n",
    "    global keep_looping\n",
    "\n",
    "    t1 = time.time()    \n",
    "    try:\n",
    "        #is_write_stream_active = inst.is_write_stream_active()\n",
    "        \n",
    "        #if not is_write_stream_active:\n",
    "        #    raise RuntimeError('is_write_stream_active is False')\n",
    "        \n",
    "        # This is the stream-pushing loop  ..\n",
    "        while keep_looping:\n",
    "            byteOffs = ipacket * packet_size\n",
    "\n",
    "            # Push next packet (from the selected waveform)\n",
    "            rc = inst.push_stream_packet(wav, byteOffs, usWait)\n",
    "            if rc == -1:\n",
    "                break\n",
    "\n",
    "            # Change the selected waveform every 30 seconds\n",
    "            t2 = time.time()\n",
    "            if t2 - t1 >= 30:            \n",
    "                t1 = time.time()\n",
    "                iwav = (iwav + 1) % 3\n",
    "                wav = waves[iwav]\n",
    "            ipacket = (ipacket + 1) % num_packets\n",
    "\n",
    "    except exception:\n",
    "        pass\n",
    "\n",
    "    # At the end send ':TRACe:STReaming OFF' to stop streaming mode\n",
    "    rc = inst.send_scpi_cmd(':TRAC:STR OFF')\n",
    "    # Just for debug ..\n",
    "    resp = inst.send_scpi_query(':TRAC:STR?')\n",
    "    print('Streaming state: ' + resp)\n"
   ]
  },
  {
   "cell_type": "markdown",
   "metadata": {},
   "source": [
    "## Main Part"
   ]
  },
  {
   "cell_type": "code",
   "execution_count": 14,
   "metadata": {},
   "outputs": [
    {
     "name": "stdout",
     "output_type": "stream",
     "text": [
      "Start of main function\n"
     ]
    },
    {
     "data": {
      "application/vnd.jupyter.widget-view+json": {
       "model_id": "5d373a29f9be4bb08b9a3bce54640d26",
       "version_major": 2,
       "version_minor": 0
      },
      "text/plain": [
       "Button(description='Stop Streaming', style=ButtonStyle())"
      ]
     },
     "metadata": {},
     "output_type": "display_data"
    },
    {
     "name": "stdout",
     "output_type": "stream",
     "text": [
      "Load TEProteus.dll from : C:\\WINDOWS\\system32\\TEProteus.dll\n",
      "Connected to: Tabor Electronics,P9484M,000002221014,1.223.0\n",
      "Model: P9484M\n",
      "DAC waveform format: 16 bits-per-point\n",
      "Preparing waves ..\n",
      "0, no error\n",
      "Streaming state: OFF\n",
      "Streaming state: OFF\n",
      "Closing instrument ..\n",
      "End of main function\n"
     ]
    }
   ],
   "source": [
    "inst = None\n",
    "keep_looping = True\n",
    "\n",
    "def main_func():\n",
    "    \n",
    "    print('Start of main function')\n",
    "    \n",
    "    # Create a single instance of instruments-administrator.\n",
    "    # Using the 'with' statement makes sure it will be closed at the end\n",
    "    # Otherwise the user should close the administrator at the end with admin.close_inst_admin()\n",
    "\n",
    "    with TepAdmin() as admin:\n",
    "\n",
    "        # Open a single-slot instrument\n",
    "        \n",
    "        global inst\n",
    "\n",
    "        # Please select appropriate slot-id\n",
    "        inst = admin.open_instrument(slot_id=5)\n",
    "\n",
    "        resp = inst.send_scpi_query('*IDN?')\n",
    "        print('Connected to: ' + resp)\n",
    "\n",
    "        # Optionaly set paranoia-level (by default it is 1).\n",
    "        # The supported values are: low (0), normal (1), or debug (2).\n",
    "        inst.default_paranoia_level = 2\n",
    "\n",
    "        # Reset the instrument\n",
    "        rc = inst.send_scpi_cmd('*CLS; *RST')\n",
    "\n",
    "        # Get the model name\n",
    "        resp = inst.send_scpi_query(\":SYST:iNF:MODel?\")\n",
    "        print(\"Model: \" + resp)\n",
    "        \n",
    "        # Infer the natural DAC waveform format\n",
    "        if 'P9082' in resp:\n",
    "            dac_mode = 8\n",
    "        else:\n",
    "            dac_mode = 16\n",
    "        print(\"DAC waveform format: {0} bits-per-point\".format(dac_mode))\n",
    "\n",
    "        # Get packet size:\n",
    "        packet_size = inst.get_stream_packet_size()\n",
    "\n",
    "        print('Preparing waves ..')\n",
    "\n",
    "        num_packets = 64\n",
    "\n",
    "        # Prepare 3 waveforms (each in size of 64 packets)\n",
    "        waves = prepare_waves(inst, dac_mode, packet_size, num_packets)\n",
    "\n",
    "        # Acquire the stream-writing interface of the specified channel:\n",
    "        inst.acquire_stream_intf(chan_num = 1)\n",
    "\n",
    "        time.sleep(0.1)    \n",
    "\n",
    "        # Start the streaming mode (in channel 1):\n",
    "        start_streaming_mode(inst)\n",
    "\n",
    "        global keep_looping\n",
    "        \n",
    "        keep_looping = True\n",
    "        \n",
    "        # Push streaming-data while keep_looping is True\n",
    "        push_streaming_data(inst, waves, num_packets, packet_size)\n",
    "        \n",
    "        # Close instrument:\n",
    "        print('Closing instrument ..')    \n",
    "        inst.close_instrument()\n",
    "        \n",
    "    print('End of main function') \n",
    "\n",
    "# Run the main-function in thread\n",
    "main_thread = Thread(target = main_func)\n",
    "\n",
    "stop_streaming_button = widgets.Button(description='Stop Streaming')\n",
    "\n",
    "def on_stop_streaming_button_clicked(arg):\n",
    "    global inst\n",
    "    global keep_looping\n",
    "    global main_thread\n",
    "    print('stop-streaming button clicked')\n",
    "    keep_looping = False\n",
    "    time.sleep(0.2)\n",
    "    #if inst is not None:\n",
    "    #    inst.send_scpi_cmd(':TRAC:STR OFF')\n",
    "    #    inst.close_instrument()\n",
    "    main_thread.join(5.0)\n",
    "\n",
    "stop_streaming_button.on_click(on_stop_streaming_button_clicked)\n",
    "\n",
    "\n",
    "# Start the main thread\n",
    "main_thread.start()\n",
    "\n",
    "# Display the button\n",
    "\n",
    "display(stop_streaming_button)\n",
    "\n",
    "\n",
    "    \n",
    "    "
   ]
  },
  {
   "cell_type": "code",
   "execution_count": null,
   "metadata": {},
   "outputs": [],
   "source": []
  }
 ],
 "metadata": {
  "kernelspec": {
   "display_name": "Python 3",
   "language": "python",
   "name": "python3"
  },
  "language_info": {
   "codemirror_mode": {
    "name": "ipython",
    "version": 3
   },
   "file_extension": ".py",
   "mimetype": "text/x-python",
   "name": "python",
   "nbconvert_exporter": "python",
   "pygments_lexer": "ipython3",
   "version": "3.8.5"
  }
 },
 "nbformat": 4,
 "nbformat_minor": 4
}
