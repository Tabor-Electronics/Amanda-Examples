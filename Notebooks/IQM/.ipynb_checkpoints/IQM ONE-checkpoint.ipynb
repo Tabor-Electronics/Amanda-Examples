{
 "cells": [
  {
   "cell_type": "markdown",
   "metadata": {},
   "source": [
    "<img align=\"left\" src=\"https://www.taborelec.com/Pictures/logo.png\">"
   ]
  },
  {
   "cell_type": "markdown",
   "metadata": {},
   "source": [
    "# IQM ONE"
   ]
  },
  {
   "cell_type": "markdown",
   "metadata": {},
   "source": [
    "### Description:\n",
    "This script comes to demonstrate ....\n",
    "\n",
    "\n",
    "### set up:\n",
    "\n",
    "\n",
    "### Proteus version: \n",
    "ALICE\n"
   ]
  },
  {
   "cell_type": "markdown",
   "metadata": {},
   "source": [
    "# IQM ONE\n",
    "\n",
    "This script will test \"IQM ONE\" mode.in this mode one segments is generated containing two interleaved signals: sin and cos.\n",
    "\n",
    "When a sin signal is modulated with a cos signal, only one sideband signal relative to the LO signal\n",
    "\n",
    "Should be present.\n",
    "\n",
    "Connect channel 1 to a spectrum anlayzer at center frequency of 100MHz.\n",
    "\n",
    "Connect channel 2 to a spectrum anlayzer at center frequency of 120MHz.\n",
    "\n",
    "Connect channel 3 to a spectrum anlayzer at center frequency of 130MHz.\n",
    "\n",
    "Connect channel 4 to a spectrum anlayzer at center frequency of 140MHz."
   ]
  },
  {
   "cell_type": "code",
   "execution_count": 1,
   "metadata": {},
   "outputs": [
    {
     "name": "stdout",
     "output_type": "stream",
     "text": [
      "Interpolation =  X8\n",
      "maxRate =  9000000000.0\n"
     ]
    }
   ],
   "source": [
    "def getIntepolation(i):\n",
    "    switcher={\n",
    "                1:'X1',\n",
    "                2:'X2',\n",
    "                4:'X4',\n",
    "                8:'X8'\n",
    "             }\n",
    "    return switcher.get(i,\"Invalid Interpolation\")\n",
    "\n",
    "def getMaxRate(i):\n",
    "    switcher={\n",
    "                'X1': 2.5e9,\n",
    "                'X2': 5.0e9,\n",
    "                'X4': 9.0e9,\n",
    "                'X8': 9.0e9,\n",
    "             }\n",
    "    return switcher.get(i,\"2500\")\n",
    "\n",
    "# select here the Interpolation mode : 1,2,4 or 8\n",
    "Interpolation = getIntepolation(8)\n",
    "maxRate = getMaxRate(Interpolation)\n",
    "\n",
    "        \n",
    "print('Interpolation = ',Interpolation)\n",
    "print('maxRate = ',maxRate)"
   ]
  },
  {
   "cell_type": "code",
   "execution_count": 2,
   "metadata": {},
   "outputs": [],
   "source": [
    "%matplotlib notebook\n",
    "import numpy as np\n",
    "import time\n",
    "import ipywidgets as widgets\n",
    "from IPython.core.debugger import set_trace\n",
    "from scipy.signal import chirp, sweep_poly\n",
    "import matplotlib.pyplot as plt"
   ]
  },
  {
   "cell_type": "code",
   "execution_count": 3,
   "metadata": {},
   "outputs": [],
   "source": [
    "import os\n",
    "import gc\n",
    "import sys\n",
    "srcpath = os.path.realpath('../../SourceFiles')\n",
    "sys.path.append(srcpath)\n",
    "from teproteus import TEProteusAdmin, TEProteusInst\n",
    "from tevisainst import TEVisaInst"
   ]
  },
  {
   "cell_type": "markdown",
   "metadata": {},
   "source": [
    "### Before we start\n",
    "\n",
    "This example is designed to work both when there is a LAN based communication-service (usually on benchtop/desktop)<br>\n",
    "And when there's no communication-service, and the user's application has access to hardware-modules in the PXI chassis.\n",
    "\n",
    "In the first case, when there's a LAN communication, this example uses the class `TEVisaInst` from `tevisainst`.<br>\n",
    "\n",
    "In the second case, this example uses the classes `TEProteusAdmin` and `TEProteusInst` from `teproteus`."
   ]
  },
  {
   "cell_type": "code",
   "execution_count": 4,
   "metadata": {},
   "outputs": [
    {
     "data": {
      "application/vnd.jupyter.widget-view+json": {
       "model_id": "f9373f513c884741819ca0fab305b4b4",
       "version_major": 2,
       "version_minor": 0
      },
      "text/plain": [
       "Text(value='', description='Address:', placeholder='IP Address or Slot Id')"
      ]
     },
     "metadata": {},
     "output_type": "display_data"
    },
    {
     "data": {
      "application/vnd.jupyter.widget-view+json": {
       "model_id": "3e0bb050a8c74c33bff235e1424b712c",
       "version_major": 2,
       "version_minor": 0
      },
      "text/plain": [
       "Button(description='Connect', style=ButtonStyle())"
      ]
     },
     "metadata": {},
     "output_type": "display_data"
    },
    {
     "data": {
      "application/vnd.jupyter.widget-view+json": {
       "model_id": "88e48ffd85e441d2a21459b07eb88ba1",
       "version_major": 2,
       "version_minor": 0
      },
      "text/plain": [
       "Button(description='Disconnect', style=ButtonStyle())"
      ]
     },
     "metadata": {},
     "output_type": "display_data"
    },
    {
     "data": {
      "application/vnd.jupyter.widget-view+json": {
       "model_id": "edfc00bb8b91423c97874b56c6701574",
       "version_major": 2,
       "version_minor": 0
      },
      "text/plain": [
       "Output()"
      ]
     },
     "metadata": {},
     "output_type": "display_data"
    },
    {
     "name": "stdout",
     "output_type": "stream",
     "text": [
      "Load TEProteus.dll from : C:\\WINDOWS\\system32\\TEProteus.dll\n"
     ]
    }
   ],
   "source": [
    "# Connect to instrument\n",
    "\n",
    "inst = None\n",
    "admin = None\n",
    "\n",
    "conn_msg_str = ''\n",
    "\n",
    "def disconnect():\n",
    "    global inst\n",
    "    global admin\n",
    "    if inst is not None:\n",
    "        try:\n",
    "            inst.close_instrument()            \n",
    "        except:\n",
    "            pass\n",
    "        inst = None\n",
    "    if admin is not None:\n",
    "        try:\n",
    "            admin.close_inst_admin()\n",
    "        except:\n",
    "            pass\n",
    "        admin = None\n",
    "    gc.collect()\n",
    "\n",
    "def connect_to_pxi_slot(slot_id):\n",
    "    global inst\n",
    "    global admin\n",
    "    try:\n",
    "        disconnect()        \n",
    "        admin = TEProteusAdmin()\n",
    "        admin.open_inst_admin()        \n",
    "        inst = admin.open_instrument(slot_id, reset_hot_flag=True)\n",
    "    except:\n",
    "        pass\n",
    "\n",
    "def connect_to_lan_server(ip_address):\n",
    "    global inst\n",
    "    try:\n",
    "        disconnect()\n",
    "        inst = TEVisaInst(ip_address, port=5025)\n",
    "    except:\n",
    "        pass\n",
    "\n",
    "def connect(ipaddr_or_slotid):\n",
    "    try:\n",
    "        disconnect()\n",
    "        if isinstance(ipaddr_or_slotid, str) and '.' in ipaddr_or_slotid:\n",
    "            connect_to_lan_server(ipaddr_or_slotid)\n",
    "        else:\n",
    "            connect_to_pxi_slot(ipaddr_or_slotid)\n",
    "    except:\n",
    "        pass\n",
    "\n",
    "addr_textbox = widgets.Text(\n",
    "    value='',\n",
    "    placeholder='IP Address or Slot Id',\n",
    "    description='Address:',\n",
    "    disabled=False\n",
    ")\n",
    "\n",
    "output = widgets.Output()\n",
    "\n",
    "def print_conn_message(msg_str):\n",
    "    global output\n",
    "    global conn_msg_str\n",
    "    with output:\n",
    "        if len(conn_msg_str) > 0:\n",
    "            print('\\r', end='')\n",
    "            print(' ' * len(conn_msg_str), end='')\n",
    "            print('\\r', end='')\n",
    "        conn_msg_str = str(msg_str)\n",
    "        if len(conn_msg_str) > 0:\n",
    "            print(conn_msg_str, end='')\n",
    "\n",
    "def on_button_connect_clicked(b):\n",
    "    global inst\n",
    "    global addr_textbox\n",
    "    print_conn_message('')\n",
    "    disconnect()\n",
    "    if addr_textbox is not None:\n",
    "        conn_str = addr_textbox.value\n",
    "        if conn_str:\n",
    "            print_conn_message('Connecting to {0} ..'.format(conn_str))\n",
    "            connect(conn_str)\n",
    "            print_conn_message('')\n",
    "    if inst is not None:\n",
    "        idn_str = inst.send_scpi_query('*IDN?')\n",
    "        if idn_str:\n",
    "            print_conn_message('Connected to: ' + idn_str.strip())\n",
    "    \n",
    "def on_button_disconnect_clicked(b):\n",
    "    print_conn_message('')\n",
    "    disconnect()\n",
    "\n",
    "btn_connect = widgets.Button(description=\"Connect\")\n",
    "btn_disconnect = widgets.Button(description=\"Disconnect\")\n",
    "\n",
    "btn_connect.on_click(on_button_connect_clicked)\n",
    "btn_disconnect.on_click(on_button_disconnect_clicked)\n",
    "\n",
    "display(addr_textbox, btn_connect, btn_disconnect, output)"
   ]
  },
  {
   "cell_type": "code",
   "execution_count": 5,
   "metadata": {},
   "outputs": [
    {
     "name": "stdout",
     "output_type": "stream",
     "text": [
      "Tabor Electronics,P9484M,000002221014,1.223.0\n",
      "0, no error\n"
     ]
    }
   ],
   "source": [
    "# Get the instrument's *IDN\n",
    "resp = inst.send_scpi_query('*IDN?')\n",
    "print(resp)\n",
    "\n",
    "# all IQM modes are in 16bit mode\n",
    "dac_mode = 16\n",
    "\n",
    "\n",
    "if dac_mode == 16:\n",
    "    max_dac = 65535\n",
    "    data_type = np.uint16 \n",
    "else:\n",
    "    max_dac = 255\n",
    "    data_type = np.uint8 \n",
    "    \n",
    "half_dac = max_dac / 2.0\n",
    "\n",
    "# Several initializations ..\n",
    "inst.send_scpi_cmd('*CLS; *RST')\n",
    "inst.send_scpi_cmd(':INST:CHAN 1')\n",
    "inst.send_scpi_cmd(':TRAC:DEL:ALL')\n",
    "resp = inst.send_scpi_query(':SYST:ERR?')\n",
    "print(resp)"
   ]
  },
  {
   "cell_type": "markdown",
   "metadata": {},
   "source": [
    "## Configure Generator"
   ]
  },
  {
   "cell_type": "code",
   "execution_count": 6,
   "metadata": {},
   "outputs": [
    {
     "name": "stdout",
     "output_type": "stream",
     "text": [
      "0, no error\n"
     ]
    }
   ],
   "source": [
    "# set Proteus to interpolation X1. this will move the module to 16bit mode if it was in 8.\n",
    "inst.send_scpi_cmd(':SOUR:INT X1')\n",
    "resp = inst.send_scpi_query(':SYST:ERR?')\n",
    "print(resp)"
   ]
  },
  {
   "cell_type": "markdown",
   "metadata": {},
   "source": [
    "#### Create one signal from two waves"
   ]
  },
  {
   "cell_type": "code",
   "execution_count": 7,
   "metadata": {},
   "outputs": [],
   "source": [
    "# Build two AWG segment one for I and one for Q\n",
    "\n",
    "cycleLen = 1024\n",
    "numCycles = 1\n",
    "segLen1 = cycleLen * numCycles\n",
    "\n",
    "# Build waveform (cosine wave)\n",
    "x1 = np.linspace(\n",
    "    start=0, stop=2 * np.pi * numCycles, num=segLen1, endpoint=False)\n",
    "\n",
    "I = (np.cos(x1) + 1.0) * half_dac\n",
    "I = np.round(I)\n",
    "I = np.clip(I, 0, max_dac)\n",
    "I = I.astype(data_type)\n",
    "\n",
    "# Build waveform (sine wave)\n",
    "\n",
    "Q = (np.sin(x1) + 1.0) * half_dac\n",
    "Q = np.round(Q)\n",
    "Q = np.clip(Q, 0, max_dac)\n",
    "Q = Q.astype(data_type)\n",
    "\n",
    "# build an interleaved signal for ONE mode\n",
    "# the signal will be in the length of 2xsegLen\n",
    "\n",
    "s1 = np.full((2*segLen1,1),0)\n",
    "for i in range(segLen1):\n",
    "    s1[0+i*2] = I[i]\n",
    "    s1[1+i*2] = Q[i]\n",
    "    \n",
    "s1 = s1.astype(data_type)"
   ]
  },
  {
   "cell_type": "code",
   "execution_count": 8,
   "metadata": {},
   "outputs": [],
   "source": [
    "# Build two AWG segment one for I and one for Q\n",
    "\n",
    "cycleLen = 512\n",
    "numCycles = 1\n",
    "segLen2 = cycleLen * numCycles\n",
    "\n",
    "# Build waveform (cosine wave)\n",
    "x2 = np.linspace(\n",
    "    start=0, stop=2 * np.pi * numCycles, num=segLen2, endpoint=False)\n",
    "\n",
    "I = (np.cos(x2) + 1.0) * half_dac\n",
    "I = np.round(I)\n",
    "I = np.clip(I, 0, max_dac)\n",
    "I = I.astype(data_type)\n",
    "\n",
    "# Build waveform (sine wave)\n",
    "\n",
    "\n",
    "Q = (np.sin(x2) + 1.0) * half_dac\n",
    "Q = np.round(Q)\n",
    "Q = np.clip(Q, 0, max_dac)\n",
    "Q = Q.astype(data_type)\n",
    "\n",
    "# build an interleaved signal for ONE mode\n",
    "# the signal will be in the length of 2xsegLen\n",
    "\n",
    "s2 = np.full((2*segLen2,1),0)\n",
    "for i in range(segLen2):\n",
    "    s2[0+i*2] = I[i]\n",
    "    s2[1+i*2] = Q[i]\n",
    "    \n",
    "s2 = s2.astype(data_type)"
   ]
  },
  {
   "cell_type": "code",
   "execution_count": 9,
   "metadata": {},
   "outputs": [],
   "source": [
    "# Build two AWG segment one for I and one for Q\n",
    "\n",
    "cycleLen = 256\n",
    "numCycles = 1\n",
    "segLen3 = cycleLen * numCycles\n",
    "\n",
    "# Build waveform (cosine wave)\n",
    "x3 = np.linspace(\n",
    "    start=0, stop=2 * np.pi * numCycles, num=segLen3, endpoint=False)\n",
    "\n",
    "I = (np.cos(x3) + 1.0) * half_dac\n",
    "I = np.round(I)\n",
    "I = np.clip(I, 0, max_dac)\n",
    "I = I.astype(data_type)\n",
    "\n",
    "# Build waveform (sine wave)\n",
    "\n",
    "\n",
    "Q = (np.sin(x3) + 1.0) * half_dac\n",
    "Q = np.round(Q)\n",
    "Q = np.clip(Q, 0, max_dac)\n",
    "Q = Q.astype(data_type)\n",
    "\n",
    "# build an interleaved signal for ONE mode\n",
    "# the signal will be in the length of 2xsegLen\n",
    "\n",
    "s3 = np.full((2*segLen3,1),0)\n",
    "for i in range(segLen3):\n",
    "    s3[0+i*2] = I[i]\n",
    "    s3[1+i*2] = Q[i]\n",
    "    \n",
    "s3 = s3.astype(data_type)"
   ]
  },
  {
   "cell_type": "code",
   "execution_count": 10,
   "metadata": {},
   "outputs": [],
   "source": [
    "# Build two AWG segment one for I and one for Q\n",
    "\n",
    "cycleLen = 128\n",
    "numCycles = 1\n",
    "segLen4 = cycleLen * numCycles\n",
    "\n",
    "# Build waveform (cosine wave)\n",
    "x4 = np.linspace(\n",
    "    start=0, stop=2 * np.pi * numCycles, num=segLen4, endpoint=False)\n",
    "\n",
    "I = (np.cos(x4) + 1.0) * half_dac\n",
    "I = np.round(I)\n",
    "I = np.clip(I, 0, max_dac)\n",
    "I = I.astype(data_type)\n",
    "\n",
    "# Build waveform (sine wave)\n",
    "\n",
    "\n",
    "Q = (np.sin(x4) + 1.0) * half_dac\n",
    "Q = np.round(Q)\n",
    "Q = np.clip(Q, 0, max_dac)\n",
    "Q = Q.astype(data_type)\n",
    "\n",
    "# build an interleaved signal for ONE mode\n",
    "# the signal will be in the length of 2xsegLen\n",
    "\n",
    "s4 = np.full((2*segLen4,1),0)\n",
    "for i in range(segLen4):\n",
    "    s4[0+i*2] = I[i]\n",
    "    s4[1+i*2] = Q[i]\n",
    "    \n",
    "s4 = s4.astype(data_type)"
   ]
  },
  {
   "cell_type": "markdown",
   "metadata": {},
   "source": [
    "#### Download signals"
   ]
  },
  {
   "cell_type": "code",
   "execution_count": 11,
   "metadata": {},
   "outputs": [
    {
     "name": "stdout",
     "output_type": "stream",
     "text": [
      "0, no error\n",
      "0, no error\n",
      "0, no error\n",
      "0, no error\n"
     ]
    }
   ],
   "source": [
    "# download signal to segment 1 channel 1\n",
    "inst.send_scpi_cmd(':INST:CHAN 1')\n",
    "inst.send_scpi_cmd(':TRAC:DEF 1,' + str(2*segLen1))\n",
    "inst.send_scpi_cmd(':TRAC:SEL 1')\n",
    "# download the waveform to the selected segment\n",
    "inst.write_binary_data(':TRAC:DATA', s1)\n",
    "resp = inst.send_scpi_query(':SYST:ERR?')\n",
    "print(resp)\n",
    "\n",
    "# download signal to segment 2 channel 2\n",
    "inst.send_scpi_cmd(':INST:CHAN 2')\n",
    "inst.send_scpi_cmd(':TRAC:DEF 2,' + str(2*segLen2))\n",
    "inst.send_scpi_cmd(':TRAC:SEL 2')\n",
    "# download the waveform to the selected segment\n",
    "inst.write_binary_data(':TRAC:DATA', s2)\n",
    "resp = inst.send_scpi_query(':SYST:ERR?')\n",
    "print(resp)\n",
    "\n",
    "# download signal to segment 1 channel 3\n",
    "inst.send_scpi_cmd(':INST:CHAN 3')\n",
    "inst.send_scpi_cmd(':TRAC:DEF 1,' + str(2*segLen3))\n",
    "inst.send_scpi_cmd(':TRAC:SEL 1')\n",
    "# download the waveform to the selected segment\n",
    "inst.write_binary_data(':TRAC:DATA', s3)\n",
    "resp = inst.send_scpi_query(':SYST:ERR?')\n",
    "print(resp)\n",
    "\n",
    "# download signal to segment 2 channel 4\n",
    "inst.send_scpi_cmd(':INST:CHAN 4')\n",
    "inst.send_scpi_cmd(':TRAC:DEF 2,' + str(2*segLen4))\n",
    "inst.send_scpi_cmd(':TRAC:SEL 2')\n",
    "# download the waveform to the selected segment\n",
    "inst.write_binary_data(':TRAC:DATA', s4)\n",
    "resp = inst.send_scpi_query(':SYST:ERR?')\n",
    "print(resp)\n"
   ]
  },
  {
   "cell_type": "markdown",
   "metadata": {},
   "source": [
    "#### DAC clock and output"
   ]
  },
  {
   "cell_type": "code",
   "execution_count": 12,
   "metadata": {},
   "outputs": [
    {
     "name": "stdout",
     "output_type": "stream",
     "text": [
      "0, no error\n",
      "0, no error\n",
      "0, no error\n",
      "0, no error\n",
      "0, no error\n"
     ]
    }
   ],
   "source": [
    "# AWG Channl 1 (output) should be connected to scope input 1\n",
    "inst.send_scpi_cmd(':INST:CHAN 1')\n",
    "inst.send_scpi_cmd(':SOUR:FUNC:MODE:SEGM 1')\n",
    "inst.send_scpi_cmd(':OUTP ON')\n",
    "resp = inst.send_scpi_query(':SYST:ERR?')\n",
    "print(resp)\n",
    "\n",
    "# AWG Channl 2 (output) should be connected to scope input 2\n",
    "inst.send_scpi_cmd(':INST:CHAN 2')\n",
    "inst.send_scpi_cmd(':SOUR:FUNC:MODE:SEGM 2')\n",
    "inst.send_scpi_cmd(':OUTP ON')\n",
    "resp = inst.send_scpi_query(':SYST:ERR?')\n",
    "print(resp)\n",
    "\n",
    "# AWG Channl 3 (output) should be connected to scope input 3\n",
    "inst.send_scpi_cmd(':INST:CHAN 3')\n",
    "inst.send_scpi_cmd(':SOUR:FUNC:MODE:SEGM 1')\n",
    "inst.send_scpi_cmd(':OUTP ON')\n",
    "resp = inst.send_scpi_query(':SYST:ERR?')\n",
    "print(resp)\n",
    "\n",
    "# AWG Channl 4 (output) should be connected to scope input 4\n",
    "inst.send_scpi_cmd(':INST:CHAN 4')\n",
    "inst.send_scpi_cmd(':SOUR:FUNC:MODE:SEGM 2')\n",
    "inst.send_scpi_cmd(':OUTP ON')\n",
    "resp = inst.send_scpi_query(':SYST:ERR?')\n",
    "print(resp)\n",
    "\n",
    "# chande DAC clock to 2500MHz\n",
    "inst.send_scpi_cmd(':SOUR:FREQ 2.5e9')\n",
    "resp = inst.send_scpi_query(':SYST:ERR?')\n",
    "print(resp)"
   ]
  },
  {
   "cell_type": "markdown",
   "metadata": {},
   "source": [
    "#### at this point we should see a sin wave and a cos wave on the scope\n",
    "\n",
    "#### switching to modulation mode"
   ]
  },
  {
   "cell_type": "code",
   "execution_count": 13,
   "metadata": {},
   "outputs": [
    {
     "name": "stdout",
     "output_type": "stream",
     "text": [
      "0, no error\n",
      "208, syntax error in scpi\n",
      "208, syntax error in scpi\n",
      "208, syntax error in scpi\n",
      "208, syntax error in scpi\n",
      "0, no error\n",
      "0, no error\n"
     ]
    }
   ],
   "source": [
    "# set Proteus to interpolation X8.\n",
    "inst.send_scpi_cmd(':SOUR:INT ' + str(Interpolation))\n",
    "resp = inst.send_scpi_query(':SYST:ERR?')\n",
    "print(resp)\n",
    "\n",
    "# set NCOab frequency of CH1\n",
    "inst.send_scpi_cmd(':INST:CHAN 1')\n",
    "inst.send_scpi_cmd(':SOUR:CFR 100.0e6')\n",
    "resp = inst.send_scpi_query(':SYST:ERR?')\n",
    "print(resp)\n",
    "\n",
    "# set NCOab frequency of CH2\n",
    "inst.send_scpi_cmd(':INST:CHAN 2')\n",
    "inst.send_scpi_cmd(':SOUR:CFR 120.0e6')\n",
    "resp = inst.send_scpi_query(':SYST:ERR?')\n",
    "print(resp)\n",
    "\n",
    "# set NCOab frequency of CH3\n",
    "inst.send_scpi_cmd(':INST:CHAN 3')\n",
    "inst.send_scpi_cmd(':SOUR:CFR 130.0e6')\n",
    "resp = inst.send_scpi_query(':SYST:ERR?')\n",
    "print(resp)\n",
    "\n",
    "# set NCOab frequency of CH4\n",
    "inst.send_scpi_cmd(':INST:CHAN 4')\n",
    "inst.send_scpi_cmd(':SOUR:CFR 140.0e6')\n",
    "resp = inst.send_scpi_query(':SYST:ERR?')\n",
    "print(resp)\n",
    "\n",
    "# set modulation to ONE\n",
    "inst.send_scpi_cmd(':SOUR:IQM ONE')\n",
    "resp = inst.send_scpi_query(':SYST:ERR?')\n",
    "print(resp)\n",
    "\n",
    "# chande DAC clock to 9000Hz\n",
    "inst.send_scpi_cmd(':SOUR:FREQ ' + str(maxRate))\n",
    "resp = inst.send_scpi_query(':SYST:ERR?')\n",
    "print(resp)\n"
   ]
  },
  {
   "cell_type": "code",
   "execution_count": 14,
   "metadata": {},
   "outputs": [
    {
     "data": {
      "text/plain": [
       "0"
      ]
     },
     "execution_count": 14,
     "metadata": {},
     "output_type": "execute_result"
    }
   ],
   "source": [
    "inst.send_scpi_cmd(':INST:CHAN 1', paranoia_level=0)"
   ]
  },
  {
   "cell_type": "markdown",
   "metadata": {},
   "source": [
    "## read debug registers"
   ]
  },
  {
   "cell_type": "code",
   "execution_count": 16,
   "metadata": {},
   "outputs": [],
   "source": [
    "import tempfile\n",
    "import webbrowser\n",
    "Debug = False\n",
    "if Debug == True :\n",
    "    channb = 1\n",
    "    cmd = ':INST:CHAN {0}; :SYST:INF:REG?'.format(channb)\n",
    "    html_str = inst.send_scpi_query(cmd, max_resp_len=200000)\n",
    "    #print(html_str)\n",
    "    with tempfile.NamedTemporaryFile('w', delete=False, suffix='.html') as f:\n",
    "        url = 'file://' + f.name\n",
    "        f.write(html_str)\n",
    "    webbrowser.open(url)"
   ]
  },
  {
   "cell_type": "markdown",
   "metadata": {},
   "source": [
    "## End"
   ]
  },
  {
   "cell_type": "code",
   "execution_count": 17,
   "metadata": {},
   "outputs": [],
   "source": [
    "# Disconnect\n",
    "print_conn_message('')\n",
    "disconnect()"
   ]
  },
  {
   "cell_type": "code",
   "execution_count": null,
   "metadata": {},
   "outputs": [],
   "source": []
  },
  {
   "cell_type": "code",
   "execution_count": null,
   "metadata": {},
   "outputs": [],
   "source": []
  }
 ],
 "metadata": {
  "kernelspec": {
   "display_name": "Python 3",
   "language": "python",
   "name": "python3"
  },
  "language_info": {
   "codemirror_mode": {
    "name": "ipython",
    "version": 3
   },
   "file_extension": ".py",
   "mimetype": "text/x-python",
   "name": "python",
   "nbconvert_exporter": "python",
   "pygments_lexer": "ipython3",
   "version": "3.8.5"
  }
 },
 "nbformat": 4,
 "nbformat_minor": 2
}
