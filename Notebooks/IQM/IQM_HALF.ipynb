{
 "cells": [
  {
   "cell_type": "markdown",
   "metadata": {},
   "source": [
    "<img align=\"left\" src=\"https://www.taborelec.com/Pictures/logo.png\">"
   ]
  },
  {
   "cell_type": "markdown",
   "metadata": {},
   "source": [
    "# IQM HALF"
   ]
  },
  {
   "cell_type": "markdown",
   "metadata": {},
   "source": [
    "### Description:\n",
    "This script comes to demonstrate .....\n",
    "\n",
    "\n",
    "### set up:\n",
    "\n",
    "\n",
    "### Proteus version: \n",
    "ALICE\n"
   ]
  },
  {
   "cell_type": "markdown",
   "metadata": {},
   "source": [
    "# IQM HALF\n",
    "\n",
    "This script will test \"IQM HALF\" mode. In this mode two segments are generated : sin and cos.\n",
    "\n",
    "When a sin signal is modulated with a cos signal, only one sideband signal relative to the LO signal\n",
    "\n",
    "Should be present.\n",
    "\n",
    "Connect channel 1 to a spectrum anlayzer at center frequency of 100MHz."
   ]
  },
  {
   "cell_type": "code",
   "execution_count": 1,
   "metadata": {},
   "outputs": [
    {
     "name": "stdout",
     "output_type": "stream",
     "text": [
      "Interpolation =  X1\n",
      "maxRate =  2500000000.0\n"
     ]
    }
   ],
   "source": [
    "def getIntepolation(i):\n",
    "    switcher={\n",
    "                1:'X1',\n",
    "                2:'X2',\n",
    "                4:'X4',\n",
    "                8:'X8'\n",
    "             }\n",
    "    return switcher.get(i,\"Invalid Interpolation\")\n",
    "\n",
    "def getMaxRate(i):\n",
    "    switcher={\n",
    "                'X1': 2.5e9,\n",
    "                'X2': 5.0e9,\n",
    "                'X4': 9.0e9,\n",
    "                'X8': 9.0e9,\n",
    "             }\n",
    "    return switcher.get(i,\"2500\")\n",
    "\n",
    "# select here the Interpolation mode : 1,2,4 or 8\n",
    "Interpolation = getIntepolation(1)\n",
    "maxRate = getMaxRate(Interpolation)\n",
    "\n",
    "        \n",
    "print('Interpolation = ',Interpolation)\n",
    "print('maxRate = ',maxRate)"
   ]
  },
  {
   "cell_type": "code",
   "execution_count": 2,
   "metadata": {},
   "outputs": [],
   "source": [
    "%matplotlib notebook\n",
    "import numpy as np\n",
    "import time\n",
    "import ipywidgets as widgets\n",
    "from IPython.core.debugger import set_trace\n",
    "from scipy.signal import chirp, sweep_poly\n",
    "import matplotlib.pyplot as plt"
   ]
  },
  {
   "cell_type": "code",
   "execution_count": 3,
   "metadata": {},
   "outputs": [],
   "source": [
    "import os\n",
    "import gc\n",
    "import sys\n",
    "srcpath = os.path.realpath('../../SourceFiles')\n",
    "sys.path.append(srcpath)\n",
    "from teproteus import TEProteusAdmin, TEProteusInst\n",
    "from tevisainst import TEVisaInst"
   ]
  },
  {
   "cell_type": "markdown",
   "metadata": {},
   "source": [
    "### Before we start\n",
    "\n",
    "This example is designed to work both when there is a LAN based communication-service (usually on benchtop/desktop)<br>\n",
    "And when there's no communication-service, and the user's application has access to hardware-modules in the PXI chassis.\n",
    "\n",
    "In the first case, when there's a LAN communication, this example uses the class `TEVisaInst` from `tevisainst`.<br>\n",
    "\n",
    "In the second case, this example uses the classes `TEProteusAdmin` and `TEProteusInst` from `teproteus`."
   ]
  },
  {
   "cell_type": "code",
   "execution_count": 4,
   "metadata": {},
   "outputs": [
    {
     "data": {
      "application/vnd.jupyter.widget-view+json": {
       "model_id": "c234fb785a4c4fed91dc1f33437f80b1",
       "version_major": 2,
       "version_minor": 0
      },
      "text/plain": [
       "Text(value='', description='Address:', placeholder='IP Address or Slot Id')"
      ]
     },
     "metadata": {},
     "output_type": "display_data"
    },
    {
     "data": {
      "application/vnd.jupyter.widget-view+json": {
       "model_id": "4af6e72fddc64c9eaf6ef01bf9ed91ff",
       "version_major": 2,
       "version_minor": 0
      },
      "text/plain": [
       "Button(description='Connect', style=ButtonStyle())"
      ]
     },
     "metadata": {},
     "output_type": "display_data"
    },
    {
     "data": {
      "application/vnd.jupyter.widget-view+json": {
       "model_id": "be862d7e251044c4969f6c7882911745",
       "version_major": 2,
       "version_minor": 0
      },
      "text/plain": [
       "Button(description='Disconnect', style=ButtonStyle())"
      ]
     },
     "metadata": {},
     "output_type": "display_data"
    },
    {
     "data": {
      "application/vnd.jupyter.widget-view+json": {
       "model_id": "bc589c5d08bb470eb142728bf508cc09",
       "version_major": 2,
       "version_minor": 0
      },
      "text/plain": [
       "Output()"
      ]
     },
     "metadata": {},
     "output_type": "display_data"
    },
    {
     "name": "stdout",
     "output_type": "stream",
     "text": [
      "Load TEProteus.dll from : C:\\WINDOWS\\system32\\TEProteus.dll\n"
     ]
    }
   ],
   "source": [
    "# Connect to instrument\n",
    "\n",
    "inst = None\n",
    "admin = None\n",
    "\n",
    "conn_msg_str = ''\n",
    "\n",
    "def disconnect():\n",
    "    global inst\n",
    "    global admin\n",
    "    if inst is not None:\n",
    "        try:\n",
    "            inst.close_instrument()            \n",
    "        except:\n",
    "            pass\n",
    "        inst = None\n",
    "    if admin is not None:\n",
    "        try:\n",
    "            admin.close_inst_admin()\n",
    "        except:\n",
    "            pass\n",
    "        admin = None\n",
    "    gc.collect()\n",
    "\n",
    "def connect_to_pxi_slot(slot_id):\n",
    "    global inst\n",
    "    global admin\n",
    "    try:\n",
    "        disconnect()        \n",
    "        admin = TEProteusAdmin()\n",
    "        admin.open_inst_admin()        \n",
    "        inst = admin.open_instrument(slot_id, reset_hot_flag=True)\n",
    "    except:\n",
    "        pass\n",
    "\n",
    "def connect_to_lan_server(ip_address):\n",
    "    global inst\n",
    "    try:\n",
    "        disconnect()\n",
    "        inst = TEVisaInst(ip_address, port=5025)\n",
    "    except:\n",
    "        pass\n",
    "\n",
    "def connect(ipaddr_or_slotid):\n",
    "    try:\n",
    "        disconnect()\n",
    "        if isinstance(ipaddr_or_slotid, str) and '.' in ipaddr_or_slotid:\n",
    "            connect_to_lan_server(ipaddr_or_slotid)\n",
    "        else:\n",
    "            connect_to_pxi_slot(ipaddr_or_slotid)\n",
    "    except:\n",
    "        pass\n",
    "\n",
    "addr_textbox = widgets.Text(\n",
    "    value='',\n",
    "    placeholder='IP Address or Slot Id',\n",
    "    description='Address:',\n",
    "    disabled=False\n",
    ")\n",
    "\n",
    "output = widgets.Output()\n",
    "\n",
    "def print_conn_message(msg_str):\n",
    "    global output\n",
    "    global conn_msg_str\n",
    "    with output:\n",
    "        if len(conn_msg_str) > 0:\n",
    "            print('\\r', end='')\n",
    "            print(' ' * len(conn_msg_str), end='')\n",
    "            print('\\r', end='')\n",
    "        conn_msg_str = str(msg_str)\n",
    "        if len(conn_msg_str) > 0:\n",
    "            print(conn_msg_str, end='')\n",
    "\n",
    "def on_button_connect_clicked(b):\n",
    "    global inst\n",
    "    global addr_textbox\n",
    "    print_conn_message('')\n",
    "    disconnect()\n",
    "    if addr_textbox is not None:\n",
    "        conn_str = addr_textbox.value\n",
    "        if conn_str:\n",
    "            print_conn_message('Connecting to {0} ..'.format(conn_str))\n",
    "            connect(conn_str)\n",
    "            print_conn_message('')\n",
    "    if inst is not None:\n",
    "        idn_str = inst.send_scpi_query('*IDN?')\n",
    "        if idn_str:\n",
    "            print_conn_message('Connected to: ' + idn_str.strip())\n",
    "    \n",
    "def on_button_disconnect_clicked(b):\n",
    "    print_conn_message('')\n",
    "    disconnect()\n",
    "\n",
    "btn_connect = widgets.Button(description=\"Connect\")\n",
    "btn_disconnect = widgets.Button(description=\"Disconnect\")\n",
    "\n",
    "btn_connect.on_click(on_button_connect_clicked)\n",
    "btn_disconnect.on_click(on_button_disconnect_clicked)\n",
    "\n",
    "display(addr_textbox, btn_connect, btn_disconnect, output)"
   ]
  },
  {
   "cell_type": "code",
   "execution_count": 5,
   "metadata": {},
   "outputs": [
    {
     "name": "stdout",
     "output_type": "stream",
     "text": [
      "Tabor Electronics,P9484M,000002221014,1.223.0\n",
      "0, no error\n"
     ]
    }
   ],
   "source": [
    "# Get the instrument's *IDN\n",
    "resp = inst.send_scpi_query('*IDN?')\n",
    "print(resp)\n",
    "\n",
    "# all IQM modes are in 16bit mode\n",
    "dac_mode = 16\n",
    "\n",
    "\n",
    "if dac_mode == 16:\n",
    "    max_dac = 65535\n",
    "    data_type = np.uint16 \n",
    "else:\n",
    "    max_dac = 255\n",
    "    data_type = np.uint8 \n",
    "    \n",
    "half_dac = max_dac / 2.0\n",
    "\n",
    "# Several initializations ..\n",
    "inst.send_scpi_cmd('*CLS; *RST')\n",
    "inst.send_scpi_cmd(':INST:CHAN 1')\n",
    "inst.send_scpi_cmd(':TRAC:DEL:ALL')\n",
    "resp = inst.send_scpi_query(':SYST:ERR?')\n",
    "print(resp)"
   ]
  },
  {
   "cell_type": "markdown",
   "metadata": {},
   "source": [
    "## Configure Generator"
   ]
  },
  {
   "cell_type": "code",
   "execution_count": 6,
   "metadata": {},
   "outputs": [
    {
     "name": "stdout",
     "output_type": "stream",
     "text": [
      "0, no error\n"
     ]
    }
   ],
   "source": [
    "# set Proteus to interpolation X1. this will move the module to 16bit mode if it was in 8.\n",
    "inst.send_scpi_cmd(':SOUR:INT X1')\n",
    "resp = inst.send_scpi_query(':SYST:ERR?')\n",
    "print(resp)"
   ]
  },
  {
   "cell_type": "markdown",
   "metadata": {},
   "source": [
    "#### Create Two segments"
   ]
  },
  {
   "cell_type": "code",
   "execution_count": 7,
   "metadata": {},
   "outputs": [
    {
     "name": "stdout",
     "output_type": "stream",
     "text": [
      "0, no error\n",
      "0, no error\n"
     ]
    }
   ],
   "source": [
    "# Build two AWG segment one for I and one for Q\n",
    "\n",
    "cycleLen = 1024\n",
    "numCycles = 1\n",
    "segLen = cycleLen * numCycles\n",
    "\n",
    "# Build waveform (cosine wave)\n",
    "x = np.linspace(\n",
    "    start=0, stop=2 * np.pi * numCycles, num=segLen, endpoint=False)\n",
    "\n",
    "I = (np.cos(x) + 1.0) * half_dac\n",
    "I = np.round(I)\n",
    "I = np.clip(I, 0, max_dac)\n",
    "I = I.astype(data_type)\n",
    "\n",
    "# download it to segment 1 of channel 1\n",
    "inst.send_scpi_cmd(':INST:CHAN 1')\n",
    "inst.send_scpi_cmd(':TRAC:DEF 1,' + str(segLen))\n",
    "inst.send_scpi_cmd(':TRAC:SEL 1')\n",
    "# download the waveform to the selected segment\n",
    "inst.write_binary_data(':TRAC:DATA', I)\n",
    "resp = inst.send_scpi_query(':SYST:ERR?')\n",
    "print(resp)\n",
    "\n",
    "cycleLen = 1024\n",
    "numCycles = 1\n",
    "segLen = cycleLen * numCycles\n",
    "\n",
    "# Build waveform (sine wave)\n",
    "x = np.linspace(\n",
    "    start=0, stop=2 * np.pi * numCycles, num=segLen, endpoint=False)\n",
    "\n",
    "Q = (np.sin(x) + 1.0) * half_dac\n",
    "Q = np.round(Q)\n",
    "Q = np.clip(Q, 0, max_dac)\n",
    "Q = Q.astype(data_type)\n",
    "\n",
    "# download it to segment 2 of channel 1\n",
    "# we must select channel 1 in order to write the segment to the same DDR as channel1.\n",
    "# in P9082 selecting channel 2 will access DDR2 and not DDR1\n",
    "inst.send_scpi_cmd(':INST:CHAN 1')\n",
    "inst.send_scpi_cmd(':TRAC:DEF 2,' + str(segLen))\n",
    "inst.send_scpi_cmd(':TRAC:SEL 2')\n",
    "# download the waveform to the selected segment\n",
    "inst.write_binary_data(':TRAC:DATA', Q)\n",
    "resp = inst.send_scpi_query(':SYST:ERR?')\n",
    "print(resp)"
   ]
  },
  {
   "cell_type": "markdown",
   "metadata": {},
   "source": [
    "#### DAC clock and output"
   ]
  },
  {
   "cell_type": "code",
   "execution_count": 8,
   "metadata": {},
   "outputs": [
    {
     "name": "stdout",
     "output_type": "stream",
     "text": [
      "0, no error\n",
      "0, no error\n",
      "0, no error\n"
     ]
    }
   ],
   "source": [
    "# AWG Channl 1 (output) should be connected to scope input 1\n",
    "inst.send_scpi_cmd(':INST:CHAN 1')\n",
    "inst.send_scpi_cmd(':SOUR:FUNC:MODE:SEGM 1')\n",
    "inst.send_scpi_cmd(':OUTP ON')\n",
    "resp = inst.send_scpi_query(':SYST:ERR?')\n",
    "print(resp)\n",
    "\n",
    "# AWG Channl 2 (output) should be connected to scope input 2\n",
    "inst.send_scpi_cmd(':INST:CHAN 2')\n",
    "inst.send_scpi_cmd(':SOUR:FUNC:MODE:SEGM 2')\n",
    "inst.send_scpi_cmd(':OUTP ON')\n",
    "resp = inst.send_scpi_query(':SYST:ERR?')\n",
    "print(resp)\n",
    "\n",
    "# chande DAC clock to 2500MHz\n",
    "inst.send_scpi_cmd(':SOUR:FREQ 2.5e9')\n",
    "resp = inst.send_scpi_query(':SYST:ERR?')\n",
    "print(resp)"
   ]
  },
  {
   "cell_type": "markdown",
   "metadata": {},
   "source": [
    "#### at this point we should see a sin wave and a cos wave on the scope\n",
    "\n",
    "#### switching to modulation mode"
   ]
  },
  {
   "cell_type": "code",
   "execution_count": 9,
   "metadata": {},
   "outputs": [
    {
     "name": "stdout",
     "output_type": "stream",
     "text": [
      "0, no error\n",
      "208, syntax error in scpi\n",
      "208, syntax error in scpi\n",
      "0, no error\n",
      "0, no error\n"
     ]
    }
   ],
   "source": [
    "# set Proteus to interpolation X8.\n",
    "inst.send_scpi_cmd(':SOUR:INT ' + str(Interpolation))\n",
    "resp = inst.send_scpi_query(':SYST:ERR?')\n",
    "print(resp)\n",
    "\n",
    "# set NCOab frequency of DUC1\n",
    "inst.send_scpi_cmd(':INST:CHAN 1')\n",
    "inst.send_scpi_cmd(':SOUR:CFR 100.0e6')\n",
    "resp = inst.send_scpi_query(':SYST:ERR?')\n",
    "print(resp)\n",
    "\n",
    "# set NCOab frequency of DUC2 incase Interpolation is X1,X2,X4\n",
    "inst.send_scpi_cmd(':INST:CHAN 2')\n",
    "inst.send_scpi_cmd(':SOUR:CFR 100.0e6')\n",
    "resp = inst.send_scpi_query(':SYST:ERR?')\n",
    "print(resp)\n",
    "\n",
    "# set modulation to HALF\n",
    "inst.send_scpi_cmd(':SOUR:IQM HALF')\n",
    "resp = inst.send_scpi_query(':SYST:ERR?')\n",
    "print(resp)\n",
    "\n",
    "# chande DAC clock to 9000Hz\n",
    "inst.send_scpi_cmd(':SOUR:FREQ ' + str(maxRate))\n",
    "resp = inst.send_scpi_query(':SYST:ERR?')\n",
    "print(resp)\n"
   ]
  },
  {
   "cell_type": "code",
   "execution_count": 10,
   "metadata": {},
   "outputs": [
    {
     "data": {
      "text/plain": [
       "0"
      ]
     },
     "execution_count": 10,
     "metadata": {},
     "output_type": "execute_result"
    }
   ],
   "source": [
    "inst.send_scpi_cmd(':INST:CHAN 1', paranoia_level=0)"
   ]
  },
  {
   "cell_type": "markdown",
   "metadata": {},
   "source": [
    "## read debug registers"
   ]
  },
  {
   "cell_type": "code",
   "execution_count": 12,
   "metadata": {},
   "outputs": [],
   "source": [
    "import tempfile\n",
    "import webbrowser\n",
    "Debug = False\n",
    "if Debug == True :\n",
    "    channb = 1\n",
    "    cmd = ':INST:CHAN {0}; :SYST:INF:REG?'.format(channb)\n",
    "    html_str = inst.send_scpi_query(cmd, max_resp_len=200000)\n",
    "    #print(html_str)\n",
    "    with tempfile.NamedTemporaryFile('w', delete=False, suffix='.html') as f:\n",
    "        url = 'file://' + f.name\n",
    "        f.write(html_str)\n",
    "    webbrowser.open(url)"
   ]
  },
  {
   "cell_type": "markdown",
   "metadata": {},
   "source": [
    "## End"
   ]
  },
  {
   "cell_type": "code",
   "execution_count": 13,
   "metadata": {},
   "outputs": [],
   "source": [
    "# Disconnect\n",
    "print_conn_message('')\n",
    "disconnect()"
   ]
  },
  {
   "cell_type": "code",
   "execution_count": null,
   "metadata": {},
   "outputs": [],
   "source": []
  }
 ],
 "metadata": {
  "kernelspec": {
   "display_name": "Python 3",
   "language": "python",
   "name": "python3"
  },
  "language_info": {
   "codemirror_mode": {
    "name": "ipython",
    "version": 3
   },
   "file_extension": ".py",
   "mimetype": "text/x-python",
   "name": "python",
   "nbconvert_exporter": "python",
   "pygments_lexer": "ipython3",
   "version": "3.8.5"
  }
 },
 "nbformat": 4,
 "nbformat_minor": 2
}
